{
 "cells": [
  {
   "attachments": {},
   "cell_type": "markdown",
   "metadata": {},
   "source": [
    "# Baseline models training\n",
    "\n",
    "Notebook contains training and validation of XGBoost models without any previous experiments on data.  We check 4 different prediction cases:\n",
    "- All cancer types together, multiclass classification (stages: I, II, III, IV)\n",
    "- All cancer types together, binary classification (stages: I-III vs IV)\n",
    "- Only the most numerous types of cancer (each one separately), multiclass classification (stages: I, II, III, IV)\n",
    "- Only the most numerous types of cancer (each one separately), binary classification (stages: I-III vs IV)\n",
    "\n",
    "Outcomes can be treated as baseline results."
   ]
  },
  {
   "cell_type": "code",
   "execution_count": 83,
   "metadata": {
    "ExecuteTime": {
     "end_time": "2023-04-16T18:50:02.298398Z",
     "start_time": "2023-04-16T18:50:01.737736Z"
    }
   },
   "outputs": [],
   "source": [
    "import os\n",
    "import optuna\n",
    "import numpy as np\n",
    "import pandas as pd\n",
    "import seaborn as sns\n",
    "import matplotlib.pyplot as plt\n",
    "from functools import partial\n",
    "from xgboost.sklearn import XGBClassifier\n",
    "from sklearn.metrics import f1_score, accuracy_score, classification_report, confusion_matrix\n",
    "from sklearn.model_selection import StratifiedKFold\n",
    "\n",
    "import warnings\n",
    "warnings.filterwarnings('ignore')"
   ]
  },
  {
   "attachments": {},
   "cell_type": "markdown",
   "metadata": {},
   "source": [
    "Define random seed to allow reproducibility"
   ]
  },
  {
   "cell_type": "code",
   "execution_count": 84,
   "metadata": {
    "ExecuteTime": {
     "end_time": "2023-04-16T18:50:03.902753Z",
     "start_time": "2023-04-16T18:50:03.887066Z"
    }
   },
   "outputs": [],
   "source": [
    "random_state = 42\n",
    "np.random.seed(random_state)"
   ]
  },
  {
   "attachments": {},
   "cell_type": "markdown",
   "metadata": {},
   "source": [
    "Load training data"
   ]
  },
  {
   "cell_type": "code",
   "execution_count": 85,
   "metadata": {
    "ExecuteTime": {
     "end_time": "2023-04-16T18:50:05.856827Z",
     "start_time": "2023-04-16T18:50:05.290709Z"
    }
   },
   "outputs": [
    {
     "name": "stdout",
     "output_type": "stream",
     "text": [
      "<class 'pandas.core.frame.DataFrame'>\n",
      "RangeIndex: 562 entries, 0 to 561\n",
      "Columns: 191 entries, ID to ENSG00000271043\n",
      "dtypes: float64(187), object(4)\n",
      "memory usage: 838.7+ KB\n"
     ]
    }
   ],
   "source": [
    "data_path = '~/Documents/STUDIA/Projekt_badawczy/moje/TEPS_Data_preparation_data_sample_info/cleaned'\n",
    "\n",
    "train = pd.read_csv(os.path.join(data_path, 'train.csv'), sep=';')\n",
    "train.info()"
   ]
  },
  {
   "attachments": {},
   "cell_type": "markdown",
   "metadata": {},
   "source": [
    "### All cancer types together, multiclass classification (stages: I, II, III, IV)"
   ]
  },
  {
   "attachments": {},
   "cell_type": "markdown",
   "metadata": {},
   "source": [
    "Extract cancer types and stages to perform cross validation in a stratified way\n",
    "\n",
    "Remove unnecessary columns: ID, Group, Sex and Age"
   ]
  },
  {
   "cell_type": "code",
   "execution_count": 86,
   "metadata": {
    "ExecuteTime": {
     "end_time": "2023-04-16T18:50:08.573876Z",
     "start_time": "2023-04-16T18:50:08.464637Z"
    }
   },
   "outputs": [],
   "source": [
    "X_train = train.copy(deep=True)\n",
    "\n",
    "stratification_groups = X_train.apply(lambda row: f\"{row['Group'].replace(' ', '_')}_{row['Stage']}\", axis=1)\n",
    "X_train = X_train.loc[:, ~X_train.columns.isin(['ID','RealLocation', 'Group'])]"
   ]
  },
  {
   "attachments": {},
   "cell_type": "markdown",
   "metadata": {},
   "source": [
    "Encode labels"
   ]
  },
  {
   "cell_type": "code",
   "execution_count": 87,
   "metadata": {
    "ExecuteTime": {
     "end_time": "2023-04-16T18:50:09.590990Z",
     "start_time": "2023-04-16T18:50:09.575334Z"
    }
   },
   "outputs": [
    {
     "data": {
      "text/plain": [
       "3    348\n",
       "2     84\n",
       "1     81\n",
       "0     49\n",
       "Name: Stage, dtype: int64"
      ]
     },
     "execution_count": 87,
     "metadata": {},
     "output_type": "execute_result"
    }
   ],
   "source": [
    "# labels_encoding_location = {\n",
    "#     'VUMC': 0,\n",
    "#     'MGH':  1,\n",
    "#     'NKI':  2,\n",
    "#     'Gron':  3,\n",
    "#     'Gdansk': 4,\n",
    "#     'AMC':  5,\n",
    "#     'MAAS': 6,\n",
    "#     'Pang': 7,\n",
    "#     'Pisa': 8\n",
    "# }\n",
    "# X_train.loc[:, 'RealLocation'] = X_train['RealLocation'].map(labels_encoding_location)\n",
    "\n",
    "# labels_encoding_group = {\n",
    "#     'NSCLC': 0,\n",
    "#     'Ovarian cancer':  1,\n",
    "#     'Pancreatic cancer':  2,\n",
    "#     'Cholangiocarcinoma':  3,\n",
    "#     'Colorectal cancer': 4,\n",
    "#     'Endometrial cancer':  5,\n",
    "#     'Hepatocellular carcinoma': 6,\n",
    "#     'Esophageal carcinoma': 7,\n",
    "# }\n",
    "# X_train.loc[:, 'Group'] = X_train['Group'].map(labels_encoding_group)\n",
    "\n",
    "labels_encoding_sex = {\n",
    "    'F': 0,\n",
    "    'M': 1\n",
    "}\n",
    "X_train.loc[:, 'Sex'] = X_train['Sex'].map(labels_encoding_sex)\n",
    "\n",
    "labels_encoding = {\n",
    "    'I': 0,\n",
    "    'II': 1,\n",
    "    'III': 2,\n",
    "    'IV': 3\n",
    "}\n",
    "X_train.loc[:, 'Stage'] = X_train['Stage'].map(labels_encoding)\n",
    "\n",
    "X_train['Stage'].value_counts()"
   ]
  },
  {
   "cell_type": "code",
   "execution_count": 88,
   "metadata": {},
   "outputs": [],
   "source": [
    "# X_train['Group'].value_counts()"
   ]
  },
  {
   "cell_type": "code",
   "execution_count": 89,
   "metadata": {},
   "outputs": [
    {
     "data": {
      "text/html": [
       "<div>\n",
       "<style scoped>\n",
       "    .dataframe tbody tr th:only-of-type {\n",
       "        vertical-align: middle;\n",
       "    }\n",
       "\n",
       "    .dataframe tbody tr th {\n",
       "        vertical-align: top;\n",
       "    }\n",
       "\n",
       "    .dataframe thead th {\n",
       "        text-align: right;\n",
       "    }\n",
       "</style>\n",
       "<table border=\"1\" class=\"dataframe\">\n",
       "  <thead>\n",
       "    <tr style=\"text-align: right;\">\n",
       "      <th></th>\n",
       "      <th>Sex</th>\n",
       "      <th>Age</th>\n",
       "      <th>Stage</th>\n",
       "      <th>ENSG00000010404</th>\n",
       "      <th>ENSG00000014216</th>\n",
       "      <th>ENSG00000025796</th>\n",
       "      <th>ENSG00000042753</th>\n",
       "      <th>ENSG00000044574</th>\n",
       "      <th>ENSG00000053254</th>\n",
       "      <th>ENSG00000062194</th>\n",
       "      <th>...</th>\n",
       "      <th>ENSG00000233614</th>\n",
       "      <th>ENSG00000236875</th>\n",
       "      <th>ENSG00000237805</th>\n",
       "      <th>ENSG00000237973</th>\n",
       "      <th>ENSG00000241468</th>\n",
       "      <th>ENSG00000243449</th>\n",
       "      <th>ENSG00000255633</th>\n",
       "      <th>ENSG00000255823</th>\n",
       "      <th>ENSG00000269028</th>\n",
       "      <th>ENSG00000271043</th>\n",
       "    </tr>\n",
       "  </thead>\n",
       "  <tbody>\n",
       "    <tr>\n",
       "      <th>0</th>\n",
       "      <td>0</td>\n",
       "      <td>57.0</td>\n",
       "      <td>2</td>\n",
       "      <td>5.463555</td>\n",
       "      <td>9.760782</td>\n",
       "      <td>4.741108</td>\n",
       "      <td>6.942829</td>\n",
       "      <td>4.025145</td>\n",
       "      <td>4.097370</td>\n",
       "      <td>5.346144</td>\n",
       "      <td>...</td>\n",
       "      <td>6.748460</td>\n",
       "      <td>4.782774</td>\n",
       "      <td>4.320885</td>\n",
       "      <td>3.907697</td>\n",
       "      <td>3.907697</td>\n",
       "      <td>2.923800</td>\n",
       "      <td>3.776635</td>\n",
       "      <td>5.026179</td>\n",
       "      <td>6.664850</td>\n",
       "      <td>5.232786</td>\n",
       "    </tr>\n",
       "    <tr>\n",
       "      <th>1</th>\n",
       "      <td>1</td>\n",
       "      <td>63.0</td>\n",
       "      <td>3</td>\n",
       "      <td>4.440197</td>\n",
       "      <td>9.002281</td>\n",
       "      <td>6.661015</td>\n",
       "      <td>7.358500</td>\n",
       "      <td>5.751015</td>\n",
       "      <td>4.440197</td>\n",
       "      <td>7.166630</td>\n",
       "      <td>...</td>\n",
       "      <td>6.748099</td>\n",
       "      <td>5.245755</td>\n",
       "      <td>4.644626</td>\n",
       "      <td>4.054591</td>\n",
       "      <td>5.570080</td>\n",
       "      <td>5.872990</td>\n",
       "      <td>3.160626</td>\n",
       "      <td>4.196908</td>\n",
       "      <td>5.751015</td>\n",
       "      <td>4.196908</td>\n",
       "    </tr>\n",
       "    <tr>\n",
       "      <th>2</th>\n",
       "      <td>1</td>\n",
       "      <td>68.0</td>\n",
       "      <td>3</td>\n",
       "      <td>5.204413</td>\n",
       "      <td>10.472744</td>\n",
       "      <td>4.751953</td>\n",
       "      <td>6.689006</td>\n",
       "      <td>4.059333</td>\n",
       "      <td>4.482205</td>\n",
       "      <td>5.948256</td>\n",
       "      <td>...</td>\n",
       "      <td>7.686615</td>\n",
       "      <td>5.700639</td>\n",
       "      <td>4.596811</td>\n",
       "      <td>4.288587</td>\n",
       "      <td>4.976298</td>\n",
       "      <td>3.774516</td>\n",
       "      <td>3.877626</td>\n",
       "      <td>4.976298</td>\n",
       "      <td>6.818360</td>\n",
       "      <td>5.517021</td>\n",
       "    </tr>\n",
       "    <tr>\n",
       "      <th>3</th>\n",
       "      <td>1</td>\n",
       "      <td>82.0</td>\n",
       "      <td>3</td>\n",
       "      <td>6.115366</td>\n",
       "      <td>9.944259</td>\n",
       "      <td>5.186029</td>\n",
       "      <td>6.401231</td>\n",
       "      <td>6.065827</td>\n",
       "      <td>3.528759</td>\n",
       "      <td>5.725779</td>\n",
       "      <td>...</td>\n",
       "      <td>7.048001</td>\n",
       "      <td>5.693390</td>\n",
       "      <td>4.870013</td>\n",
       "      <td>3.325431</td>\n",
       "      <td>4.456606</td>\n",
       "      <td>3.053602</td>\n",
       "      <td>2.377126</td>\n",
       "      <td>2.377126</td>\n",
       "      <td>3.528759</td>\n",
       "      <td>3.053602</td>\n",
       "    </tr>\n",
       "    <tr>\n",
       "      <th>4</th>\n",
       "      <td>0</td>\n",
       "      <td>57.0</td>\n",
       "      <td>3</td>\n",
       "      <td>2.377126</td>\n",
       "      <td>8.675059</td>\n",
       "      <td>5.841736</td>\n",
       "      <td>6.633558</td>\n",
       "      <td>3.575373</td>\n",
       "      <td>3.575373</td>\n",
       "      <td>5.098731</td>\n",
       "      <td>...</td>\n",
       "      <td>6.488220</td>\n",
       "      <td>4.612638</td>\n",
       "      <td>4.612638</td>\n",
       "      <td>5.098731</td>\n",
       "      <td>4.828459</td>\n",
       "      <td>4.724905</td>\n",
       "      <td>4.029092</td>\n",
       "      <td>6.633558</td>\n",
       "      <td>8.240679</td>\n",
       "      <td>6.765517</td>\n",
       "    </tr>\n",
       "  </tbody>\n",
       "</table>\n",
       "<p>5 rows × 189 columns</p>\n",
       "</div>"
      ],
      "text/plain": [
       "   Sex   Age  Stage  ENSG00000010404  ENSG00000014216  ENSG00000025796  \\\n",
       "0    0  57.0      2         5.463555         9.760782         4.741108   \n",
       "1    1  63.0      3         4.440197         9.002281         6.661015   \n",
       "2    1  68.0      3         5.204413        10.472744         4.751953   \n",
       "3    1  82.0      3         6.115366         9.944259         5.186029   \n",
       "4    0  57.0      3         2.377126         8.675059         5.841736   \n",
       "\n",
       "   ENSG00000042753  ENSG00000044574  ENSG00000053254  ENSG00000062194  ...  \\\n",
       "0         6.942829         4.025145         4.097370         5.346144  ...   \n",
       "1         7.358500         5.751015         4.440197         7.166630  ...   \n",
       "2         6.689006         4.059333         4.482205         5.948256  ...   \n",
       "3         6.401231         6.065827         3.528759         5.725779  ...   \n",
       "4         6.633558         3.575373         3.575373         5.098731  ...   \n",
       "\n",
       "   ENSG00000233614  ENSG00000236875  ENSG00000237805  ENSG00000237973  \\\n",
       "0         6.748460         4.782774         4.320885         3.907697   \n",
       "1         6.748099         5.245755         4.644626         4.054591   \n",
       "2         7.686615         5.700639         4.596811         4.288587   \n",
       "3         7.048001         5.693390         4.870013         3.325431   \n",
       "4         6.488220         4.612638         4.612638         5.098731   \n",
       "\n",
       "   ENSG00000241468  ENSG00000243449  ENSG00000255633  ENSG00000255823  \\\n",
       "0         3.907697         2.923800         3.776635         5.026179   \n",
       "1         5.570080         5.872990         3.160626         4.196908   \n",
       "2         4.976298         3.774516         3.877626         4.976298   \n",
       "3         4.456606         3.053602         2.377126         2.377126   \n",
       "4         4.828459         4.724905         4.029092         6.633558   \n",
       "\n",
       "   ENSG00000269028  ENSG00000271043  \n",
       "0         6.664850         5.232786  \n",
       "1         5.751015         4.196908  \n",
       "2         6.818360         5.517021  \n",
       "3         3.528759         3.053602  \n",
       "4         8.240679         6.765517  \n",
       "\n",
       "[5 rows x 189 columns]"
      ]
     },
     "execution_count": 89,
     "metadata": {},
     "output_type": "execute_result"
    }
   ],
   "source": [
    "X_train.head(5)"
   ]
  },
  {
   "attachments": {},
   "cell_type": "markdown",
   "metadata": {},
   "source": [
    "Define functions for cross-validation in a stratified way: one for hyperparameters optimization (returns only mean score) and a second for validation of the model with best params (returns predictions)"
   ]
  },
  {
   "cell_type": "code",
   "execution_count": 90,
   "metadata": {
    "ExecuteTime": {
     "end_time": "2023-04-16T18:50:11.565483Z",
     "start_time": "2023-04-16T18:50:11.549855Z"
    }
   },
   "outputs": [],
   "source": [
    "def stratified_cross_val_score(\n",
    "        estimator,\n",
    "        df,\n",
    "        stratification_groups,\n",
    "        label_col,\n",
    "        scoring,\n",
    "        n_splits\n",
    "):\n",
    "    scores = np.zeros(n_splits)\n",
    "    skf = StratifiedKFold(n_splits=n_splits)\n",
    "\n",
    "    for i, (train_index, test_index) in enumerate(skf.split(df, stratification_groups)):\n",
    "        y = df.loc[:, label_col]\n",
    "        X = df.drop(columns=[label_col])\n",
    "\n",
    "        estimator.fit(X=X.iloc[train_index], y=y.iloc[train_index], verbose=False)\n",
    "\n",
    "        y_true = y.iloc[test_index]\n",
    "        y_pred = estimator.predict(X.iloc[test_index])\n",
    "        scores[i] = scoring(list(y_true), y_pred)\n",
    "\n",
    "    return scores\n",
    "\n",
    "\n",
    "def stratified_cross_val_predict(\n",
    "        estimator,\n",
    "        df,\n",
    "        stratification_groups,\n",
    "        label_col,\n",
    "        n_splits=5\n",
    "):\n",
    "    y_pred = np.zeros(len(df))\n",
    "    skf = StratifiedKFold(n_splits=n_splits)\n",
    "\n",
    "    for train_index, test_index in skf.split(df, stratification_groups):\n",
    "        y = df.loc[:, label_col]\n",
    "        X = df.drop(columns=[label_col])\n",
    "\n",
    "        estimator.fit(X=X.iloc[train_index], y=y.iloc[train_index], verbose=False)\n",
    "        y_pred[test_index] = estimator.predict(X.iloc[test_index])\n",
    "\n",
    "    return y_pred"
   ]
  },
  {
   "attachments": {},
   "cell_type": "markdown",
   "metadata": {},
   "source": [
    "Define objective function for hyperparameters optimization using Optuna"
   ]
  },
  {
   "cell_type": "code",
   "execution_count": 91,
   "metadata": {
    "ExecuteTime": {
     "end_time": "2023-04-16T18:50:12.858067Z",
     "start_time": "2023-04-16T18:50:12.843060Z"
    }
   },
   "outputs": [],
   "source": [
    "def objective(trial: optuna.Trial, X_train, stratification_groups, xgb_config, scoring):\n",
    "    params = {\n",
    "        'n_estimators': trial.suggest_int('n_estimators', 20, 200),\n",
    "        'max_depth': trial.suggest_int('max_depth', 6,12),\n",
    "        'learning_rate': trial.suggest_float('learning_rate', 0.001, 0.1),\n",
    "        'subsample': trial.suggest_float('subsample', 0.8, 1.0),\n",
    "        'colsample_bytree': trial.suggest_float('colsample_bytree', 0.8, 1.0),\n",
    "        'gamma': trial.suggest_float('gamma', 0.0, 0.4),\n",
    "        **xgb_config\n",
    "    }\n",
    "\n",
    "    xgb = XGBClassifier(**params)\n",
    "\n",
    "    scores = stratified_cross_val_score(\n",
    "        estimator=xgb,\n",
    "        df=X_train,\n",
    "        stratification_groups=stratification_groups,\n",
    "        label_col='Stage',\n",
    "        scoring=scoring,\n",
    "        n_splits=4\n",
    "    )\n",
    "\n",
    "    return scores.mean()"
   ]
  },
  {
   "attachments": {},
   "cell_type": "markdown",
   "metadata": {},
   "source": [
    "Since the classes are pretty imbalanced we use the weighted-average F1 metric for optimization"
   ]
  },
  {
   "cell_type": "code",
   "execution_count": 92,
   "metadata": {},
   "outputs": [],
   "source": [
    "xgb_config = {\n",
    "    'objective': 'multi:softmax',\n",
    "    'random_state': random_state,\n",
    "    'num_class': 4,\n",
    "}"
   ]
  },
  {
   "cell_type": "code",
   "execution_count": 93,
   "metadata": {
    "ExecuteTime": {
     "end_time": "2023-04-16T19:42:52.340448Z",
     "start_time": "2023-04-16T18:50:14.663150Z"
    }
   },
   "outputs": [
    {
     "name": "stderr",
     "output_type": "stream",
     "text": [
      "\u001b[32m[I 2023-06-03 18:02:22,992]\u001b[0m A new study created in memory with name: no-name-8f83a4f6-7b5b-4e2d-9dfa-1319471450ef\u001b[0m\n",
      "\u001b[32m[I 2023-06-03 18:02:25,338]\u001b[0m Trial 0 finished with value: 0.594748023839295 and parameters: {'n_estimators': 138, 'max_depth': 7, 'learning_rate': 0.09045003007326347, 'subsample': 0.8276946075209218, 'colsample_bytree': 0.9190500944476495, 'gamma': 0.207061717032803}. Best is trial 0 with value: 0.594748023839295.\u001b[0m\n",
      "\u001b[32m[I 2023-06-03 18:02:27,795]\u001b[0m Trial 1 finished with value: 0.5909768041904627 and parameters: {'n_estimators': 82, 'max_depth': 11, 'learning_rate': 0.004476604712421157, 'subsample': 0.9614955551899622, 'colsample_bytree': 0.8828180383698129, 'gamma': 0.005806003216072542}. Best is trial 0 with value: 0.594748023839295.\u001b[0m\n",
      "\u001b[32m[I 2023-06-03 18:02:31,611]\u001b[0m Trial 2 finished with value: 0.6012116015147108 and parameters: {'n_estimators': 175, 'max_depth': 10, 'learning_rate': 0.03342242950587245, 'subsample': 0.8763659597639977, 'colsample_bytree': 0.8810635193136191, 'gamma': 0.37337668606729507}. Best is trial 2 with value: 0.6012116015147108.\u001b[0m\n",
      "\u001b[32m[I 2023-06-03 18:02:32,143]\u001b[0m Trial 3 finished with value: 0.5731457240213635 and parameters: {'n_estimators': 20, 'max_depth': 9, 'learning_rate': 0.066590008704662, 'subsample': 0.8303755265372937, 'colsample_bytree': 0.8406562172510283, 'gamma': 0.14070090227735843}. Best is trial 2 with value: 0.6012116015147108.\u001b[0m\n",
      "\u001b[32m[I 2023-06-03 18:02:33,920]\u001b[0m Trial 4 finished with value: 0.6008979621859004 and parameters: {'n_estimators': 68, 'max_depth': 9, 'learning_rate': 0.08339645382797838, 'subsample': 0.9930144885600628, 'colsample_bytree': 0.964705646535253, 'gamma': 0.039169515914947044}. Best is trial 2 with value: 0.6012116015147108.\u001b[0m\n",
      "\u001b[32m[I 2023-06-03 18:02:35,927]\u001b[0m Trial 5 finished with value: 0.5841593889457921 and parameters: {'n_estimators': 117, 'max_depth': 7, 'learning_rate': 0.08411280098805082, 'subsample': 0.8448311695936872, 'colsample_bytree': 0.8637065548097737, 'gamma': 0.15047858327319164}. Best is trial 2 with value: 0.6012116015147108.\u001b[0m\n",
      "\u001b[32m[I 2023-06-03 18:02:38,764]\u001b[0m Trial 6 finished with value: 0.594170250346946 and parameters: {'n_estimators': 152, 'max_depth': 8, 'learning_rate': 0.09819272454202883, 'subsample': 0.8292708689467381, 'colsample_bytree': 0.869327125862152, 'gamma': 0.32180383474400154}. Best is trial 2 with value: 0.6012116015147108.\u001b[0m\n",
      "\u001b[32m[I 2023-06-03 18:02:40,532]\u001b[0m Trial 7 finished with value: 0.5856180469174992 and parameters: {'n_estimators': 64, 'max_depth': 8, 'learning_rate': 0.012837604476152856, 'subsample': 0.8816143725524896, 'colsample_bytree': 0.8067085128346558, 'gamma': 0.14607135929331036}. Best is trial 2 with value: 0.6012116015147108.\u001b[0m\n",
      "\u001b[32m[I 2023-06-03 18:02:42,158]\u001b[0m Trial 8 finished with value: 0.5813958863647899 and parameters: {'n_estimators': 59, 'max_depth': 10, 'learning_rate': 0.034295828722797024, 'subsample': 0.8514672530340783, 'colsample_bytree': 0.8448375434339614, 'gamma': 0.3304706050942931}. Best is trial 2 with value: 0.6012116015147108.\u001b[0m\n",
      "\u001b[32m[I 2023-06-03 18:02:45,871]\u001b[0m Trial 9 finished with value: 0.6129175598571177 and parameters: {'n_estimators': 179, 'max_depth': 10, 'learning_rate': 0.0522225278901784, 'subsample': 0.9679280237467367, 'colsample_bytree': 0.9883597241635325, 'gamma': 0.014330525600516576}. Best is trial 9 with value: 0.6129175598571177.\u001b[0m\n"
     ]
    }
   ],
   "source": [
    "\n",
    "scoring_func = partial(f1_score, average='weighted')\n",
    "objective_func = partial(\n",
    "    objective,\n",
    "    X_train=X_train,\n",
    "    stratification_groups=stratification_groups,\n",
    "    xgb_config=xgb_config,\n",
    "    scoring=scoring_func\n",
    ")\n",
    "\n",
    "study = optuna.create_study(direction='maximize')\n",
    "study.optimize(objective_func, n_trials=10)"
   ]
  },
  {
   "attachments": {},
   "cell_type": "markdown",
   "metadata": {},
   "source": [
    "Extract the best of the found hyperparameters and perform cross validation on the whole training set"
   ]
  },
  {
   "cell_type": "code",
   "execution_count": 94,
   "metadata": {
    "ExecuteTime": {
     "end_time": "2023-04-16T19:43:54.762903Z",
     "start_time": "2023-04-16T19:42:52.340448Z"
    }
   },
   "outputs": [],
   "source": [
    "best_params = {\n",
    "    # 70% (n_splits=5)\n",
    "    #'n_estimators': 138, 'max_depth': 11, 'learning_rate': 0.0011767053011119924, 'subsample': 0.7397581181087902, 'colsample_bytree': 0.9715984571225978, 'gamma': 0.11395604621847816,\n",
    "    **study.best_params,\n",
    "    **xgb_config\n",
    "}\n",
    "\n",
    "best_xgb = XGBClassifier(**best_params)\n",
    "y_pred = stratified_cross_val_predict(\n",
    "    estimator=best_xgb,\n",
    "    df=X_train,\n",
    "    stratification_groups=stratification_groups,\n",
    "    label_col='Stage',\n",
    "    n_splits=4\n",
    ")\n",
    "y_true = list(X_train['Stage'].values)"
   ]
  },
  {
   "attachments": {},
   "cell_type": "markdown",
   "metadata": {},
   "source": [
    "Define function for plotting confusion matrix"
   ]
  },
  {
   "cell_type": "code",
   "execution_count": 95,
   "metadata": {
    "ExecuteTime": {
     "end_time": "2023-04-16T19:43:54.778534Z",
     "start_time": "2023-04-16T19:43:54.762903Z"
    }
   },
   "outputs": [],
   "source": [
    "def plot_confusion_matrix(cm, labels, title):\n",
    "    df_cm = pd.DataFrame(cm, index=labels, columns=labels)\n",
    "    fig, ax = plt.subplots(figsize=(10, 6))\n",
    "    sns.heatmap(df_cm, annot=True, cmap='Blues', fmt='g', linewidths=1)\n",
    "    plt.setp(plt.gca().get_xticklabels(), ha=\"right\", rotation=45)\n",
    "    ax.set_ylabel('True Label')\n",
    "    ax.set_xlabel('Predicted Label')\n",
    "    ax.xaxis.set_ticks_position('top')\n",
    "    ax.xaxis.set_label_position('top')\n",
    "    ax.set_title(title, y=-0.1, fontsize=20)\n",
    "\n",
    "    fig.show()"
   ]
  },
  {
   "cell_type": "code",
   "execution_count": 96,
   "metadata": {
    "ExecuteTime": {
     "end_time": "2023-04-16T19:43:54.825409Z",
     "start_time": "2023-04-16T19:43:54.778534Z"
    }
   },
   "outputs": [
    {
     "name": "stdout",
     "output_type": "stream",
     "text": [
      "              precision    recall  f1-score   support\n",
      "\n",
      "           I       0.60      0.59      0.60        49\n",
      "          II       0.45      0.16      0.24        81\n",
      "         III       0.32      0.10      0.15        84\n",
      "          IV       0.72      0.95      0.82       348\n",
      "\n",
      "    accuracy                           0.68       562\n",
      "   macro avg       0.52      0.45      0.45       562\n",
      "weighted avg       0.61      0.68      0.61       562\n",
      "\n"
     ]
    }
   ],
   "source": [
    "labels = list(labels_encoding.keys())\n",
    "\n",
    "report = classification_report(y_true, y_pred.astype(int), target_names=labels)\n",
    "print(report)"
   ]
  },
  {
   "cell_type": "code",
   "execution_count": 97,
   "metadata": {
    "ExecuteTime": {
     "end_time": "2023-04-16T19:44:18.217413Z",
     "start_time": "2023-04-16T19:44:18.014288Z"
    }
   },
   "outputs": [
    {
     "data": {
      "image/png": "[encoded data removed]",
      "text/plain": [
       "<Figure size 1000x600 with 2 Axes>"
      ]
     },
     "metadata": {},
     "output_type": "display_data"
    }
   ],
   "source": [
    "accuracy = accuracy_score(y_true, y_pred.astype(int))\n",
    "f1 = f1_score(y_true, y_pred.astype(int), average='weighted')\n",
    "cm = confusion_matrix(y_true, y_pred.astype(int))\n",
    "\n",
    "title = f'Accuracy = {accuracy*100:.2f}%, Weighted F1 = {f1:.2f}'\n",
    "\n",
    "plot_confusion_matrix(cm, labels, title)"
   ]
  },
  {
   "attachments": {},
   "cell_type": "markdown",
   "metadata": {},
   "source": [
    "## All cancer types together, binary classification (stages: I-III vs IV)"
   ]
  },
  {
   "attachments": {},
   "cell_type": "markdown",
   "metadata": {},
   "source": [
    "Map first three stages to one mutual class \"I-III\""
   ]
  },
  {
   "cell_type": "code",
   "execution_count": 30,
   "metadata": {
    "ExecuteTime": {
     "end_time": "2023-04-16T19:44:57.623839Z",
     "start_time": "2023-04-16T19:44:57.577048Z"
    }
   },
   "outputs": [],
   "source": [
    "X_train = train.copy(deep=True)\n",
    "\n",
    "mapping = {\n",
    "    'I': 'I-III',\n",
    "    'II': 'I-III',\n",
    "    'III': 'I-III',\n",
    "    'IV': 'IV'\n",
    "}\n",
    "X_train.loc[:, 'Stage'] = X_train['Stage'].map(mapping)"
   ]
  },
  {
   "cell_type": "code",
   "execution_count": 31,
   "metadata": {
    "ExecuteTime": {
     "end_time": "2023-04-16T19:44:59.966154Z",
     "start_time": "2023-04-16T19:44:59.858127Z"
    }
   },
   "outputs": [],
   "source": [
    "stratification_groups = X_train.apply(lambda row: f\"{row['Group'].replace(' ', '_')}_{row['Stage']}\", axis=1)\n",
    "X_train = X_train.loc[:, ~train.columns.isin(['ID', 'Sex', 'Age', 'Group'])]"
   ]
  },
  {
   "attachments": {},
   "cell_type": "markdown",
   "metadata": {},
   "source": [
    "Encode labels"
   ]
  },
  {
   "cell_type": "code",
   "execution_count": 32,
   "metadata": {
    "ExecuteTime": {
     "end_time": "2023-04-16T19:45:02.831671Z",
     "start_time": "2023-04-16T19:45:02.816143Z"
    }
   },
   "outputs": [
    {
     "data": {
      "text/plain": [
       "1    372\n",
       "0    268\n",
       "Name: Stage, dtype: int64"
      ]
     },
     "execution_count": 32,
     "metadata": {},
     "output_type": "execute_result"
    }
   ],
   "source": [
    "labels_encoding = {\n",
    "    'I-III': 0,\n",
    "    'IV': 1\n",
    "}\n",
    "X_train.loc[:, 'Stage'] = X_train['Stage'].map(labels_encoding)\n",
    "\n",
    "X_train['Stage'].value_counts()"
   ]
  },
  {
   "attachments": {},
   "cell_type": "markdown",
   "metadata": {},
   "source": [
    "Run hyperparameters optimization"
   ]
  },
  {
   "cell_type": "code",
   "execution_count": 34,
   "metadata": {
    "ExecuteTime": {
     "end_time": "2023-04-16T20:08:39.915690Z",
     "start_time": "2023-04-16T19:45:07.201081Z"
    }
   },
   "outputs": [
    {
     "name": "stderr",
     "output_type": "stream",
     "text": [
      "\u001b[32m[I 2023-05-14 18:45:33,658]\u001b[0m A new study created in memory with name: no-name-2f100f15-0d4b-482c-aafd-a1af4ad78656\u001b[0m\n",
      "\u001b[33m[W 2023-05-14 18:45:33,684]\u001b[0m Trial 0 failed with parameters: {'n_estimators': 106, 'max_depth': 3, 'learning_rate': 0.1182950220997281, 'subsample': 0.8878587875577402, 'colsample_bytree': 0.8553717222148176, 'gamma': 0.1275917887543393} because of the following error: ValueError('DataFrame.dtypes for data must be int, float, bool or category. When categorical type is supplied, The experimental DMatrix parameter`enable_categorical` must be set to `True`.  Invalid columns:RealLocation: object').\u001b[0m\n",
      "Traceback (most recent call last):\n",
      "  File \"/home/dariusz/anaconda3/lib/python3.10/site-packages/optuna/study/_optimize.py\", line 200, in _run_trial\n",
      "    value_or_values = func(trial)\n",
      "  File \"/tmp/ipykernel_16669/1724731852.py\", line 14, in objective\n",
      "    scores = stratified_cross_val_score(\n",
      "  File \"/tmp/ipykernel_16669/1455692053.py\", line 16, in stratified_cross_val_score\n",
      "    estimator.fit(X=X.iloc[train_index], y=y.iloc[train_index], verbose=False)\n",
      "  File \"/home/dariusz/anaconda3/lib/python3.10/site-packages/xgboost/core.py\", line 620, in inner_f\n",
      "    return func(**kwargs)\n",
      "  File \"/home/dariusz/anaconda3/lib/python3.10/site-packages/xgboost/sklearn.py\", line 1471, in fit\n",
      "    train_dmatrix, evals = _wrap_evaluation_matrices(\n",
      "  File \"/home/dariusz/anaconda3/lib/python3.10/site-packages/xgboost/sklearn.py\", line 448, in _wrap_evaluation_matrices\n",
      "    train_dmatrix = create_dmatrix(\n",
      "  File \"/home/dariusz/anaconda3/lib/python3.10/site-packages/xgboost/sklearn.py\", line 908, in _create_dmatrix\n",
      "    return DMatrix(**kwargs, nthread=self.n_jobs)\n",
      "  File \"/home/dariusz/anaconda3/lib/python3.10/site-packages/xgboost/core.py\", line 620, in inner_f\n",
      "    return func(**kwargs)\n",
      "  File \"/home/dariusz/anaconda3/lib/python3.10/site-packages/xgboost/core.py\", line 743, in __init__\n",
      "    handle, feature_names, feature_types = dispatch_data_backend(\n",
      "  File \"/home/dariusz/anaconda3/lib/python3.10/site-packages/xgboost/data.py\", line 970, in dispatch_data_backend\n",
      "    return _from_pandas_df(data, enable_categorical, missing, threads,\n",
      "  File \"/home/dariusz/anaconda3/lib/python3.10/site-packages/xgboost/data.py\", line 417, in _from_pandas_df\n",
      "    data, feature_names, feature_types = _transform_pandas_df(\n",
      "  File \"/home/dariusz/anaconda3/lib/python3.10/site-packages/xgboost/data.py\", line 391, in _transform_pandas_df\n",
      "    _invalid_dataframe_dtype(data)\n",
      "  File \"/home/dariusz/anaconda3/lib/python3.10/site-packages/xgboost/data.py\", line 283, in _invalid_dataframe_dtype\n",
      "    raise ValueError(msg)\n",
      "ValueError: DataFrame.dtypes for data must be int, float, bool or category. When categorical type is supplied, The experimental DMatrix parameter`enable_categorical` must be set to `True`.  Invalid columns:RealLocation: object\n",
      "\u001b[33m[W 2023-05-14 18:45:33,686]\u001b[0m Trial 0 failed with value None.\u001b[0m\n"
     ]
    },
    {
     "ename": "ValueError",
     "evalue": "DataFrame.dtypes for data must be int, float, bool or category. When categorical type is supplied, The experimental DMatrix parameter`enable_categorical` must be set to `True`.  Invalid columns:RealLocation: object",
     "output_type": "error",
     "traceback": [
      "\u001b[0;31m---------------------------------------------------------------------------\u001b[0m",
      "\u001b[0;31mValueError\u001b[0m                                Traceback (most recent call last)",
      "Cell \u001b[0;32mIn[34], line 15\u001b[0m\n\u001b[1;32m      6\u001b[0m objective_func \u001b[39m=\u001b[39m partial(\n\u001b[1;32m      7\u001b[0m     objective,\n\u001b[1;32m      8\u001b[0m     X_train\u001b[39m=\u001b[39mX_train,\n\u001b[0;32m   (...)\u001b[0m\n\u001b[1;32m     11\u001b[0m     scoring\u001b[39m=\u001b[39mf1_score\n\u001b[1;32m     12\u001b[0m )\n\u001b[1;32m     14\u001b[0m study \u001b[39m=\u001b[39m optuna\u001b[39m.\u001b[39mcreate_study(direction\u001b[39m=\u001b[39m\u001b[39m'\u001b[39m\u001b[39mmaximize\u001b[39m\u001b[39m'\u001b[39m)\n\u001b[0;32m---> 15\u001b[0m study\u001b[39m.\u001b[39;49moptimize(objective_func, n_trials\u001b[39m=\u001b[39;49m\u001b[39m100\u001b[39;49m)\n",
      "File \u001b[0;32m~/anaconda3/lib/python3.10/site-packages/optuna/study/study.py:425\u001b[0m, in \u001b[0;36mStudy.optimize\u001b[0;34m(self, func, n_trials, timeout, n_jobs, catch, callbacks, gc_after_trial, show_progress_bar)\u001b[0m\n\u001b[1;32m    321\u001b[0m \u001b[39mdef\u001b[39;00m \u001b[39moptimize\u001b[39m(\n\u001b[1;32m    322\u001b[0m     \u001b[39mself\u001b[39m,\n\u001b[1;32m    323\u001b[0m     func: ObjectiveFuncType,\n\u001b[0;32m   (...)\u001b[0m\n\u001b[1;32m    330\u001b[0m     show_progress_bar: \u001b[39mbool\u001b[39m \u001b[39m=\u001b[39m \u001b[39mFalse\u001b[39;00m,\n\u001b[1;32m    331\u001b[0m ) \u001b[39m-\u001b[39m\u001b[39m>\u001b[39m \u001b[39mNone\u001b[39;00m:\n\u001b[1;32m    332\u001b[0m     \u001b[39m\"\"\"Optimize an objective function.\u001b[39;00m\n\u001b[1;32m    333\u001b[0m \n\u001b[1;32m    334\u001b[0m \u001b[39m    Optimization is done by choosing a suitable set of hyperparameter values from a given\u001b[39;00m\n\u001b[0;32m   (...)\u001b[0m\n\u001b[1;32m    422\u001b[0m \u001b[39m            If nested invocation of this method occurs.\u001b[39;00m\n\u001b[1;32m    423\u001b[0m \u001b[39m    \"\"\"\u001b[39;00m\n\u001b[0;32m--> 425\u001b[0m     _optimize(\n\u001b[1;32m    426\u001b[0m         study\u001b[39m=\u001b[39;49m\u001b[39mself\u001b[39;49m,\n\u001b[1;32m    427\u001b[0m         func\u001b[39m=\u001b[39;49mfunc,\n\u001b[1;32m    428\u001b[0m         n_trials\u001b[39m=\u001b[39;49mn_trials,\n\u001b[1;32m    429\u001b[0m         timeout\u001b[39m=\u001b[39;49mtimeout,\n\u001b[1;32m    430\u001b[0m         n_jobs\u001b[39m=\u001b[39;49mn_jobs,\n\u001b[1;32m    431\u001b[0m         catch\u001b[39m=\u001b[39;49m\u001b[39mtuple\u001b[39;49m(catch) \u001b[39mif\u001b[39;49;00m \u001b[39misinstance\u001b[39;49m(catch, Iterable) \u001b[39melse\u001b[39;49;00m (catch,),\n\u001b[1;32m    432\u001b[0m         callbacks\u001b[39m=\u001b[39;49mcallbacks,\n\u001b[1;32m    433\u001b[0m         gc_after_trial\u001b[39m=\u001b[39;49mgc_after_trial,\n\u001b[1;32m    434\u001b[0m         show_progress_bar\u001b[39m=\u001b[39;49mshow_progress_bar,\n\u001b[1;32m    435\u001b[0m     )\n",
      "File \u001b[0;32m~/anaconda3/lib/python3.10/site-packages/optuna/study/_optimize.py:66\u001b[0m, in \u001b[0;36m_optimize\u001b[0;34m(study, func, n_trials, timeout, n_jobs, catch, callbacks, gc_after_trial, show_progress_bar)\u001b[0m\n\u001b[1;32m     64\u001b[0m \u001b[39mtry\u001b[39;00m:\n\u001b[1;32m     65\u001b[0m     \u001b[39mif\u001b[39;00m n_jobs \u001b[39m==\u001b[39m \u001b[39m1\u001b[39m:\n\u001b[0;32m---> 66\u001b[0m         _optimize_sequential(\n\u001b[1;32m     67\u001b[0m             study,\n\u001b[1;32m     68\u001b[0m             func,\n\u001b[1;32m     69\u001b[0m             n_trials,\n\u001b[1;32m     70\u001b[0m             timeout,\n\u001b[1;32m     71\u001b[0m             catch,\n\u001b[1;32m     72\u001b[0m             callbacks,\n\u001b[1;32m     73\u001b[0m             gc_after_trial,\n\u001b[1;32m     74\u001b[0m             reseed_sampler_rng\u001b[39m=\u001b[39;49m\u001b[39mFalse\u001b[39;49;00m,\n\u001b[1;32m     75\u001b[0m             time_start\u001b[39m=\u001b[39;49m\u001b[39mNone\u001b[39;49;00m,\n\u001b[1;32m     76\u001b[0m             progress_bar\u001b[39m=\u001b[39;49mprogress_bar,\n\u001b[1;32m     77\u001b[0m         )\n\u001b[1;32m     78\u001b[0m     \u001b[39melse\u001b[39;00m:\n\u001b[1;32m     79\u001b[0m         \u001b[39mif\u001b[39;00m n_jobs \u001b[39m==\u001b[39m \u001b[39m-\u001b[39m\u001b[39m1\u001b[39m:\n",
      "File \u001b[0;32m~/anaconda3/lib/python3.10/site-packages/optuna/study/_optimize.py:163\u001b[0m, in \u001b[0;36m_optimize_sequential\u001b[0;34m(study, func, n_trials, timeout, catch, callbacks, gc_after_trial, reseed_sampler_rng, time_start, progress_bar)\u001b[0m\n\u001b[1;32m    160\u001b[0m         \u001b[39mbreak\u001b[39;00m\n\u001b[1;32m    162\u001b[0m \u001b[39mtry\u001b[39;00m:\n\u001b[0;32m--> 163\u001b[0m     frozen_trial \u001b[39m=\u001b[39m _run_trial(study, func, catch)\n\u001b[1;32m    164\u001b[0m \u001b[39mfinally\u001b[39;00m:\n\u001b[1;32m    165\u001b[0m     \u001b[39m# The following line mitigates memory problems that can be occurred in some\u001b[39;00m\n\u001b[1;32m    166\u001b[0m     \u001b[39m# environments (e.g., services that use computing containers such as GitHub Actions).\u001b[39;00m\n\u001b[1;32m    167\u001b[0m     \u001b[39m# Please refer to the following PR for further details:\u001b[39;00m\n\u001b[1;32m    168\u001b[0m     \u001b[39m# https://github.com/optuna/optuna/pull/325.\u001b[39;00m\n\u001b[1;32m    169\u001b[0m     \u001b[39mif\u001b[39;00m gc_after_trial:\n",
      "File \u001b[0;32m~/anaconda3/lib/python3.10/site-packages/optuna/study/_optimize.py:251\u001b[0m, in \u001b[0;36m_run_trial\u001b[0;34m(study, func, catch)\u001b[0m\n\u001b[1;32m    244\u001b[0m         \u001b[39massert\u001b[39;00m \u001b[39mFalse\u001b[39;00m, \u001b[39m\"\u001b[39m\u001b[39mShould not reach.\u001b[39m\u001b[39m\"\u001b[39m\n\u001b[1;32m    246\u001b[0m \u001b[39mif\u001b[39;00m (\n\u001b[1;32m    247\u001b[0m     frozen_trial\u001b[39m.\u001b[39mstate \u001b[39m==\u001b[39m TrialState\u001b[39m.\u001b[39mFAIL\n\u001b[1;32m    248\u001b[0m     \u001b[39mand\u001b[39;00m func_err \u001b[39mis\u001b[39;00m \u001b[39mnot\u001b[39;00m \u001b[39mNone\u001b[39;00m\n\u001b[1;32m    249\u001b[0m     \u001b[39mand\u001b[39;00m \u001b[39mnot\u001b[39;00m \u001b[39misinstance\u001b[39m(func_err, catch)\n\u001b[1;32m    250\u001b[0m ):\n\u001b[0;32m--> 251\u001b[0m     \u001b[39mraise\u001b[39;00m func_err\n\u001b[1;32m    252\u001b[0m \u001b[39mreturn\u001b[39;00m frozen_trial\n",
      "File \u001b[0;32m~/anaconda3/lib/python3.10/site-packages/optuna/study/_optimize.py:200\u001b[0m, in \u001b[0;36m_run_trial\u001b[0;34m(study, func, catch)\u001b[0m\n\u001b[1;32m    198\u001b[0m \u001b[39mwith\u001b[39;00m get_heartbeat_thread(trial\u001b[39m.\u001b[39m_trial_id, study\u001b[39m.\u001b[39m_storage):\n\u001b[1;32m    199\u001b[0m     \u001b[39mtry\u001b[39;00m:\n\u001b[0;32m--> 200\u001b[0m         value_or_values \u001b[39m=\u001b[39m func(trial)\n\u001b[1;32m    201\u001b[0m     \u001b[39mexcept\u001b[39;00m exceptions\u001b[39m.\u001b[39mTrialPruned \u001b[39mas\u001b[39;00m e:\n\u001b[1;32m    202\u001b[0m         \u001b[39m# TODO(mamu): Handle multi-objective cases.\u001b[39;00m\n\u001b[1;32m    203\u001b[0m         state \u001b[39m=\u001b[39m TrialState\u001b[39m.\u001b[39mPRUNED\n",
      "Cell \u001b[0;32mIn[23], line 14\u001b[0m, in \u001b[0;36mobjective\u001b[0;34m(trial, X_train, stratification_groups, xgb_config, scoring)\u001b[0m\n\u001b[1;32m      2\u001b[0m params \u001b[39m=\u001b[39m {\n\u001b[1;32m      3\u001b[0m     \u001b[39m'\u001b[39m\u001b[39mn_estimators\u001b[39m\u001b[39m'\u001b[39m: trial\u001b[39m.\u001b[39msuggest_int(\u001b[39m'\u001b[39m\u001b[39mn_estimators\u001b[39m\u001b[39m'\u001b[39m, \u001b[39m20\u001b[39m, \u001b[39m150\u001b[39m),\n\u001b[1;32m      4\u001b[0m     \u001b[39m'\u001b[39m\u001b[39mmax_depth\u001b[39m\u001b[39m'\u001b[39m: trial\u001b[39m.\u001b[39msuggest_int(\u001b[39m'\u001b[39m\u001b[39mmax_depth\u001b[39m\u001b[39m'\u001b[39m, \u001b[39m2\u001b[39m, \u001b[39m8\u001b[39m),\n\u001b[0;32m   (...)\u001b[0m\n\u001b[1;32m      9\u001b[0m     \u001b[39m*\u001b[39m\u001b[39m*\u001b[39mxgb_config\n\u001b[1;32m     10\u001b[0m }\n\u001b[1;32m     12\u001b[0m xgb \u001b[39m=\u001b[39m XGBClassifier(\u001b[39m*\u001b[39m\u001b[39m*\u001b[39mparams)\n\u001b[0;32m---> 14\u001b[0m scores \u001b[39m=\u001b[39m stratified_cross_val_score(\n\u001b[1;32m     15\u001b[0m     estimator\u001b[39m=\u001b[39;49mxgb,\n\u001b[1;32m     16\u001b[0m     df\u001b[39m=\u001b[39;49mX_train,\n\u001b[1;32m     17\u001b[0m     stratification_groups\u001b[39m=\u001b[39;49mstratification_groups,\n\u001b[1;32m     18\u001b[0m     label_col\u001b[39m=\u001b[39;49m\u001b[39m'\u001b[39;49m\u001b[39mStage\u001b[39;49m\u001b[39m'\u001b[39;49m,\n\u001b[1;32m     19\u001b[0m     scoring\u001b[39m=\u001b[39;49mscoring,\n\u001b[1;32m     20\u001b[0m     n_splits\u001b[39m=\u001b[39;49m\u001b[39m4\u001b[39;49m\n\u001b[1;32m     21\u001b[0m )\n\u001b[1;32m     23\u001b[0m \u001b[39mreturn\u001b[39;00m scores\u001b[39m.\u001b[39mmean()\n",
      "Cell \u001b[0;32mIn[22], line 16\u001b[0m, in \u001b[0;36mstratified_cross_val_score\u001b[0;34m(estimator, df, stratification_groups, label_col, scoring, n_splits)\u001b[0m\n\u001b[1;32m     13\u001b[0m y \u001b[39m=\u001b[39m df\u001b[39m.\u001b[39mloc[:, label_col]\n\u001b[1;32m     14\u001b[0m X \u001b[39m=\u001b[39m df\u001b[39m.\u001b[39mdrop(columns\u001b[39m=\u001b[39m[label_col])\n\u001b[0;32m---> 16\u001b[0m estimator\u001b[39m.\u001b[39;49mfit(X\u001b[39m=\u001b[39;49mX\u001b[39m.\u001b[39;49miloc[train_index], y\u001b[39m=\u001b[39;49my\u001b[39m.\u001b[39;49miloc[train_index], verbose\u001b[39m=\u001b[39;49m\u001b[39mFalse\u001b[39;49;00m)\n\u001b[1;32m     18\u001b[0m y_true \u001b[39m=\u001b[39m y\u001b[39m.\u001b[39miloc[test_index]\n\u001b[1;32m     19\u001b[0m y_pred \u001b[39m=\u001b[39m estimator\u001b[39m.\u001b[39mpredict(X\u001b[39m.\u001b[39miloc[test_index])\n",
      "File \u001b[0;32m~/anaconda3/lib/python3.10/site-packages/xgboost/core.py:620\u001b[0m, in \u001b[0;36mrequire_keyword_args.<locals>.throw_if.<locals>.inner_f\u001b[0;34m(*args, **kwargs)\u001b[0m\n\u001b[1;32m    618\u001b[0m \u001b[39mfor\u001b[39;00m k, arg \u001b[39min\u001b[39;00m \u001b[39mzip\u001b[39m(sig\u001b[39m.\u001b[39mparameters, args):\n\u001b[1;32m    619\u001b[0m     kwargs[k] \u001b[39m=\u001b[39m arg\n\u001b[0;32m--> 620\u001b[0m \u001b[39mreturn\u001b[39;00m func(\u001b[39m*\u001b[39;49m\u001b[39m*\u001b[39;49mkwargs)\n",
      "File \u001b[0;32m~/anaconda3/lib/python3.10/site-packages/xgboost/sklearn.py:1471\u001b[0m, in \u001b[0;36mXGBClassifier.fit\u001b[0;34m(self, X, y, sample_weight, base_margin, eval_set, eval_metric, early_stopping_rounds, verbose, xgb_model, sample_weight_eval_set, base_margin_eval_set, feature_weights, callbacks)\u001b[0m\n\u001b[1;32m   1460\u001b[0m     params[\u001b[39m\"\u001b[39m\u001b[39mnum_class\u001b[39m\u001b[39m\"\u001b[39m] \u001b[39m=\u001b[39m \u001b[39mself\u001b[39m\u001b[39m.\u001b[39mn_classes_\n\u001b[1;32m   1462\u001b[0m (\n\u001b[1;32m   1463\u001b[0m     model,\n\u001b[1;32m   1464\u001b[0m     metric,\n\u001b[0;32m   (...)\u001b[0m\n\u001b[1;32m   1469\u001b[0m     xgb_model, eval_metric, params, early_stopping_rounds, callbacks\n\u001b[1;32m   1470\u001b[0m )\n\u001b[0;32m-> 1471\u001b[0m train_dmatrix, evals \u001b[39m=\u001b[39m _wrap_evaluation_matrices(\n\u001b[1;32m   1472\u001b[0m     missing\u001b[39m=\u001b[39;49m\u001b[39mself\u001b[39;49m\u001b[39m.\u001b[39;49mmissing,\n\u001b[1;32m   1473\u001b[0m     X\u001b[39m=\u001b[39;49mX,\n\u001b[1;32m   1474\u001b[0m     y\u001b[39m=\u001b[39;49my,\n\u001b[1;32m   1475\u001b[0m     group\u001b[39m=\u001b[39;49m\u001b[39mNone\u001b[39;49;00m,\n\u001b[1;32m   1476\u001b[0m     qid\u001b[39m=\u001b[39;49m\u001b[39mNone\u001b[39;49;00m,\n\u001b[1;32m   1477\u001b[0m     sample_weight\u001b[39m=\u001b[39;49msample_weight,\n\u001b[1;32m   1478\u001b[0m     base_margin\u001b[39m=\u001b[39;49mbase_margin,\n\u001b[1;32m   1479\u001b[0m     feature_weights\u001b[39m=\u001b[39;49mfeature_weights,\n\u001b[1;32m   1480\u001b[0m     eval_set\u001b[39m=\u001b[39;49meval_set,\n\u001b[1;32m   1481\u001b[0m     sample_weight_eval_set\u001b[39m=\u001b[39;49msample_weight_eval_set,\n\u001b[1;32m   1482\u001b[0m     base_margin_eval_set\u001b[39m=\u001b[39;49mbase_margin_eval_set,\n\u001b[1;32m   1483\u001b[0m     eval_group\u001b[39m=\u001b[39;49m\u001b[39mNone\u001b[39;49;00m,\n\u001b[1;32m   1484\u001b[0m     eval_qid\u001b[39m=\u001b[39;49m\u001b[39mNone\u001b[39;49;00m,\n\u001b[1;32m   1485\u001b[0m     create_dmatrix\u001b[39m=\u001b[39;49m\u001b[39mself\u001b[39;49m\u001b[39m.\u001b[39;49m_create_dmatrix,\n\u001b[1;32m   1486\u001b[0m     enable_categorical\u001b[39m=\u001b[39;49m\u001b[39mself\u001b[39;49m\u001b[39m.\u001b[39;49menable_categorical,\n\u001b[1;32m   1487\u001b[0m     feature_types\u001b[39m=\u001b[39;49m\u001b[39mself\u001b[39;49m\u001b[39m.\u001b[39;49mfeature_types,\n\u001b[1;32m   1488\u001b[0m )\n\u001b[1;32m   1490\u001b[0m \u001b[39mself\u001b[39m\u001b[39m.\u001b[39m_Booster \u001b[39m=\u001b[39m train(\n\u001b[1;32m   1491\u001b[0m     params,\n\u001b[1;32m   1492\u001b[0m     train_dmatrix,\n\u001b[0;32m   (...)\u001b[0m\n\u001b[1;32m   1501\u001b[0m     callbacks\u001b[39m=\u001b[39mcallbacks,\n\u001b[1;32m   1502\u001b[0m )\n\u001b[1;32m   1504\u001b[0m \u001b[39mif\u001b[39;00m \u001b[39mnot\u001b[39;00m callable(\u001b[39mself\u001b[39m\u001b[39m.\u001b[39mobjective):\n",
      "File \u001b[0;32m~/anaconda3/lib/python3.10/site-packages/xgboost/sklearn.py:448\u001b[0m, in \u001b[0;36m_wrap_evaluation_matrices\u001b[0;34m(missing, X, y, group, qid, sample_weight, base_margin, feature_weights, eval_set, sample_weight_eval_set, base_margin_eval_set, eval_group, eval_qid, create_dmatrix, enable_categorical, feature_types)\u001b[0m\n\u001b[1;32m    428\u001b[0m \u001b[39mdef\u001b[39;00m \u001b[39m_wrap_evaluation_matrices\u001b[39m(\n\u001b[1;32m    429\u001b[0m     missing: \u001b[39mfloat\u001b[39m,\n\u001b[1;32m    430\u001b[0m     X: Any,\n\u001b[0;32m   (...)\u001b[0m\n\u001b[1;32m    444\u001b[0m     feature_types: Optional[FeatureTypes],\n\u001b[1;32m    445\u001b[0m ) \u001b[39m-\u001b[39m\u001b[39m>\u001b[39m Tuple[Any, List[Tuple[Any, \u001b[39mstr\u001b[39m]]]:\n\u001b[1;32m    446\u001b[0m     \u001b[39m\"\"\"Convert array_like evaluation matrices into DMatrix.  Perform validation on the\u001b[39;00m\n\u001b[1;32m    447\u001b[0m \u001b[39m    way.\"\"\"\u001b[39;00m\n\u001b[0;32m--> 448\u001b[0m     train_dmatrix \u001b[39m=\u001b[39m create_dmatrix(\n\u001b[1;32m    449\u001b[0m         data\u001b[39m=\u001b[39;49mX,\n\u001b[1;32m    450\u001b[0m         label\u001b[39m=\u001b[39;49my,\n\u001b[1;32m    451\u001b[0m         group\u001b[39m=\u001b[39;49mgroup,\n\u001b[1;32m    452\u001b[0m         qid\u001b[39m=\u001b[39;49mqid,\n\u001b[1;32m    453\u001b[0m         weight\u001b[39m=\u001b[39;49msample_weight,\n\u001b[1;32m    454\u001b[0m         base_margin\u001b[39m=\u001b[39;49mbase_margin,\n\u001b[1;32m    455\u001b[0m         feature_weights\u001b[39m=\u001b[39;49mfeature_weights,\n\u001b[1;32m    456\u001b[0m         missing\u001b[39m=\u001b[39;49mmissing,\n\u001b[1;32m    457\u001b[0m         enable_categorical\u001b[39m=\u001b[39;49menable_categorical,\n\u001b[1;32m    458\u001b[0m         feature_types\u001b[39m=\u001b[39;49mfeature_types,\n\u001b[1;32m    459\u001b[0m         ref\u001b[39m=\u001b[39;49m\u001b[39mNone\u001b[39;49;00m,\n\u001b[1;32m    460\u001b[0m     )\n\u001b[1;32m    462\u001b[0m     n_validation \u001b[39m=\u001b[39m \u001b[39m0\u001b[39m \u001b[39mif\u001b[39;00m eval_set \u001b[39mis\u001b[39;00m \u001b[39mNone\u001b[39;00m \u001b[39melse\u001b[39;00m \u001b[39mlen\u001b[39m(eval_set)\n\u001b[1;32m    464\u001b[0m     \u001b[39mdef\u001b[39;00m \u001b[39mvalidate_or_none\u001b[39m(meta: Optional[Sequence], name: \u001b[39mstr\u001b[39m) \u001b[39m-\u001b[39m\u001b[39m>\u001b[39m Sequence:\n",
      "File \u001b[0;32m~/anaconda3/lib/python3.10/site-packages/xgboost/sklearn.py:908\u001b[0m, in \u001b[0;36mXGBModel._create_dmatrix\u001b[0;34m(self, ref, **kwargs)\u001b[0m\n\u001b[1;32m    906\u001b[0m     \u001b[39mexcept\u001b[39;00m \u001b[39mTypeError\u001b[39;00m:  \u001b[39m# `QuantileDMatrix` supports lesser types than DMatrix\u001b[39;00m\n\u001b[1;32m    907\u001b[0m         \u001b[39mpass\u001b[39;00m\n\u001b[0;32m--> 908\u001b[0m \u001b[39mreturn\u001b[39;00m DMatrix(\u001b[39m*\u001b[39;49m\u001b[39m*\u001b[39;49mkwargs, nthread\u001b[39m=\u001b[39;49m\u001b[39mself\u001b[39;49m\u001b[39m.\u001b[39;49mn_jobs)\n",
      "File \u001b[0;32m~/anaconda3/lib/python3.10/site-packages/xgboost/core.py:620\u001b[0m, in \u001b[0;36mrequire_keyword_args.<locals>.throw_if.<locals>.inner_f\u001b[0;34m(*args, **kwargs)\u001b[0m\n\u001b[1;32m    618\u001b[0m \u001b[39mfor\u001b[39;00m k, arg \u001b[39min\u001b[39;00m \u001b[39mzip\u001b[39m(sig\u001b[39m.\u001b[39mparameters, args):\n\u001b[1;32m    619\u001b[0m     kwargs[k] \u001b[39m=\u001b[39m arg\n\u001b[0;32m--> 620\u001b[0m \u001b[39mreturn\u001b[39;00m func(\u001b[39m*\u001b[39;49m\u001b[39m*\u001b[39;49mkwargs)\n",
      "File \u001b[0;32m~/anaconda3/lib/python3.10/site-packages/xgboost/core.py:743\u001b[0m, in \u001b[0;36mDMatrix.__init__\u001b[0;34m(self, data, label, weight, base_margin, missing, silent, feature_names, feature_types, nthread, group, qid, label_lower_bound, label_upper_bound, feature_weights, enable_categorical)\u001b[0m\n\u001b[1;32m    740\u001b[0m     \u001b[39massert\u001b[39;00m \u001b[39mself\u001b[39m\u001b[39m.\u001b[39mhandle \u001b[39mis\u001b[39;00m \u001b[39mnot\u001b[39;00m \u001b[39mNone\u001b[39;00m\n\u001b[1;32m    741\u001b[0m     \u001b[39mreturn\u001b[39;00m\n\u001b[0;32m--> 743\u001b[0m handle, feature_names, feature_types \u001b[39m=\u001b[39m dispatch_data_backend(\n\u001b[1;32m    744\u001b[0m     data,\n\u001b[1;32m    745\u001b[0m     missing\u001b[39m=\u001b[39;49m\u001b[39mself\u001b[39;49m\u001b[39m.\u001b[39;49mmissing,\n\u001b[1;32m    746\u001b[0m     threads\u001b[39m=\u001b[39;49m\u001b[39mself\u001b[39;49m\u001b[39m.\u001b[39;49mnthread,\n\u001b[1;32m    747\u001b[0m     feature_names\u001b[39m=\u001b[39;49mfeature_names,\n\u001b[1;32m    748\u001b[0m     feature_types\u001b[39m=\u001b[39;49mfeature_types,\n\u001b[1;32m    749\u001b[0m     enable_categorical\u001b[39m=\u001b[39;49menable_categorical,\n\u001b[1;32m    750\u001b[0m )\n\u001b[1;32m    751\u001b[0m \u001b[39massert\u001b[39;00m handle \u001b[39mis\u001b[39;00m \u001b[39mnot\u001b[39;00m \u001b[39mNone\u001b[39;00m\n\u001b[1;32m    752\u001b[0m \u001b[39mself\u001b[39m\u001b[39m.\u001b[39mhandle \u001b[39m=\u001b[39m handle\n",
      "File \u001b[0;32m~/anaconda3/lib/python3.10/site-packages/xgboost/data.py:970\u001b[0m, in \u001b[0;36mdispatch_data_backend\u001b[0;34m(data, missing, threads, feature_names, feature_types, enable_categorical)\u001b[0m\n\u001b[1;32m    968\u001b[0m     \u001b[39mreturn\u001b[39;00m _from_tuple(data, missing, threads, feature_names, feature_types)\n\u001b[1;32m    969\u001b[0m \u001b[39mif\u001b[39;00m _is_pandas_df(data):\n\u001b[0;32m--> 970\u001b[0m     \u001b[39mreturn\u001b[39;00m _from_pandas_df(data, enable_categorical, missing, threads,\n\u001b[1;32m    971\u001b[0m                            feature_names, feature_types)\n\u001b[1;32m    972\u001b[0m \u001b[39mif\u001b[39;00m _is_pandas_series(data):\n\u001b[1;32m    973\u001b[0m     \u001b[39mreturn\u001b[39;00m _from_pandas_series(\n\u001b[1;32m    974\u001b[0m         data, missing, threads, enable_categorical, feature_names, feature_types\n\u001b[1;32m    975\u001b[0m     )\n",
      "File \u001b[0;32m~/anaconda3/lib/python3.10/site-packages/xgboost/data.py:417\u001b[0m, in \u001b[0;36m_from_pandas_df\u001b[0;34m(data, enable_categorical, missing, nthread, feature_names, feature_types)\u001b[0m\n\u001b[1;32m    409\u001b[0m \u001b[39mdef\u001b[39;00m \u001b[39m_from_pandas_df\u001b[39m(\n\u001b[1;32m    410\u001b[0m     data: DataFrame,\n\u001b[1;32m    411\u001b[0m     enable_categorical: \u001b[39mbool\u001b[39m,\n\u001b[0;32m   (...)\u001b[0m\n\u001b[1;32m    415\u001b[0m     feature_types: Optional[FeatureTypes],\n\u001b[1;32m    416\u001b[0m ) \u001b[39m-\u001b[39m\u001b[39m>\u001b[39m DispatchedDataBackendReturnType:\n\u001b[0;32m--> 417\u001b[0m     data, feature_names, feature_types \u001b[39m=\u001b[39m _transform_pandas_df(\n\u001b[1;32m    418\u001b[0m         data, enable_categorical, feature_names, feature_types\n\u001b[1;32m    419\u001b[0m     )\n\u001b[1;32m    420\u001b[0m     \u001b[39mreturn\u001b[39;00m _from_numpy_array(data, missing, nthread, feature_names, feature_types)\n",
      "File \u001b[0;32m~/anaconda3/lib/python3.10/site-packages/xgboost/data.py:391\u001b[0m, in \u001b[0;36m_transform_pandas_df\u001b[0;34m(data, enable_categorical, feature_names, feature_types, meta, meta_type)\u001b[0m\n\u001b[1;32m    379\u001b[0m \u001b[39mfrom\u001b[39;00m \u001b[39mpandas\u001b[39;00m\u001b[39m.\u001b[39;00m\u001b[39mapi\u001b[39;00m\u001b[39m.\u001b[39;00m\u001b[39mtypes\u001b[39;00m \u001b[39mimport\u001b[39;00m (\n\u001b[1;32m    380\u001b[0m     is_sparse,\n\u001b[1;32m    381\u001b[0m     is_categorical_dtype,\n\u001b[1;32m    382\u001b[0m )\n\u001b[1;32m    384\u001b[0m \u001b[39mif\u001b[39;00m \u001b[39mnot\u001b[39;00m \u001b[39mall\u001b[39m(\n\u001b[1;32m    385\u001b[0m     dtype\u001b[39m.\u001b[39mname \u001b[39min\u001b[39;00m _pandas_dtype_mapper\n\u001b[1;32m    386\u001b[0m     \u001b[39mor\u001b[39;00m is_sparse(dtype)\n\u001b[0;32m   (...)\u001b[0m\n\u001b[1;32m    389\u001b[0m     \u001b[39mfor\u001b[39;00m dtype \u001b[39min\u001b[39;00m data\u001b[39m.\u001b[39mdtypes\n\u001b[1;32m    390\u001b[0m ):\n\u001b[0;32m--> 391\u001b[0m     _invalid_dataframe_dtype(data)\n\u001b[1;32m    393\u001b[0m feature_names, feature_types \u001b[39m=\u001b[39m _pandas_feature_info(\n\u001b[1;32m    394\u001b[0m     data, meta, feature_names, feature_types, enable_categorical\n\u001b[1;32m    395\u001b[0m )\n\u001b[1;32m    397\u001b[0m transformed \u001b[39m=\u001b[39m _pandas_cat_null(data)\n",
      "File \u001b[0;32m~/anaconda3/lib/python3.10/site-packages/xgboost/data.py:283\u001b[0m, in \u001b[0;36m_invalid_dataframe_dtype\u001b[0;34m(data)\u001b[0m\n\u001b[1;32m    281\u001b[0m type_err \u001b[39m=\u001b[39m \u001b[39m\"\u001b[39m\u001b[39mDataFrame.dtypes for data must be int, float, bool or category.\u001b[39m\u001b[39m\"\u001b[39m\n\u001b[1;32m    282\u001b[0m msg \u001b[39m=\u001b[39m \u001b[39mf\u001b[39m\u001b[39m\"\"\"\u001b[39m\u001b[39m{\u001b[39;00mtype_err\u001b[39m}\u001b[39;00m\u001b[39m \u001b[39m\u001b[39m{\u001b[39;00m_ENABLE_CAT_ERR\u001b[39m}\u001b[39;00m\u001b[39m \u001b[39m\u001b[39m{\u001b[39;00merr\u001b[39m}\u001b[39;00m\u001b[39m\"\"\"\u001b[39m\n\u001b[0;32m--> 283\u001b[0m \u001b[39mraise\u001b[39;00m \u001b[39mValueError\u001b[39;00m(msg)\n",
      "\u001b[0;31mValueError\u001b[0m: DataFrame.dtypes for data must be int, float, bool or category. When categorical type is supplied, The experimental DMatrix parameter`enable_categorical` must be set to `True`.  Invalid columns:RealLocation: object"
     ]
    }
   ],
   "source": [
    "xgb_config = {\n",
    "    'objective': 'binary:logistic',\n",
    "    'random_state': random_state\n",
    "}\n",
    "\n",
    "objective_func = partial(\n",
    "    objective,\n",
    "    X_train=X_train,\n",
    "    stratification_groups=stratification_groups,\n",
    "    xgb_config=xgb_config,\n",
    "    scoring=f1_score\n",
    ")\n",
    "\n",
    "study = optuna.create_study(direction='maximize')\n",
    "study.optimize(objective_func, n_trials=100)"
   ]
  },
  {
   "attachments": {},
   "cell_type": "markdown",
   "metadata": {},
   "source": [
    "Extract the best of the found hyperparameters and perform cross validation on the whole training set"
   ]
  },
  {
   "cell_type": "code",
   "execution_count": 17,
   "metadata": {
    "ExecuteTime": {
     "end_time": "2023-04-16T20:08:58.582276Z",
     "start_time": "2023-04-16T20:08:39.919744Z"
    }
   },
   "outputs": [],
   "source": [
    "best_params = {\n",
    "    **study.best_params,\n",
    "    **xgb_config\n",
    "}\n",
    "\n",
    "best_xgb = XGBClassifier(**best_params)\n",
    "y_pred = stratified_cross_val_predict(\n",
    "    estimator=best_xgb,\n",
    "    df=X_train,\n",
    "    stratification_groups=stratification_groups,\n",
    "    label_col='Stage',\n",
    "    n_splits=5\n",
    ")\n",
    "y_true = list(X_train['Stage'].values)"
   ]
  },
  {
   "cell_type": "code",
   "execution_count": 18,
   "metadata": {
    "ExecuteTime": {
     "end_time": "2023-04-16T20:08:58.597899Z",
     "start_time": "2023-04-16T20:08:58.582276Z"
    }
   },
   "outputs": [
    {
     "name": "stdout",
     "output_type": "stream",
     "text": [
      "              precision    recall  f1-score   support\n",
      "\n",
      "       I-III       0.75      0.59      0.66       268\n",
      "          IV       0.74      0.86      0.80       372\n",
      "\n",
      "    accuracy                           0.75       640\n",
      "   macro avg       0.75      0.72      0.73       640\n",
      "weighted avg       0.75      0.75      0.74       640\n",
      "\n"
     ]
    }
   ],
   "source": [
    "labels = list(labels_encoding.keys())\n",
    "\n",
    "report = classification_report(y_true, y_pred.astype(int), target_names=labels)\n",
    "print(report)"
   ]
  },
  {
   "cell_type": "code",
   "execution_count": 19,
   "metadata": {
    "ExecuteTime": {
     "end_time": "2023-04-16T20:08:58.770314Z",
     "start_time": "2023-04-16T20:08:58.597899Z"
    }
   },
   "outputs": [
    {
     "data": {
      "image/png": "[encoded data removed]",
      "text/plain": [
       "<Figure size 1000x600 with 2 Axes>"
      ]
     },
     "metadata": {},
     "output_type": "display_data"
    }
   ],
   "source": [
    "accuracy = accuracy_score(y_true, y_pred.astype(int))\n",
    "f1 = f1_score(y_true, y_pred.astype(int))\n",
    "cm = confusion_matrix(y_true, y_pred.astype(int))\n",
    "\n",
    "title = f'Accuracy = {accuracy*100:.2f}%, Weighted F1 = {f1:.2f}'\n",
    "\n",
    "plot_confusion_matrix(cm, labels, title)"
   ]
  },
  {
   "attachments": {},
   "cell_type": "markdown",
   "metadata": {},
   "source": [
    "## Only the most numerous types of cancer (each one separately), multiclass classification (stages: I, II, III, IV)"
   ]
  },
  {
   "cell_type": "code",
   "execution_count": 20,
   "metadata": {
    "ExecuteTime": {
     "end_time": "2023-04-16T20:09:59.326226Z",
     "start_time": "2023-04-16T20:09:59.317221Z"
    }
   },
   "outputs": [],
   "source": [
    "labels_encoding = {\n",
    "    'I': 0,\n",
    "    'II': 1,\n",
    "    'III': 2,\n",
    "    'IV': 3\n",
    "}\n",
    "\n",
    "xgb_config = {\n",
    "    'objective': 'multi:softmax',\n",
    "    'random_state': random_state,\n",
    "    'num_class': 4,\n",
    "}\n",
    "\n",
    "scoring_func = partial(f1_score, average='weighted')"
   ]
  },
  {
   "attachments": {},
   "cell_type": "markdown",
   "metadata": {},
   "source": [
    "Get only the most numerous cancer types (with more than 90 cases)"
   ]
  },
  {
   "cell_type": "code",
   "execution_count": 23,
   "metadata": {
    "ExecuteTime": {
     "end_time": "2023-04-16T20:10:38.499783Z",
     "start_time": "2023-04-16T20:10:38.468817Z"
    }
   },
   "outputs": [
    {
     "data": {
      "text/plain": [
       "['NSCLC', 'Ovarian cancer', 'Pancreatic cancer']"
      ]
     },
     "execution_count": 23,
     "metadata": {},
     "output_type": "execute_result"
    }
   ],
   "source": [
    "cancer_type_counts = train['Group'].value_counts()\n",
    "numerous_cancer_types = cancer_type_counts[cancer_type_counts > 90].index.tolist()\n",
    "numerous_cancer_types"
   ]
  },
  {
   "attachments": {},
   "cell_type": "markdown",
   "metadata": {},
   "source": [
    "For each cancer type a separate model will be created, optimized and tested"
   ]
  },
  {
   "attachments": {},
   "cell_type": "markdown",
   "metadata": {},
   "source": [
    "### NSCLC"
   ]
  },
  {
   "cell_type": "code",
   "execution_count": 24,
   "metadata": {
    "ExecuteTime": {
     "end_time": "2023-04-16T20:10:46.208525Z",
     "start_time": "2023-04-16T20:10:46.179518Z"
    }
   },
   "outputs": [
    {
     "data": {
      "text/plain": [
       "3    247\n",
       "2     34\n",
       "0     11\n",
       "1     10\n",
       "Name: Stage, dtype: int64"
      ]
     },
     "execution_count": 24,
     "metadata": {},
     "output_type": "execute_result"
    }
   ],
   "source": [
    "X_train = train.loc[train['Group'] == 'NSCLC']\n",
    "\n",
    "stratification_groups = X_train.loc[:, 'Stage']\n",
    "X_train = X_train.loc[:, ~X_train.columns.isin(['ID', 'Sex', 'Age', 'Group'])]\n",
    "\n",
    "X_train.loc[:, 'Stage'] = X_train['Stage'].map(labels_encoding)\n",
    "X_train['Stage'].value_counts()"
   ]
  },
  {
   "cell_type": "code",
   "execution_count": 25,
   "metadata": {
    "ExecuteTime": {
     "end_time": "2023-04-16T20:33:06.626925Z",
     "start_time": "2023-04-16T20:11:10.184779Z"
    }
   },
   "outputs": [
    {
     "name": "stderr",
     "output_type": "stream",
     "text": [
      "\u001b[32m[I 2023-04-16 20:11:10,182]\u001b[0m A new study created in memory with name: no-name-3a398929-816b-43df-8340-d81a2d0cc2a8\u001b[0m\n",
      "\u001b[32m[I 2023-04-16 20:11:30,709]\u001b[0m Trial 0 finished with value: 0.7428083318097894 and parameters: {'n_estimators': 150, 'max_depth': 4, 'learning_rate': 0.11696778549073497, 'subsample': 0.7565806006805513, 'colsample_bytree': 0.855117285359008, 'gamma': 0.25640702680069594}. Best is trial 0 with value: 0.7428083318097894.\u001b[0m\n",
      "\u001b[32m[I 2023-04-16 20:11:47,705]\u001b[0m Trial 1 finished with value: 0.7495328152526296 and parameters: {'n_estimators': 122, 'max_depth': 3, 'learning_rate': 0.08055347138726006, 'subsample': 0.6937521550187109, 'colsample_bytree': 0.7274121686289067, 'gamma': 0.7217360670664992}. Best is trial 1 with value: 0.7495328152526296.\u001b[0m\n",
      "\u001b[32m[I 2023-04-16 20:12:07,625]\u001b[0m Trial 2 finished with value: 0.7427705630735388 and parameters: {'n_estimators': 103, 'max_depth': 4, 'learning_rate': 0.0907965933162824, 'subsample': 0.7918952961992702, 'colsample_bytree': 0.9359472345071576, 'gamma': 0.9346208605934607}. Best is trial 1 with value: 0.7495328152526296.\u001b[0m\n",
      "\u001b[32m[I 2023-04-16 20:12:25,287]\u001b[0m Trial 3 finished with value: 0.7554668807093988 and parameters: {'n_estimators': 120, 'max_depth': 5, 'learning_rate': 0.09732294285914017, 'subsample': 0.6943807201826, 'colsample_bytree': 0.8275624641375611, 'gamma': 0.07685030351566968}. Best is trial 3 with value: 0.7554668807093988.\u001b[0m\n",
      "\u001b[32m[I 2023-04-16 20:12:45,378]\u001b[0m Trial 4 finished with value: 0.7414329203313295 and parameters: {'n_estimators': 113, 'max_depth': 4, 'learning_rate': 0.08258292426603359, 'subsample': 0.8505837898581414, 'colsample_bytree': 0.8780437165153456, 'gamma': 0.42527455582496476}. Best is trial 3 with value: 0.7554668807093988.\u001b[0m\n",
      "\u001b[32m[I 2023-04-16 20:12:58,662]\u001b[0m Trial 5 finished with value: 0.7427705630735388 and parameters: {'n_estimators': 76, 'max_depth': 8, 'learning_rate': 0.21338295858805556, 'subsample': 0.8980697419449271, 'colsample_bytree': 0.9564669664210895, 'gamma': 0.21198220995708705}. Best is trial 3 with value: 0.7554668807093988.\u001b[0m\n",
      "\u001b[32m[I 2023-04-16 20:13:13,221]\u001b[0m Trial 6 finished with value: 0.7629979600283807 and parameters: {'n_estimators': 102, 'max_depth': 7, 'learning_rate': 0.18024537521209094, 'subsample': 0.746359126557086, 'colsample_bytree': 0.7590448909896873, 'gamma': 0.3534425592463365}. Best is trial 6 with value: 0.7629979600283807.\u001b[0m\n",
      "\u001b[32m[I 2023-04-16 20:13:23,644]\u001b[0m Trial 7 finished with value: 0.7486916157051178 and parameters: {'n_estimators': 52, 'max_depth': 6, 'learning_rate': 0.14600249168795157, 'subsample': 0.7070198668857597, 'colsample_bytree': 0.977171931927721, 'gamma': 0.231975098883075}. Best is trial 6 with value: 0.7629979600283807.\u001b[0m\n",
      "\u001b[32m[I 2023-04-16 20:13:31,520]\u001b[0m Trial 8 finished with value: 0.7481994675860776 and parameters: {'n_estimators': 59, 'max_depth': 2, 'learning_rate': 0.2884731422685375, 'subsample': 0.735375972805157, 'colsample_bytree': 0.8501832893453768, 'gamma': 0.2207326506628443}. Best is trial 6 with value: 0.7629979600283807.\u001b[0m\n",
      "\u001b[32m[I 2023-04-16 20:13:38,974]\u001b[0m Trial 9 finished with value: 0.7477625350578638 and parameters: {'n_estimators': 46, 'max_depth': 6, 'learning_rate': 0.23283865338816073, 'subsample': 0.649367351117237, 'colsample_bytree': 0.7156131832740937, 'gamma': 0.5755258117612949}. Best is trial 6 with value: 0.7629979600283807.\u001b[0m\n",
      "\u001b[32m[I 2023-04-16 20:13:44,712]\u001b[0m Trial 10 finished with value: 0.7535149629409631 and parameters: {'n_estimators': 20, 'max_depth': 7, 'learning_rate': 0.04262578054689374, 'subsample': 0.9961222939822021, 'colsample_bytree': 0.6485142919569111, 'gamma': 0.4690150668474169}. Best is trial 6 with value: 0.7629979600283807.\u001b[0m\n",
      "\u001b[32m[I 2023-04-16 20:14:11,451]\u001b[0m Trial 11 finished with value: 0.7425021605787311 and parameters: {'n_estimators': 138, 'max_depth': 6, 'learning_rate': 0.009840001882400057, 'subsample': 0.6152705170764303, 'colsample_bytree': 0.7813147240013907, 'gamma': 0.015495124308012309}. Best is trial 6 with value: 0.7629979600283807.\u001b[0m\n",
      "\u001b[32m[I 2023-04-16 20:14:23,586]\u001b[0m Trial 12 finished with value: 0.7522634859445775 and parameters: {'n_estimators': 91, 'max_depth': 8, 'learning_rate': 0.17352183541596303, 'subsample': 0.6665440580228782, 'colsample_bytree': 0.786854229252501, 'gamma': 0.007585857595822754}. Best is trial 6 with value: 0.7629979600283807.\u001b[0m\n",
      "\u001b[32m[I 2023-04-16 20:14:39,471]\u001b[0m Trial 13 finished with value: 0.7438592683298335 and parameters: {'n_estimators': 123, 'max_depth': 5, 'learning_rate': 0.15342848820831978, 'subsample': 0.609729870898467, 'colsample_bytree': 0.7390694869033496, 'gamma': 0.3784238644099407}. Best is trial 6 with value: 0.7629979600283807.\u001b[0m\n",
      "\u001b[32m[I 2023-04-16 20:14:50,758]\u001b[0m Trial 14 finished with value: 0.7614299501765515 and parameters: {'n_estimators': 89, 'max_depth': 7, 'learning_rate': 0.18817758602671794, 'subsample': 0.7505288277088851, 'colsample_bytree': 0.6101440571293468, 'gamma': 0.11818211607404072}. Best is trial 6 with value: 0.7629979600283807.\u001b[0m\n",
      "\u001b[32m[I 2023-04-16 20:15:01,058]\u001b[0m Trial 15 finished with value: 0.7503276716662927 and parameters: {'n_estimators': 76, 'max_depth': 7, 'learning_rate': 0.19481980735094387, 'subsample': 0.7695076062173339, 'colsample_bytree': 0.614288231341863, 'gamma': 0.13854953764327704}. Best is trial 6 with value: 0.7629979600283807.\u001b[0m\n",
      "\u001b[32m[I 2023-04-16 20:15:14,286]\u001b[0m Trial 16 finished with value: 0.7425466020716279 and parameters: {'n_estimators': 94, 'max_depth': 7, 'learning_rate': 0.2353244932612678, 'subsample': 0.8211819294860652, 'colsample_bytree': 0.6621523282788524, 'gamma': 0.35668593830473216}. Best is trial 6 with value: 0.7629979600283807.\u001b[0m\n",
      "\u001b[32m[I 2023-04-16 20:15:24,402]\u001b[0m Trial 17 finished with value: 0.7573706435348578 and parameters: {'n_estimators': 76, 'max_depth': 8, 'learning_rate': 0.1846312223510825, 'subsample': 0.7402192245987127, 'colsample_bytree': 0.6093916507353974, 'gamma': 0.1366423855265985}. Best is trial 6 with value: 0.7629979600283807.\u001b[0m\n",
      "\u001b[32m[I 2023-04-16 20:15:40,260]\u001b[0m Trial 18 finished with value: 0.7500874036499253 and parameters: {'n_estimators': 102, 'max_depth': 7, 'learning_rate': 0.13241156344194335, 'subsample': 0.803956340098083, 'colsample_bytree': 0.6822975924861787, 'gamma': 0.5423447226164062}. Best is trial 6 with value: 0.7629979600283807.\u001b[0m\n",
      "\u001b[32m[I 2023-04-16 20:15:49,880]\u001b[0m Trial 19 finished with value: 0.7441459745519988 and parameters: {'n_estimators': 63, 'max_depth': 5, 'learning_rate': 0.16724687530786905, 'subsample': 0.7269015176328728, 'colsample_bytree': 0.6901155306473856, 'gamma': 0.3010635330375643}. Best is trial 6 with value: 0.7629979600283807.\u001b[0m\n",
      "\u001b[32m[I 2023-04-16 20:15:56,799]\u001b[0m Trial 20 finished with value: 0.7477425423361053 and parameters: {'n_estimators': 39, 'max_depth': 6, 'learning_rate': 0.2643506366000038, 'subsample': 0.7767743991114309, 'colsample_bytree': 0.7587907523182171, 'gamma': 0.1475379088250784}. Best is trial 6 with value: 0.7629979600283807.\u001b[0m\n",
      "\u001b[32m[I 2023-04-16 20:16:07,348]\u001b[0m Trial 21 finished with value: 0.7427705630735388 and parameters: {'n_estimators': 81, 'max_depth': 8, 'learning_rate': 0.18937624283773166, 'subsample': 0.7423876018379114, 'colsample_bytree': 0.6033761365401531, 'gamma': 0.13650545584497029}. Best is trial 6 with value: 0.7629979600283807.\u001b[0m\n",
      "\u001b[32m[I 2023-04-16 20:16:17,392]\u001b[0m Trial 22 finished with value: 0.7635925634564681 and parameters: {'n_estimators': 69, 'max_depth': 8, 'learning_rate': 0.19335834410896321, 'subsample': 0.7275324928488518, 'colsample_bytree': 0.6359158469038511, 'gamma': 0.3398999869759538}. Best is trial 22 with value: 0.7635925634564681.\u001b[0m\n",
      "\u001b[32m[I 2023-04-16 20:16:26,799]\u001b[0m Trial 23 finished with value: 0.7516186059425305 and parameters: {'n_estimators': 68, 'max_depth': 7, 'learning_rate': 0.21159179401399325, 'subsample': 0.6649996458829718, 'colsample_bytree': 0.6652530282876364, 'gamma': 0.3190273910529273}. Best is trial 22 with value: 0.7635925634564681.\u001b[0m\n",
      "\u001b[32m[I 2023-04-16 20:16:41,044]\u001b[0m Trial 24 finished with value: 0.7576462610641947 and parameters: {'n_estimators': 106, 'max_depth': 8, 'learning_rate': 0.15977153591867724, 'subsample': 0.7122221904186338, 'colsample_bytree': 0.6252769973312622, 'gamma': 0.39724733701014775}. Best is trial 22 with value: 0.7635925634564681.\u001b[0m\n",
      "\u001b[32m[I 2023-04-16 20:16:52,879]\u001b[0m Trial 25 finished with value: 0.7438373480607512 and parameters: {'n_estimators': 90, 'max_depth': 7, 'learning_rate': 0.20793159117492988, 'subsample': 0.7590922918232613, 'colsample_bytree': 0.6396329478034048, 'gamma': 0.2931716193492345}. Best is trial 22 with value: 0.7635925634564681.\u001b[0m\n",
      "\u001b[32m[I 2023-04-16 20:17:07,610]\u001b[0m Trial 26 finished with value: 0.743899850449621 and parameters: {'n_estimators': 97, 'max_depth': 8, 'learning_rate': 0.17318264544265033, 'subsample': 0.8262674046383431, 'colsample_bytree': 0.6853185896077884, 'gamma': 0.4558444467897067}. Best is trial 22 with value: 0.7635925634564681.\u001b[0m\n",
      "\u001b[32m[I 2023-04-16 20:17:19,968]\u001b[0m Trial 27 finished with value: 0.7428083318097894 and parameters: {'n_estimators': 85, 'max_depth': 6, 'learning_rate': 0.1339119272724206, 'subsample': 0.7853839567576678, 'colsample_bytree': 0.6367610204366763, 'gamma': 0.29274658507085566}. Best is trial 22 with value: 0.7635925634564681.\u001b[0m\n",
      "\u001b[32m[I 2023-04-16 20:17:26,155]\u001b[0m Trial 28 finished with value: 0.7628053616550114 and parameters: {'n_estimators': 33, 'max_depth': 7, 'learning_rate': 0.23657610971032342, 'subsample': 0.7272186620798513, 'colsample_bytree': 0.7098059106290668, 'gamma': 0.35320765762002154}. Best is trial 22 with value: 0.7635925634564681.\u001b[0m\n",
      "\u001b[32m[I 2023-04-16 20:17:31,201]\u001b[0m Trial 29 finished with value: 0.7529977926843252 and parameters: {'n_estimators': 24, 'max_depth': 8, 'learning_rate': 0.24101173140643548, 'subsample': 0.6862965115591386, 'colsample_bytree': 0.7126458085163794, 'gamma': 0.5171799564434681}. Best is trial 22 with value: 0.7635925634564681.\u001b[0m\n",
      "\u001b[32m[I 2023-04-16 20:17:37,009]\u001b[0m Trial 30 finished with value: 0.7489378805341156 and parameters: {'n_estimators': 33, 'max_depth': 5, 'learning_rate': 0.2626302660384535, 'subsample': 0.6448625746299576, 'colsample_bytree': 0.7557684765103195, 'gamma': 0.3581156861242808}. Best is trial 22 with value: 0.7635925634564681.\u001b[0m\n",
      "\u001b[32m[I 2023-04-16 20:17:53,516]\u001b[0m Trial 31 finished with value: 0.7649679749349282 and parameters: {'n_estimators': 134, 'max_depth': 7, 'learning_rate': 0.1960170799138744, 'subsample': 0.7570830662381152, 'colsample_bytree': 0.7015869325899337, 'gamma': 0.24027011287882388}. Best is trial 31 with value: 0.7649679749349282.\u001b[0m\n",
      "\u001b[32m[I 2023-04-16 20:18:11,462]\u001b[0m Trial 32 finished with value: 0.763060414639855 and parameters: {'n_estimators': 149, 'max_depth': 7, 'learning_rate': 0.21548244978635417, 'subsample': 0.719534624979952, 'colsample_bytree': 0.7173874404887957, 'gamma': 0.26044930528048676}. Best is trial 31 with value: 0.7649679749349282.\u001b[0m\n",
      "\u001b[32m[I 2023-04-16 20:18:28,630]\u001b[0m Trial 33 finished with value: 0.7551053179043241 and parameters: {'n_estimators': 143, 'max_depth': 6, 'learning_rate': 0.20697030341060052, 'subsample': 0.7135925464919031, 'colsample_bytree': 0.7407325326678621, 'gamma': 0.23382077574994783}. Best is trial 31 with value: 0.7649679749349282.\u001b[0m\n",
      "\u001b[32m[I 2023-04-16 20:18:45,085]\u001b[0m Trial 34 finished with value: 0.74926422784909 and parameters: {'n_estimators': 136, 'max_depth': 7, 'learning_rate': 0.174052575173842, 'subsample': 0.6900277132751516, 'colsample_bytree': 0.6991828171050853, 'gamma': 0.27459135693947095}. Best is trial 31 with value: 0.7649679749349282.\u001b[0m\n",
      "\u001b[32m[I 2023-04-16 20:19:04,963]\u001b[0m Trial 35 finished with value: 0.7500670271835778 and parameters: {'n_estimators': 150, 'max_depth': 3, 'learning_rate': 0.11031854580621227, 'subsample': 0.7622863012826547, 'colsample_bytree': 0.7284546730184096, 'gamma': 0.43026499275249336}. Best is trial 31 with value: 0.7649679749349282.\u001b[0m\n",
      "\u001b[32m[I 2023-04-16 20:19:19,784]\u001b[0m Trial 36 finished with value: 0.7508860636306227 and parameters: {'n_estimators': 124, 'max_depth': 8, 'learning_rate': 0.22125812137716955, 'subsample': 0.7563086252149366, 'colsample_bytree': 0.6672468716399265, 'gamma': 0.20674215341081859}. Best is trial 31 with value: 0.7649679749349282.\u001b[0m\n",
      "\u001b[32m[I 2023-04-16 20:19:35,639]\u001b[0m Trial 37 finished with value: 0.75517610890622 and parameters: {'n_estimators': 130, 'max_depth': 6, 'learning_rate': 0.20294050203844802, 'subsample': 0.7060260269614013, 'colsample_bytree': 0.8129206286532104, 'gamma': 0.18226063945500148}. Best is trial 31 with value: 0.7649679749349282.\u001b[0m\n",
      "\u001b[32m[I 2023-04-16 20:19:51,826]\u001b[0m Trial 38 finished with value: 0.7492420434494508 and parameters: {'n_estimators': 112, 'max_depth': 8, 'learning_rate': 0.14666174821431807, 'subsample': 0.7938367348194636, 'colsample_bytree': 0.7649777454502911, 'gamma': 0.26435535885874906}. Best is trial 31 with value: 0.7649679749349282.\u001b[0m\n",
      "\u001b[32m[I 2023-04-16 20:20:11,474]\u001b[0m Trial 39 finished with value: 0.7411286510263535 and parameters: {'n_estimators': 147, 'max_depth': 4, 'learning_rate': 0.2220258768542787, 'subsample': 0.7329526728160588, 'colsample_bytree': 0.7244562758944176, 'gamma': 0.6126257004645278}. Best is trial 31 with value: 0.7649679749349282.\u001b[0m\n",
      "\u001b[32m[I 2023-04-16 20:20:29,314]\u001b[0m Trial 40 finished with value: 0.754193727065054 and parameters: {'n_estimators': 132, 'max_depth': 7, 'learning_rate': 0.1894050814549793, 'subsample': 0.770480746560688, 'colsample_bytree': 0.6998614816757439, 'gamma': 0.3996160203759206}. Best is trial 31 with value: 0.7649679749349282.\u001b[0m\n",
      "\u001b[32m[I 2023-04-16 20:20:43,717]\u001b[0m Trial 41 finished with value: 0.746828708276137 and parameters: {'n_estimators': 112, 'max_depth': 7, 'learning_rate': 0.2276708260759062, 'subsample': 0.716512297751373, 'colsample_bytree': 0.7065191378078017, 'gamma': 0.3300808384823934}. Best is trial 31 with value: 0.7649679749349282.\u001b[0m\n",
      "\u001b[32m[I 2023-04-16 20:20:51,545]\u001b[0m Trial 42 finished with value: 0.7441459745519988 and parameters: {'n_estimators': 50, 'max_depth': 7, 'learning_rate': 0.2516045271744933, 'subsample': 0.7256545698670366, 'colsample_bytree': 0.7378275833226234, 'gamma': 0.24774503212524915}. Best is trial 31 with value: 0.7649679749349282.\u001b[0m\n",
      "\u001b[32m[I 2023-04-16 20:21:06,344]\u001b[0m Trial 43 finished with value: 0.7624455405296667 and parameters: {'n_estimators': 118, 'max_depth': 6, 'learning_rate': 0.203700166114158, 'subsample': 0.6930683127736155, 'colsample_bytree': 0.677777495859312, 'gamma': 0.34269026194550684}. Best is trial 31 with value: 0.7649679749349282.\u001b[0m\n",
      "\u001b[32m[I 2023-04-16 20:21:15,396]\u001b[0m Trial 44 finished with value: 0.7564243411425844 and parameters: {'n_estimators': 58, 'max_depth': 8, 'learning_rate': 0.22004686340714985, 'subsample': 0.7458342040418235, 'colsample_bytree': 0.6486660972953897, 'gamma': 0.4737332648327257}. Best is trial 31 with value: 0.7649679749349282.\u001b[0m\n",
      "\u001b[32m[I 2023-04-16 20:21:32,966]\u001b[0m Trial 45 finished with value: 0.7522634859445775 and parameters: {'n_estimators': 140, 'max_depth': 7, 'learning_rate': 0.24348430220371806, 'subsample': 0.7273625361844697, 'colsample_bytree': 0.7153374591954449, 'gamma': 0.38118108289533015}. Best is trial 31 with value: 0.7649679749349282.\u001b[0m\n",
      "\u001b[32m[I 2023-04-16 20:21:40,565]\u001b[0m Trial 46 finished with value: 0.7549155903722469 and parameters: {'n_estimators': 40, 'max_depth': 6, 'learning_rate': 0.17911247081631468, 'subsample': 0.7514408660319616, 'colsample_bytree': 0.7688208569606145, 'gamma': 0.1947617192740042}. Best is trial 31 with value: 0.7649679749349282.\u001b[0m\n",
      "\u001b[32m[I 2023-04-16 20:21:45,551]\u001b[0m Trial 47 finished with value: 0.7414329203313295 and parameters: {'n_estimators': 28, 'max_depth': 2, 'learning_rate': 0.16347952856655634, 'subsample': 0.7764568251114573, 'colsample_bytree': 0.7976062220992015, 'gamma': 0.42614601110995387}. Best is trial 31 with value: 0.7649679749349282.\u001b[0m\n",
      "\u001b[32m[I 2023-04-16 20:21:56,172]\u001b[0m Trial 48 finished with value: 0.7557511610620217 and parameters: {'n_estimators': 69, 'max_depth': 7, 'learning_rate': 0.19576843288466853, 'subsample': 0.7032687437962469, 'colsample_bytree': 0.7480339488855762, 'gamma': 0.3282470539960254}. Best is trial 31 with value: 0.7649679749349282.\u001b[0m\n",
      "\u001b[32m[I 2023-04-16 20:22:11,793]\u001b[0m Trial 49 finished with value: 0.752489512861675 and parameters: {'n_estimators': 131, 'max_depth': 8, 'learning_rate': 0.21407543163433543, 'subsample': 0.6808879483110931, 'colsample_bytree': 0.7268108540514259, 'gamma': 0.24913588195743339}. Best is trial 31 with value: 0.7649679749349282.\u001b[0m\n",
      "\u001b[32m[I 2023-04-16 20:22:28,287]\u001b[0m Trial 50 finished with value: 0.7441459745519988 and parameters: {'n_estimators': 145, 'max_depth': 7, 'learning_rate': 0.23078979031828822, 'subsample': 0.8062140774429213, 'colsample_bytree': 0.7736863814141539, 'gamma': 0.09895105301954624}. Best is trial 31 with value: 0.7649679749349282.\u001b[0m\n",
      "\u001b[32m[I 2023-04-16 20:22:43,089]\u001b[0m Trial 51 finished with value: 0.7588550961316373 and parameters: {'n_estimators': 117, 'max_depth': 6, 'learning_rate': 0.20226659012128465, 'subsample': 0.7016330217714781, 'colsample_bytree': 0.6815527696998348, 'gamma': 0.3475438503955406}. Best is trial 31 with value: 0.7649679749349282.\u001b[0m\n",
      "\u001b[32m[I 2023-04-16 20:22:59,231]\u001b[0m Trial 52 finished with value: 0.7441459745519988 and parameters: {'n_estimators': 127, 'max_depth': 5, 'learning_rate': 0.1828403954901635, 'subsample': 0.7309946151241813, 'colsample_bytree': 0.6971696608148067, 'gamma': 0.29833336246018277}. Best is trial 31 with value: 0.7649679749349282.\u001b[0m\n",
      "\u001b[32m[I 2023-04-16 20:23:13,503]\u001b[0m Trial 53 finished with value: 0.7546600157938975 and parameters: {'n_estimators': 107, 'max_depth': 6, 'learning_rate': 0.19726685040381295, 'subsample': 0.6920689884393318, 'colsample_bytree': 0.6714510152955553, 'gamma': 0.3425876991048544}. Best is trial 31 with value: 0.7649679749349282.\u001b[0m\n",
      "\u001b[32m[I 2023-04-16 20:23:29,363]\u001b[0m Trial 54 finished with value: 0.7508860636306227 and parameters: {'n_estimators': 119, 'max_depth': 7, 'learning_rate': 0.21361733186595216, 'subsample': 0.7431745618481198, 'colsample_bytree': 0.6535223762338529, 'gamma': 0.38648177353518537}. Best is trial 31 with value: 0.7649679749349282.\u001b[0m\n",
      "\u001b[32m[I 2023-04-16 20:23:43,913]\u001b[0m Trial 55 finished with value: 0.7506174762270831 and parameters: {'n_estimators': 115, 'max_depth': 6, 'learning_rate': 0.16021872056246972, 'subsample': 0.6692081178928139, 'colsample_bytree': 0.6781678522022827, 'gamma': 0.171035337891357}. Best is trial 31 with value: 0.7649679749349282.\u001b[0m\n",
      "\u001b[32m[I 2023-04-16 20:23:56,716]\u001b[0m Trial 56 finished with value: 0.7622489866235963 and parameters: {'n_estimators': 99, 'max_depth': 7, 'learning_rate': 0.19830217799777766, 'subsample': 0.7135120630405759, 'colsample_bytree': 0.6570307758204176, 'gamma': 0.22658724314047868}. Best is trial 31 with value: 0.7649679749349282.\u001b[0m\n",
      "\u001b[32m[I 2023-04-16 20:24:13,891]\u001b[0m Trial 57 finished with value: 0.7573706435348578 and parameters: {'n_estimators': 136, 'max_depth': 6, 'learning_rate': 0.18326431461810838, 'subsample': 0.7659014147583815, 'colsample_bytree': 0.6879331086213701, 'gamma': 0.26588061159174814}. Best is trial 31 with value: 0.7649679749349282.\u001b[0m\n",
      "\u001b[32m[I 2023-04-16 20:24:26,357]\u001b[0m Trial 58 finished with value: 0.7565639635280883 and parameters: {'n_estimators': 107, 'max_depth': 8, 'learning_rate': 0.23014433372116413, 'subsample': 0.7501863072114721, 'colsample_bytree': 0.7129238338373566, 'gamma': 0.06212567358474225}. Best is trial 31 with value: 0.7649679749349282.\u001b[0m\n",
      "\u001b[32m[I 2023-04-16 20:24:41,809]\u001b[0m Trial 59 finished with value: 0.7548934272717798 and parameters: {'n_estimators': 123, 'max_depth': 7, 'learning_rate': 0.17004456753051078, 'subsample': 0.7207228763977449, 'colsample_bytree': 0.6253584756855612, 'gamma': 0.3062673519483143}. Best is trial 31 with value: 0.7649679749349282.\u001b[0m\n",
      "\u001b[32m[I 2023-04-16 20:24:53,168]\u001b[0m Trial 60 finished with value: 0.7500710927645913 and parameters: {'n_estimators': 81, 'max_depth': 8, 'learning_rate': 0.1922763055855151, 'subsample': 0.69925537610657, 'colsample_bytree': 0.7513150307770012, 'gamma': 0.20643680177183732}. Best is trial 31 with value: 0.7649679749349282.\u001b[0m\n",
      "\u001b[32m[I 2023-04-16 20:25:05,749]\u001b[0m Trial 61 finished with value: 0.741168640706436 and parameters: {'n_estimators': 97, 'max_depth': 7, 'learning_rate': 0.20386091131879291, 'subsample': 0.7194238587861388, 'colsample_bytree': 0.6592638803062065, 'gamma': 0.2234272869014222}. Best is trial 31 with value: 0.7649679749349282.\u001b[0m\n",
      "\u001b[32m[I 2023-04-16 20:25:19,688]\u001b[0m Trial 62 finished with value: 0.7478666319709908 and parameters: {'n_estimators': 100, 'max_depth': 7, 'learning_rate': 0.21543616189467388, 'subsample': 0.7431789755064911, 'colsample_bytree': 0.6725025513360625, 'gamma': 0.35658506471505014}. Best is trial 31 with value: 0.7649679749349282.\u001b[0m\n",
      "\u001b[32m[I 2023-04-16 20:25:33,101]\u001b[0m Trial 63 finished with value: 0.7699679749349281 and parameters: {'n_estimators': 103, 'max_depth': 7, 'learning_rate': 0.17748811543812665, 'subsample': 0.708866178294006, 'colsample_bytree': 0.6425907681501535, 'gamma': 0.2797979659036934}. Best is trial 63 with value: 0.7699679749349281.\u001b[0m\n",
      "\u001b[32m[I 2023-04-16 20:25:46,468]\u001b[0m Trial 64 finished with value: 0.7500489296641244 and parameters: {'n_estimators': 106, 'max_depth': 7, 'learning_rate': 0.17877486111531768, 'subsample': 0.7353060004435127, 'colsample_bytree': 0.6311177073473514, 'gamma': 0.27756702573107506}. Best is trial 63 with value: 0.7699679749349281.\u001b[0m\n",
      "\u001b[32m[I 2023-04-16 20:25:58,856]\u001b[0m Trial 65 finished with value: 0.7543694501986228 and parameters: {'n_estimators': 93, 'max_depth': 6, 'learning_rate': 0.15378720222441805, 'subsample': 0.6788804582782205, 'colsample_bytree': 0.6437183638801336, 'gamma': 0.3159609737759582}. Best is trial 63 with value: 0.7699679749349281.\u001b[0m\n",
      "\u001b[32m[I 2023-04-16 20:26:15,815]\u001b[0m Trial 66 finished with value: 0.7455032885110054 and parameters: {'n_estimators': 140, 'max_depth': 8, 'learning_rate': 0.18796323589455594, 'subsample': 0.7804590288870654, 'colsample_bytree': 0.6931509476892984, 'gamma': 0.163207401991706}. Best is trial 63 with value: 0.7699679749349281.\u001b[0m\n",
      "\u001b[32m[I 2023-04-16 20:26:30,012]\u001b[0m Trial 67 finished with value: 0.7586673794350548 and parameters: {'n_estimators': 111, 'max_depth': 7, 'learning_rate': 0.16955101905100206, 'subsample': 0.6954415371453153, 'colsample_bytree': 0.6165558081678388, 'gamma': 0.3764499712721009}. Best is trial 63 with value: 0.7699679749349281.\u001b[0m\n",
      "\u001b[32m[I 2023-04-16 20:26:41,951]\u001b[0m Trial 68 finished with value: 0.7492420434494508 and parameters: {'n_estimators': 86, 'max_depth': 5, 'learning_rate': 0.20490434803491514, 'subsample': 0.7115391157473965, 'colsample_bytree': 0.6404463463211215, 'gamma': 0.40724359266163357}. Best is trial 63 with value: 0.7699679749349281.\u001b[0m\n",
      "\u001b[32m[I 2023-04-16 20:26:57,414]\u001b[0m Trial 69 finished with value: 0.7563060111781732 and parameters: {'n_estimators': 126, 'max_depth': 6, 'learning_rate': 0.22475681017464805, 'subsample': 0.7575377829943569, 'colsample_bytree': 0.7056172325706974, 'gamma': 0.25930567160898566}. Best is trial 63 with value: 0.7699679749349281.\u001b[0m\n",
      "\u001b[32m[I 2023-04-16 20:27:07,254]\u001b[0m Trial 70 finished with value: 0.7486916157051178 and parameters: {'n_estimators': 70, 'max_depth': 8, 'learning_rate': 0.2102481984370203, 'subsample': 0.7354541438976755, 'colsample_bytree': 0.6028056383331598, 'gamma': 0.29179460813272196}. Best is trial 63 with value: 0.7699679749349281.\u001b[0m\n",
      "\u001b[32m[I 2023-04-16 20:27:20,215]\u001b[0m Trial 71 finished with value: 0.7549064400969702 and parameters: {'n_estimators': 101, 'max_depth': 7, 'learning_rate': 0.19846329914528826, 'subsample': 0.7154043558060881, 'colsample_bytree': 0.6588240407342537, 'gamma': 0.2430385067755155}. Best is trial 63 with value: 0.7699679749349281.\u001b[0m\n",
      "\u001b[32m[I 2023-04-16 20:27:32,523]\u001b[0m Trial 72 finished with value: 0.7633219652174338 and parameters: {'n_estimators': 98, 'max_depth': 7, 'learning_rate': 0.1938364644187247, 'subsample': 0.7062191247313724, 'colsample_bytree': 0.6523673124486062, 'gamma': 0.21280512547936173}. Best is trial 63 with value: 0.7699679749349281.\u001b[0m\n",
      "\u001b[32m[I 2023-04-16 20:27:46,184]\u001b[0m Trial 73 finished with value: 0.7548281483615835 and parameters: {'n_estimators': 96, 'max_depth': 7, 'learning_rate': 0.1781580827382055, 'subsample': 0.7012702612437244, 'colsample_bytree': 0.6721590289669505, 'gamma': 0.3257169183107651}. Best is trial 63 with value: 0.7699679749349281.\u001b[0m\n",
      "\u001b[32m[I 2023-04-16 20:27:58,797]\u001b[0m Trial 74 finished with value: 0.7481885141188133 and parameters: {'n_estimators': 81, 'max_depth': 7, 'learning_rate': 0.18757647794509955, 'subsample': 0.7272140927654857, 'colsample_bytree': 0.685859278378291, 'gamma': 0.17581339059014217}. Best is trial 63 with value: 0.7699679749349281.\u001b[0m\n",
      "\u001b[32m[I 2023-04-16 20:28:05,719]\u001b[0m Trial 75 finished with value: 0.7594299420795347 and parameters: {'n_estimators': 41, 'max_depth': 6, 'learning_rate': 0.2393714516825152, 'subsample': 0.6806017584406229, 'colsample_bytree': 0.6479046834173303, 'gamma': 0.20851715552391362}. Best is trial 63 with value: 0.7699679749349281.\u001b[0m\n",
      "\u001b[32m[I 2023-04-16 20:28:19,020]\u001b[0m Trial 76 finished with value: 0.7519380512530808 and parameters: {'n_estimators': 103, 'max_depth': 8, 'learning_rate': 0.2201161392121979, 'subsample': 0.7658314420794774, 'colsample_bytree': 0.6296239722047116, 'gamma': 0.27725450734075047}. Best is trial 63 with value: 0.7699679749349281.\u001b[0m\n",
      "\u001b[32m[I 2023-04-16 20:28:31,264]\u001b[0m Trial 77 finished with value: 0.7565903058640148 and parameters: {'n_estimators': 87, 'max_depth': 7, 'learning_rate': 0.16836392101652756, 'subsample': 0.6535103872985847, 'colsample_bytree': 0.7205540280636957, 'gamma': 0.3645748892685268}. Best is trial 63 with value: 0.7699679749349281.\u001b[0m\n",
      "\u001b[32m[I 2023-04-16 20:28:45,984]\u001b[0m Trial 78 finished with value: 0.7486916157051178 and parameters: {'n_estimators': 120, 'max_depth': 3, 'learning_rate': 0.19284663668183122, 'subsample': 0.7397156834893137, 'colsample_bytree': 0.7071997958059677, 'gamma': 0.3125143159325092}. Best is trial 63 with value: 0.7699679749349281.\u001b[0m\n",
      "\u001b[32m[I 2023-04-16 20:28:54,543]\u001b[0m Trial 79 finished with value: 0.759648572038018 and parameters: {'n_estimators': 55, 'max_depth': 7, 'learning_rate': 0.2097586702684942, 'subsample': 0.6891046907798227, 'colsample_bytree': 0.7333258102749363, 'gamma': 0.2334039479774508}. Best is trial 63 with value: 0.7699679749349281.\u001b[0m\n",
      "\u001b[32m[I 2023-04-16 20:29:14,412]\u001b[0m Trial 80 finished with value: 0.7470256752548636 and parameters: {'n_estimators': 149, 'max_depth': 8, 'learning_rate': 0.17624331200213517, 'subsample': 0.7528160692668757, 'colsample_bytree': 0.6643826977357636, 'gamma': 0.44402530871893975}. Best is trial 63 with value: 0.7699679749349281.\u001b[0m\n",
      "\u001b[32m[I 2023-04-16 20:29:26,040]\u001b[0m Trial 81 finished with value: 0.7675442928658719 and parameters: {'n_estimators': 90, 'max_depth': 7, 'learning_rate': 0.19799562115292488, 'subsample': 0.7069459862783742, 'colsample_bytree': 0.6496165460655654, 'gamma': 0.23088567840580632}. Best is trial 63 with value: 0.7699679749349281.\u001b[0m\n",
      "\u001b[32m[I 2023-04-16 20:29:36,349]\u001b[0m Trial 82 finished with value: 0.7565859417198234 and parameters: {'n_estimators': 75, 'max_depth': 7, 'learning_rate': 0.18513220404529115, 'subsample': 0.7060807103358487, 'colsample_bytree': 0.6778031705991068, 'gamma': 0.1932106638366825}. Best is trial 63 with value: 0.7699679749349281.\u001b[0m\n",
      "\u001b[32m[I 2023-04-16 20:29:48,741]\u001b[0m Trial 83 finished with value: 0.7535401788937868 and parameters: {'n_estimators': 93, 'max_depth': 7, 'learning_rate': 0.1983162273724479, 'subsample': 0.7215254179343712, 'colsample_bytree': 0.6382596804655365, 'gamma': 0.343965878409382}. Best is trial 63 with value: 0.7699679749349281.\u001b[0m\n",
      "\u001b[32m[I 2023-04-16 20:30:02,252]\u001b[0m Trial 84 finished with value: 0.7441459745519988 and parameters: {'n_estimators': 109, 'max_depth': 6, 'learning_rate': 0.2075188505997999, 'subsample': 0.7284273427732992, 'colsample_bytree': 0.6189648867837776, 'gamma': 0.2760793571512407}. Best is trial 63 with value: 0.7699679749349281.\u001b[0m\n",
      "\u001b[32m[I 2023-04-16 20:30:18,409]\u001b[0m Trial 85 finished with value: 0.7534371817098433 and parameters: {'n_estimators': 143, 'max_depth': 7, 'learning_rate': 0.21992893954506657, 'subsample': 0.7056040264327246, 'colsample_bytree': 0.6518892082016127, 'gamma': 0.24396881565196965}. Best is trial 63 with value: 0.7699679749349281.\u001b[0m\n",
      "\u001b[32m[I 2023-04-16 20:30:30,730]\u001b[0m Trial 86 finished with value: 0.7614312662879069 and parameters: {'n_estimators': 90, 'max_depth': 7, 'learning_rate': 0.23418581044973713, 'subsample': 0.6942535599820955, 'colsample_bytree': 0.7438914874187292, 'gamma': 0.4089430536707738}. Best is trial 63 with value: 0.7699679749349281.\u001b[0m\n",
      "\u001b[32m[I 2023-04-16 20:30:39,969]\u001b[0m Trial 87 finished with value: 0.7455032885110054 and parameters: {'n_estimators': 64, 'max_depth': 4, 'learning_rate': 0.19389703099183606, 'subsample': 0.7382703540088162, 'colsample_bytree': 0.6971767495098508, 'gamma': 0.2904896002727828}. Best is trial 63 with value: 0.7699679749349281.\u001b[0m\n",
      "\u001b[32m[I 2023-04-16 20:30:52,963]\u001b[0m Trial 88 finished with value: 0.7514243411425844 and parameters: {'n_estimators': 104, 'max_depth': 6, 'learning_rate': 0.16059019073300754, 'subsample': 0.7107285592143505, 'colsample_bytree': 0.665266189071519, 'gamma': 0.1534981908353985}. Best is trial 63 with value: 0.7699679749349281.\u001b[0m\n",
      "\u001b[32m[I 2023-04-16 20:31:09,097]\u001b[0m Trial 89 finished with value: 0.7487137788055847 and parameters: {'n_estimators': 115, 'max_depth': 8, 'learning_rate': 0.1826681840725179, 'subsample': 0.7493879788411779, 'colsample_bytree': 0.7208527611258573, 'gamma': 0.32666428231755107}. Best is trial 63 with value: 0.7699679749349281.\u001b[0m\n",
      "\u001b[32m[I 2023-04-16 20:31:15,389]\u001b[0m Trial 90 finished with value: 0.761061332251088 and parameters: {'n_estimators': 32, 'max_depth': 7, 'learning_rate': 0.20182755039965852, 'subsample': 0.722001933647962, 'colsample_bytree': 0.6914204482297529, 'gamma': 0.3736987173631232}. Best is trial 63 with value: 0.7699679749349281.\u001b[0m\n",
      "\u001b[32m[I 2023-04-16 20:31:28,105]\u001b[0m Trial 91 finished with value: 0.7633558106985168 and parameters: {'n_estimators': 99, 'max_depth': 7, 'learning_rate': 0.1927765227098858, 'subsample': 0.7103902733608437, 'colsample_bytree': 0.6556351128691671, 'gamma': 0.22373401823964698}. Best is trial 63 with value: 0.7699679749349281.\u001b[0m\n",
      "\u001b[32m[I 2023-04-16 20:31:40,688]\u001b[0m Trial 92 finished with value: 0.7459562503028853 and parameters: {'n_estimators': 97, 'max_depth': 7, 'learning_rate': 0.17454004441108462, 'subsample': 0.685018962109077, 'colsample_bytree': 0.6323723927278851, 'gamma': 0.2438431284060942}. Best is trial 63 with value: 0.7699679749349281.\u001b[0m\n",
      "\u001b[32m[I 2023-04-16 20:31:52,670]\u001b[0m Trial 93 finished with value: 0.744580817525253 and parameters: {'n_estimators': 94, 'max_depth': 7, 'learning_rate': 0.19025538805788147, 'subsample': 0.674569342622637, 'colsample_bytree': 0.6476881370420656, 'gamma': 0.2099068936860398}. Best is trial 63 with value: 0.7699679749349281.\u001b[0m\n",
      "\u001b[32m[I 2023-04-16 20:32:08,196]\u001b[0m Trial 94 finished with value: 0.7605519818063678 and parameters: {'n_estimators': 135, 'max_depth': 7, 'learning_rate': 0.21045788009161792, 'subsample': 0.6972176245008813, 'colsample_bytree': 0.6780683647535871, 'gamma': 0.19294360716867748}. Best is trial 63 with value: 0.7699679749349281.\u001b[0m\n",
      "\u001b[32m[I 2023-04-16 20:32:23,653]\u001b[0m Trial 95 finished with value: 0.7441459745519988 and parameters: {'n_estimators': 128, 'max_depth': 8, 'learning_rate': 0.21660887527493364, 'subsample': 0.7283997418516566, 'colsample_bytree': 0.6233010226669159, 'gamma': 0.2697593510676153}. Best is trial 63 with value: 0.7699679749349281.\u001b[0m\n",
      "\u001b[32m[I 2023-04-16 20:32:31,382]\u001b[0m Trial 96 finished with value: 0.7624248360308309 and parameters: {'n_estimators': 48, 'max_depth': 6, 'learning_rate': 0.22695306425396433, 'subsample': 0.7073974646878485, 'colsample_bytree': 0.6589146127334796, 'gamma': 0.3018511766754679}. Best is trial 63 with value: 0.7699679749349281.\u001b[0m\n",
      "\u001b[32m[I 2023-04-16 20:32:42,629]\u001b[0m Trial 97 finished with value: 0.7603365639476166 and parameters: {'n_estimators': 91, 'max_depth': 7, 'learning_rate': 0.20157941130158974, 'subsample': 0.6884217983412637, 'colsample_bytree': 0.6132104353856266, 'gamma': 0.22063842089578128}. Best is trial 63 with value: 0.7699679749349281.\u001b[0m\n",
      "\u001b[32m[I 2023-04-16 20:32:53,186]\u001b[0m Trial 98 finished with value: 0.746168640706436 and parameters: {'n_estimators': 80, 'max_depth': 5, 'learning_rate': 0.1823662833882447, 'subsample': 0.7165335643342543, 'colsample_bytree': 0.6694962614629678, 'gamma': 0.1392718261759082}. Best is trial 63 with value: 0.7699679749349281.\u001b[0m\n",
      "\u001b[32m[I 2023-04-16 20:33:06,611]\u001b[0m Trial 99 finished with value: 0.757659273889385 and parameters: {'n_estimators': 100, 'max_depth': 7, 'learning_rate': 0.19394710943248175, 'subsample': 0.7431445522009383, 'colsample_bytree': 0.6395997247249924, 'gamma': 0.35435389935184325}. Best is trial 63 with value: 0.7699679749349281.\u001b[0m\n"
     ]
    }
   ],
   "source": [
    "objective_func = partial(\n",
    "    objective,\n",
    "    X_train=X_train,\n",
    "    stratification_groups=stratification_groups,\n",
    "    xgb_config=xgb_config,\n",
    "    scoring=scoring_func\n",
    ")\n",
    "\n",
    "study = optuna.create_study(direction='maximize')\n",
    "study.optimize(objective_func, n_trials=100)"
   ]
  },
  {
   "cell_type": "code",
   "execution_count": 26,
   "metadata": {
    "ExecuteTime": {
     "end_time": "2023-04-16T20:33:49.315219Z",
     "start_time": "2023-04-16T20:33:31.984782Z"
    }
   },
   "outputs": [],
   "source": [
    "best_params = {\n",
    "    **study.best_params,\n",
    "    **xgb_config\n",
    "}\n",
    "\n",
    "best_xgb = XGBClassifier(**best_params)\n",
    "y_pred = stratified_cross_val_predict(\n",
    "    estimator=best_xgb,\n",
    "    df=X_train,\n",
    "    stratification_groups=stratification_groups,\n",
    "    label_col='Stage',\n",
    "    n_splits=5\n",
    ")\n",
    "y_true = list(X_train['Stage'].values)"
   ]
  },
  {
   "cell_type": "code",
   "execution_count": 27,
   "metadata": {
    "ExecuteTime": {
     "end_time": "2023-04-16T20:33:49.330846Z",
     "start_time": "2023-04-16T20:33:49.315219Z"
    }
   },
   "outputs": [
    {
     "name": "stdout",
     "output_type": "stream",
     "text": [
      "              precision    recall  f1-score   support\n",
      "\n",
      "           I       0.00      0.00      0.00        11\n",
      "          II       0.00      0.00      0.00        10\n",
      "         III       0.33      0.03      0.05        34\n",
      "          IV       0.83      1.00      0.91       247\n",
      "\n",
      "    accuracy                           0.82       302\n",
      "   macro avg       0.29      0.26      0.24       302\n",
      "weighted avg       0.72      0.82      0.75       302\n",
      "\n"
     ]
    }
   ],
   "source": [
    "labels = list(labels_encoding.keys())\n",
    "\n",
    "report = classification_report(y_true, y_pred.astype(int), target_names=labels)\n",
    "print(report)"
   ]
  },
  {
   "cell_type": "code",
   "execution_count": 28,
   "metadata": {
    "ExecuteTime": {
     "end_time": "2023-04-16T20:34:14.060483Z",
     "start_time": "2023-04-16T20:34:13.876014Z"
    }
   },
   "outputs": [
    {
     "data": {
      "image/png": "[encoded data removed]",
      "text/plain": [
       "<Figure size 1000x600 with 2 Axes>"
      ]
     },
     "metadata": {},
     "output_type": "display_data"
    }
   ],
   "source": [
    "accuracy = accuracy_score(y_true, y_pred.astype(int))\n",
    "f1 = f1_score(y_true, y_pred.astype(int), average='weighted')\n",
    "cm = confusion_matrix(y_true, y_pred.astype(int))\n",
    "\n",
    "title = f'Accuracy = {accuracy*100:.2f}%, Weighted F1 = {f1:.2f}'\n",
    "\n",
    "plot_confusion_matrix(cm, labels, title)"
   ]
  },
  {
   "attachments": {},
   "cell_type": "markdown",
   "metadata": {},
   "source": [
    "### Ovarian cancer"
   ]
  },
  {
   "cell_type": "code",
   "execution_count": 29,
   "metadata": {
    "ExecuteTime": {
     "end_time": "2023-04-16T20:35:33.293916Z",
     "start_time": "2023-04-16T20:35:33.262707Z"
    }
   },
   "outputs": [
    {
     "data": {
      "text/plain": [
       "2    32\n",
       "3    26\n",
       "0    23\n",
       "1    13\n",
       "Name: Stage, dtype: int64"
      ]
     },
     "execution_count": 29,
     "metadata": {},
     "output_type": "execute_result"
    }
   ],
   "source": [
    "X_train = train.loc[train['Group'] == 'Ovarian cancer']\n",
    "\n",
    "stratification_groups = X_train.loc[:, 'Stage']\n",
    "X_train = X_train.loc[:, ~X_train.columns.isin(['ID', 'Sex', 'Age', 'Group'])]\n",
    "\n",
    "X_train.loc[:, 'Stage'] = X_train['Stage'].map(labels_encoding)\n",
    "X_train['Stage'].value_counts()"
   ]
  },
  {
   "cell_type": "code",
   "execution_count": 30,
   "metadata": {
    "ExecuteTime": {
     "end_time": "2023-04-16T20:50:05.971495Z",
     "start_time": "2023-04-16T20:35:36.181257Z"
    }
   },
   "outputs": [
    {
     "name": "stderr",
     "output_type": "stream",
     "text": [
      "\u001b[32m[I 2023-04-16 20:35:36,181]\u001b[0m A new study created in memory with name: no-name-7bd9cf37-5b08-421e-87f3-ce99b71c52e0\u001b[0m\n",
      "\u001b[32m[I 2023-04-16 20:35:44,305]\u001b[0m Trial 0 finished with value: 0.3879024570940332 and parameters: {'n_estimators': 63, 'max_depth': 6, 'learning_rate': 0.02093005968199533, 'subsample': 0.996505674384168, 'colsample_bytree': 0.7614181161811826, 'gamma': 0.8334620632941301}. Best is trial 0 with value: 0.3879024570940332.\u001b[0m\n",
      "\u001b[32m[I 2023-04-16 20:35:48,980]\u001b[0m Trial 1 finished with value: 0.37445021388635513 and parameters: {'n_estimators': 42, 'max_depth': 2, 'learning_rate': 0.2513969382015448, 'subsample': 0.692488323177219, 'colsample_bytree': 0.8251055928369175, 'gamma': 0.6648984013295435}. Best is trial 0 with value: 0.3879024570940332.\u001b[0m\n",
      "\u001b[32m[I 2023-04-16 20:36:02,471]\u001b[0m Trial 2 finished with value: 0.37704686247306385 and parameters: {'n_estimators': 131, 'max_depth': 8, 'learning_rate': 0.13543629555601563, 'subsample': 0.7859602052720984, 'colsample_bytree': 0.851126418012295, 'gamma': 0.785913219364484}. Best is trial 0 with value: 0.3879024570940332.\u001b[0m\n",
      "\u001b[32m[I 2023-04-16 20:36:13,062]\u001b[0m Trial 3 finished with value: 0.4136653132299417 and parameters: {'n_estimators': 112, 'max_depth': 6, 'learning_rate': 0.1930586882453391, 'subsample': 0.9630250386201269, 'colsample_bytree': 0.7259863230773841, 'gamma': 0.3388002951796816}. Best is trial 3 with value: 0.4136653132299417.\u001b[0m\n",
      "\u001b[32m[I 2023-04-16 20:36:18,592]\u001b[0m Trial 4 finished with value: 0.3778852615094034 and parameters: {'n_estimators': 43, 'max_depth': 5, 'learning_rate': 0.056392743121796936, 'subsample': 0.7654601416340938, 'colsample_bytree': 0.8865098516707937, 'gamma': 0.9036777599793285}. Best is trial 3 with value: 0.4136653132299417.\u001b[0m\n",
      "\u001b[32m[I 2023-04-16 20:36:30,106]\u001b[0m Trial 5 finished with value: 0.39270287513994606 and parameters: {'n_estimators': 128, 'max_depth': 8, 'learning_rate': 0.16492885849073008, 'subsample': 0.6984086143107113, 'colsample_bytree': 0.6183336440604345, 'gamma': 0.757103786570154}. Best is trial 3 with value: 0.4136653132299417.\u001b[0m\n",
      "\u001b[32m[I 2023-04-16 20:36:43,542]\u001b[0m Trial 6 finished with value: 0.4063841510637849 and parameters: {'n_estimators': 150, 'max_depth': 2, 'learning_rate': 0.27175309187007196, 'subsample': 0.8253559540901165, 'colsample_bytree': 0.9779497128570238, 'gamma': 0.41758038584947876}. Best is trial 3 with value: 0.4136653132299417.\u001b[0m\n",
      "\u001b[32m[I 2023-04-16 20:36:49,495]\u001b[0m Trial 7 finished with value: 0.4003724988779337 and parameters: {'n_estimators': 63, 'max_depth': 2, 'learning_rate': 0.26002407447179526, 'subsample': 0.7010540301844899, 'colsample_bytree': 0.7566704793901259, 'gamma': 0.13778299883399547}. Best is trial 3 with value: 0.4136653132299417.\u001b[0m\n",
      "\u001b[32m[I 2023-04-16 20:36:55,713]\u001b[0m Trial 8 finished with value: 0.3885514432067636 and parameters: {'n_estimators': 58, 'max_depth': 3, 'learning_rate': 0.1317350464639928, 'subsample': 0.654035926842885, 'colsample_bytree': 0.7968940633224133, 'gamma': 0.3626274597714223}. Best is trial 3 with value: 0.4136653132299417.\u001b[0m\n",
      "\u001b[32m[I 2023-04-16 20:37:06,851]\u001b[0m Trial 9 finished with value: 0.37551422481089997 and parameters: {'n_estimators': 103, 'max_depth': 7, 'learning_rate': 0.005827238654049501, 'subsample': 0.6766313465159648, 'colsample_bytree': 0.828299317609072, 'gamma': 0.5268709636586872}. Best is trial 3 with value: 0.4136653132299417.\u001b[0m\n",
      "\u001b[32m[I 2023-04-16 20:37:15,486]\u001b[0m Trial 10 finished with value: 0.4027484965304658 and parameters: {'n_estimators': 95, 'max_depth': 5, 'learning_rate': 0.21283095142903968, 'subsample': 0.9881198788130592, 'colsample_bytree': 0.6780952322466913, 'gamma': 0.11457789598732948}. Best is trial 3 with value: 0.4136653132299417.\u001b[0m\n",
      "\u001b[32m[I 2023-04-16 20:37:29,147]\u001b[0m Trial 11 finished with value: 0.37801396178827523 and parameters: {'n_estimators': 143, 'max_depth': 4, 'learning_rate': 0.2974801487541623, 'subsample': 0.8929838687544347, 'colsample_bytree': 0.9947447453485772, 'gamma': 0.34944721261028167}. Best is trial 3 with value: 0.4136653132299417.\u001b[0m\n",
      "\u001b[32m[I 2023-04-16 20:37:40,542]\u001b[0m Trial 12 finished with value: 0.38203561549402176 and parameters: {'n_estimators': 115, 'max_depth': 6, 'learning_rate': 0.18991526511709214, 'subsample': 0.8748473148755248, 'colsample_bytree': 0.97595851540512, 'gamma': 0.3490973504099153}. Best is trial 3 with value: 0.4136653132299417.\u001b[0m\n",
      "\u001b[32m[I 2023-04-16 20:37:54,597]\u001b[0m Trial 13 finished with value: 0.38459068138491687 and parameters: {'n_estimators': 144, 'max_depth': 4, 'learning_rate': 0.22119387186305253, 'subsample': 0.8651555989701801, 'colsample_bytree': 0.9002352916050123, 'gamma': 0.5335033534631453}. Best is trial 3 with value: 0.4136653132299417.\u001b[0m\n",
      "\u001b[32m[I 2023-04-16 20:38:02,352]\u001b[0m Trial 14 finished with value: 0.36989600047380367 and parameters: {'n_estimators': 83, 'max_depth': 6, 'learning_rate': 0.299800369887974, 'subsample': 0.6088655728974067, 'colsample_bytree': 0.9371785728041649, 'gamma': 0.22531253949072755}. Best is trial 3 with value: 0.4136653132299417.\u001b[0m\n",
      "\u001b[32m[I 2023-04-16 20:38:12,241]\u001b[0m Trial 15 finished with value: 0.4118666006205547 and parameters: {'n_estimators': 117, 'max_depth': 4, 'learning_rate': 0.248939504612874, 'subsample': 0.9414452138481029, 'colsample_bytree': 0.7130300157933165, 'gamma': 0.03389324273739991}. Best is trial 3 with value: 0.4136653132299417.\u001b[0m\n",
      "\u001b[32m[I 2023-04-16 20:38:21,807]\u001b[0m Trial 16 finished with value: 0.39783691079962447 and parameters: {'n_estimators': 113, 'max_depth': 4, 'learning_rate': 0.22227745032400759, 'subsample': 0.9401397529268416, 'colsample_bytree': 0.6888480559950885, 'gamma': 0.005196412472327796}. Best is trial 3 with value: 0.4136653132299417.\u001b[0m\n",
      "\u001b[32m[I 2023-04-16 20:38:29,519]\u001b[0m Trial 17 finished with value: 0.39147097978872103 and parameters: {'n_estimators': 83, 'max_depth': 7, 'learning_rate': 0.17265501553124293, 'subsample': 0.9463143691710221, 'colsample_bytree': 0.7131229014755784, 'gamma': 0.016854917086348176}. Best is trial 3 with value: 0.4136653132299417.\u001b[0m\n",
      "\u001b[32m[I 2023-04-16 20:38:40,524]\u001b[0m Trial 18 finished with value: 0.4262167133330816 and parameters: {'n_estimators': 122, 'max_depth': 3, 'learning_rate': 0.11558039584544555, 'subsample': 0.9302376215724883, 'colsample_bytree': 0.6027820621318494, 'gamma': 0.2651468673092102}. Best is trial 18 with value: 0.4262167133330816.\u001b[0m\n",
      "\u001b[32m[I 2023-04-16 20:38:49,574]\u001b[0m Trial 19 finished with value: 0.44457155163676904 and parameters: {'n_estimators': 97, 'max_depth': 3, 'learning_rate': 0.08711996423565646, 'subsample': 0.9058859868165233, 'colsample_bytree': 0.6031210670252556, 'gamma': 0.2532509191889124}. Best is trial 19 with value: 0.44457155163676904.\u001b[0m\n",
      "\u001b[32m[I 2023-04-16 20:38:58,538]\u001b[0m Trial 20 finished with value: 0.4147817808640261 and parameters: {'n_estimators': 96, 'max_depth': 3, 'learning_rate': 0.10151950502409318, 'subsample': 0.9027002426388373, 'colsample_bytree': 0.6088194177933666, 'gamma': 0.2170077052263648}. Best is trial 19 with value: 0.44457155163676904.\u001b[0m\n",
      "\u001b[32m[I 2023-04-16 20:39:07,287]\u001b[0m Trial 21 finished with value: 0.43741953579877596 and parameters: {'n_estimators': 94, 'max_depth': 3, 'learning_rate': 0.10430464863185157, 'subsample': 0.9020494165019807, 'colsample_bytree': 0.6053603303290339, 'gamma': 0.2610154127510062}. Best is trial 19 with value: 0.44457155163676904.\u001b[0m\n",
      "\u001b[32m[I 2023-04-16 20:39:14,985]\u001b[0m Trial 22 finished with value: 0.4556388994898552 and parameters: {'n_estimators': 79, 'max_depth': 3, 'learning_rate': 0.1050906135066835, 'subsample': 0.9148397355130599, 'colsample_bytree': 0.6426307698529363, 'gamma': 0.25434142176031743}. Best is trial 22 with value: 0.4556388994898552.\u001b[0m\n",
      "\u001b[32m[I 2023-04-16 20:39:22,886]\u001b[0m Trial 23 finished with value: 0.3484437328692107 and parameters: {'n_estimators': 78, 'max_depth': 3, 'learning_rate': 0.08467466840954571, 'subsample': 0.8428292481165551, 'colsample_bytree': 0.6458193850222091, 'gamma': 0.45503557606077216}. Best is trial 22 with value: 0.4556388994898552.\u001b[0m\n",
      "\u001b[32m[I 2023-04-16 20:39:26,059]\u001b[0m Trial 24 finished with value: 0.39758337978446673 and parameters: {'n_estimators': 22, 'max_depth': 3, 'learning_rate': 0.078415486214762, 'subsample': 0.9011361334598842, 'colsample_bytree': 0.6511517660823044, 'gamma': 0.14748714631030954}. Best is trial 22 with value: 0.4556388994898552.\u001b[0m\n",
      "\u001b[32m[I 2023-04-16 20:39:32,761]\u001b[0m Trial 25 finished with value: 0.394896801834142 and parameters: {'n_estimators': 72, 'max_depth': 2, 'learning_rate': 0.15044356050587668, 'subsample': 0.8471187574091548, 'colsample_bytree': 0.6389970782558092, 'gamma': 0.2687947312794127}. Best is trial 22 with value: 0.4556388994898552.\u001b[0m\n",
      "\u001b[32m[I 2023-04-16 20:39:42,576]\u001b[0m Trial 26 finished with value: 0.4031713987916033 and parameters: {'n_estimators': 95, 'max_depth': 4, 'learning_rate': 0.04751844456961056, 'subsample': 0.899697429479518, 'colsample_bytree': 0.665859291418529, 'gamma': 0.19717859180221942}. Best is trial 22 with value: 0.4556388994898552.\u001b[0m\n",
      "\u001b[32m[I 2023-04-16 20:39:52,303]\u001b[0m Trial 27 finished with value: 0.4396196521798049 and parameters: {'n_estimators': 104, 'max_depth': 3, 'learning_rate': 0.10698244589513398, 'subsample': 0.9169184795445599, 'colsample_bytree': 0.6011528740912827, 'gamma': 0.2931154962157692}. Best is trial 22 with value: 0.4556388994898552.\u001b[0m\n",
      "\u001b[32m[I 2023-04-16 20:40:01,971]\u001b[0m Trial 28 finished with value: 0.4186753428441408 and parameters: {'n_estimators': 105, 'max_depth': 2, 'learning_rate': 0.12288219663914188, 'subsample': 0.9636277379840897, 'colsample_bytree': 0.6346087755675583, 'gamma': 0.4427837445168016}. Best is trial 22 with value: 0.4556388994898552.\u001b[0m\n",
      "\u001b[32m[I 2023-04-16 20:40:09,822]\u001b[0m Trial 29 finished with value: 0.42447703785871777 and parameters: {'n_estimators': 69, 'max_depth': 5, 'learning_rate': 0.049409931870060805, 'subsample': 0.9932853108915142, 'colsample_bytree': 0.6700654693126392, 'gamma': 0.09583952903172166}. Best is trial 22 with value: 0.4556388994898552.\u001b[0m\n",
      "\u001b[32m[I 2023-04-16 20:40:15,701]\u001b[0m Trial 30 finished with value: 0.42948840800208754 and parameters: {'n_estimators': 52, 'max_depth': 4, 'learning_rate': 0.08183295176327798, 'subsample': 0.9214685412221721, 'colsample_bytree': 0.6302144716781659, 'gamma': 0.1705204568752152}. Best is trial 22 with value: 0.4556388994898552.\u001b[0m\n",
      "\u001b[32m[I 2023-04-16 20:40:24,256]\u001b[0m Trial 31 finished with value: 0.4185409648569226 and parameters: {'n_estimators': 92, 'max_depth': 3, 'learning_rate': 0.101527442026844, 'subsample': 0.8755833618718333, 'colsample_bytree': 0.6014189353970921, 'gamma': 0.2905351536090348}. Best is trial 22 with value: 0.4556388994898552.\u001b[0m\n",
      "\u001b[32m[I 2023-04-16 20:40:32,719]\u001b[0m Trial 32 finished with value: 0.4223940518676519 and parameters: {'n_estimators': 88, 'max_depth': 3, 'learning_rate': 0.10237459642492897, 'subsample': 0.920462078758162, 'colsample_bytree': 0.6246936027580081, 'gamma': 0.2837608029154489}. Best is trial 22 with value: 0.4556388994898552.\u001b[0m\n",
      "\u001b[32m[I 2023-04-16 20:40:41,720]\u001b[0m Trial 33 finished with value: 0.41296221394442895 and parameters: {'n_estimators': 102, 'max_depth': 2, 'learning_rate': 0.1434167562413371, 'subsample': 0.9730334608729724, 'colsample_bytree': 0.6025731229555518, 'gamma': 0.21730604170769308}. Best is trial 22 with value: 0.4556388994898552.\u001b[0m\n",
      "\u001b[32m[I 2023-04-16 20:40:49,029]\u001b[0m Trial 34 finished with value: 0.4643265255157838 and parameters: {'n_estimators': 73, 'max_depth': 3, 'learning_rate': 0.12546699764421423, 'subsample': 0.9157680267074549, 'colsample_bytree': 0.655267907936205, 'gamma': 0.3166428414323282}. Best is trial 34 with value: 0.4643265255157838.\u001b[0m\n",
      "\u001b[32m[I 2023-04-16 20:40:56,117]\u001b[0m Trial 35 finished with value: 0.4206762099139102 and parameters: {'n_estimators': 74, 'max_depth': 2, 'learning_rate': 0.13848031578009784, 'subsample': 0.9589064624500925, 'colsample_bytree': 0.651490758168144, 'gamma': 0.3895582731698808}. Best is trial 34 with value: 0.4643265255157838.\u001b[0m\n",
      "\u001b[32m[I 2023-04-16 20:41:03,530]\u001b[0m Trial 36 finished with value: 0.3747309192861463 and parameters: {'n_estimators': 66, 'max_depth': 5, 'learning_rate': 0.06491259877300899, 'subsample': 0.9188603517117367, 'colsample_bytree': 0.6840300978801501, 'gamma': 0.3124706535720169}. Best is trial 34 with value: 0.4643265255157838.\u001b[0m\n",
      "\u001b[32m[I 2023-04-16 20:41:09,208]\u001b[0m Trial 37 finished with value: 0.39427274542784707 and parameters: {'n_estimators': 52, 'max_depth': 4, 'learning_rate': 0.120332281546773, 'subsample': 0.8017748463453372, 'colsample_bytree': 0.6276011053428461, 'gamma': 0.4832847111861864}. Best is trial 34 with value: 0.4643265255157838.\u001b[0m\n",
      "\u001b[32m[I 2023-04-16 20:41:17,960]\u001b[0m Trial 38 finished with value: 0.3999272182776019 and parameters: {'n_estimators': 80, 'max_depth': 3, 'learning_rate': 0.030868520252499886, 'subsample': 0.9995189233736963, 'colsample_bytree': 0.658947387264755, 'gamma': 0.393235326136246}. Best is trial 34 with value: 0.4643265255157838.\u001b[0m\n",
      "\u001b[32m[I 2023-04-16 20:41:21,572]\u001b[0m Trial 39 finished with value: 0.418947577003843 and parameters: {'n_estimators': 29, 'max_depth': 2, 'learning_rate': 0.15824511135172592, 'subsample': 0.9491855528039607, 'colsample_bytree': 0.695671121425838, 'gamma': 0.32254781417812817}. Best is trial 34 with value: 0.4643265255157838.\u001b[0m\n",
      "\u001b[32m[I 2023-04-16 20:41:32,308]\u001b[0m Trial 40 finished with value: 0.3947435554902913 and parameters: {'n_estimators': 107, 'max_depth': 3, 'learning_rate': 0.13350820973572058, 'subsample': 0.9767206747717276, 'colsample_bytree': 0.7423183954911242, 'gamma': 0.5734732819052818}. Best is trial 34 with value: 0.4643265255157838.\u001b[0m\n",
      "\u001b[32m[I 2023-04-16 20:41:40,850]\u001b[0m Trial 41 finished with value: 0.3904224262760069 and parameters: {'n_estimators': 89, 'max_depth': 3, 'learning_rate': 0.10581858259629226, 'subsample': 0.8817462237343311, 'colsample_bytree': 0.6196749871645136, 'gamma': 0.2559349472021597}. Best is trial 34 with value: 0.4643265255157838.\u001b[0m\n",
      "\u001b[32m[I 2023-04-16 20:41:50,250]\u001b[0m Trial 42 finished with value: 0.4150596406470767 and parameters: {'n_estimators': 101, 'max_depth': 3, 'learning_rate': 0.09101777225230977, 'subsample': 0.9087904237968544, 'colsample_bytree': 0.6216082839218503, 'gamma': 0.1808103950268919}. Best is trial 34 with value: 0.4643265255157838.\u001b[0m\n",
      "\u001b[32m[I 2023-04-16 20:41:57,832]\u001b[0m Trial 43 finished with value: 0.4066191799787548 and parameters: {'n_estimators': 77, 'max_depth': 2, 'learning_rate': 0.0683715899332997, 'subsample': 0.934530190372909, 'colsample_bytree': 0.6447628097411822, 'gamma': 0.3254939525907935}. Best is trial 34 with value: 0.4643265255157838.\u001b[0m\n",
      "\u001b[32m[I 2023-04-16 20:42:09,353]\u001b[0m Trial 44 finished with value: 0.36427506606703 and parameters: {'n_estimators': 123, 'max_depth': 4, 'learning_rate': 0.12174520445668485, 'subsample': 0.883780381813328, 'colsample_bytree': 0.6652722471788152, 'gamma': 0.40597604446184615}. Best is trial 34 with value: 0.4643265255157838.\u001b[0m\n",
      "\u001b[32m[I 2023-04-16 20:42:19,628]\u001b[0m Trial 45 finished with value: 0.37015198881449385 and parameters: {'n_estimators': 109, 'max_depth': 3, 'learning_rate': 0.08955661750203647, 'subsample': 0.8569886469230995, 'colsample_bytree': 0.615544717041087, 'gamma': 0.36444268650707434}. Best is trial 34 with value: 0.4643265255157838.\u001b[0m\n",
      "\u001b[32m[I 2023-04-16 20:42:25,835]\u001b[0m Trial 46 finished with value: 0.41224202232833945 and parameters: {'n_estimators': 58, 'max_depth': 5, 'learning_rate': 0.11361182213398499, 'subsample': 0.8897710180483224, 'colsample_bytree': 0.6397094167268174, 'gamma': 0.2444760364087275}. Best is trial 34 with value: 0.4643265255157838.\u001b[0m\n",
      "\u001b[32m[I 2023-04-16 20:42:33,529]\u001b[0m Trial 47 finished with value: 0.42220113586801566 and parameters: {'n_estimators': 83, 'max_depth': 2, 'learning_rate': 0.13208199672827053, 'subsample': 0.9216930040052366, 'colsample_bytree': 0.603097962483894, 'gamma': 0.29310518044729506}. Best is trial 34 with value: 0.4643265255157838.\u001b[0m\n",
      "\u001b[32m[I 2023-04-16 20:42:42,503]\u001b[0m Trial 48 finished with value: 0.3619225335114923 and parameters: {'n_estimators': 99, 'max_depth': 4, 'learning_rate': 0.14958232993108161, 'subsample': 0.8274994188659593, 'colsample_bytree': 0.6702391333472463, 'gamma': 0.12997174535456507}. Best is trial 34 with value: 0.4643265255157838.\u001b[0m\n",
      "\u001b[32m[I 2023-04-16 20:42:54,575]\u001b[0m Trial 49 finished with value: 0.42805106134162874 and parameters: {'n_estimators': 132, 'max_depth': 3, 'learning_rate': 0.07191099740491745, 'subsample': 0.8667270655065501, 'colsample_bytree': 0.7788879819196171, 'gamma': 0.07923936454221692}. Best is trial 34 with value: 0.4643265255157838.\u001b[0m\n",
      "\u001b[32m[I 2023-04-16 20:43:03,369]\u001b[0m Trial 50 finished with value: 0.3638543443253027 and parameters: {'n_estimators': 89, 'max_depth': 4, 'learning_rate': 0.09328567753202213, 'subsample': 0.9121969203762669, 'colsample_bytree': 0.6995835132137571, 'gamma': 0.17299928426485628}. Best is trial 34 with value: 0.4643265255157838.\u001b[0m\n",
      "\u001b[32m[I 2023-04-16 20:43:09,364]\u001b[0m Trial 51 finished with value: 0.43121018520971416 and parameters: {'n_estimators': 53, 'max_depth': 4, 'learning_rate': 0.08052603569341389, 'subsample': 0.9260672254158919, 'colsample_bytree': 0.6293381768390467, 'gamma': 0.1758772674137408}. Best is trial 34 with value: 0.4643265255157838.\u001b[0m\n",
      "\u001b[32m[I 2023-04-16 20:43:14,156]\u001b[0m Trial 52 finished with value: 0.40358982442382374 and parameters: {'n_estimators': 41, 'max_depth': 3, 'learning_rate': 0.1074921054253862, 'subsample': 0.9553941991085139, 'colsample_bytree': 0.6320349723184906, 'gamma': 0.2458955424471541}. Best is trial 34 with value: 0.4643265255157838.\u001b[0m\n",
      "\u001b[32m[I 2023-04-16 20:43:18,995]\u001b[0m Trial 53 finished with value: 0.4053797568823144 and parameters: {'n_estimators': 39, 'max_depth': 4, 'learning_rate': 0.07865644388737263, 'subsample': 0.9341596603361608, 'colsample_bytree': 0.617634707562133, 'gamma': 0.1925184121203477}. Best is trial 34 with value: 0.4643265255157838.\u001b[0m\n",
      "\u001b[32m[I 2023-04-16 20:43:25,521]\u001b[0m Trial 54 finished with value: 0.38816356810282643 and parameters: {'n_estimators': 62, 'max_depth': 3, 'learning_rate': 0.09465001094079385, 'subsample': 0.8926734675833535, 'colsample_bytree': 0.6528707229319475, 'gamma': 0.34677252283474014}. Best is trial 34 with value: 0.4643265255157838.\u001b[0m\n",
      "\u001b[32m[I 2023-04-16 20:43:31,537]\u001b[0m Trial 55 finished with value: 0.3924516029934828 and parameters: {'n_estimators': 54, 'max_depth': 3, 'learning_rate': 0.05950534163602186, 'subsample': 0.9415832403053479, 'colsample_bytree': 0.6168207072528988, 'gamma': 0.23738442184322603}. Best is trial 34 with value: 0.4643265255157838.\u001b[0m\n",
      "\u001b[32m[I 2023-04-16 20:43:40,791]\u001b[0m Trial 56 finished with value: 0.4576671818519644 and parameters: {'n_estimators': 96, 'max_depth': 8, 'learning_rate': 0.12471064427025205, 'subsample': 0.9076866559083575, 'colsample_bytree': 0.6798699687271024, 'gamma': 0.3064984795795175}. Best is trial 34 with value: 0.4643265255157838.\u001b[0m\n",
      "\u001b[32m[I 2023-04-16 20:43:50,047]\u001b[0m Trial 57 finished with value: 0.4217620171960847 and parameters: {'n_estimators': 96, 'max_depth': 8, 'learning_rate': 0.12288221733048027, 'subsample': 0.9105437172169238, 'colsample_bytree': 0.6786351130569295, 'gamma': 0.3004382950134216}. Best is trial 34 with value: 0.4643265255157838.\u001b[0m\n",
      "\u001b[32m[I 2023-04-16 20:44:00,410]\u001b[0m Trial 58 finished with value: 0.41299973405320695 and parameters: {'n_estimators': 110, 'max_depth': 7, 'learning_rate': 0.11222045436807425, 'subsample': 0.8976262922657642, 'colsample_bytree': 0.6495129726711453, 'gamma': 0.3740162802767918}. Best is trial 34 with value: 0.4643265255157838.\u001b[0m\n",
      "\u001b[32m[I 2023-04-16 20:44:08,462]\u001b[0m Trial 59 finished with value: 0.370748196128042 and parameters: {'n_estimators': 84, 'max_depth': 7, 'learning_rate': 0.12550369856262147, 'subsample': 0.8615166688885602, 'colsample_bytree': 0.6003804646389284, 'gamma': 0.3409114738988022}. Best is trial 34 with value: 0.4643265255157838.\u001b[0m\n",
      "\u001b[32m[I 2023-04-16 20:44:15,734]\u001b[0m Trial 60 finished with value: 0.41688086897149357 and parameters: {'n_estimators': 73, 'max_depth': 6, 'learning_rate': 0.13852107498232727, 'subsample': 0.8834936212832891, 'colsample_bytree': 0.6581294544801236, 'gamma': 0.2710000829761716}. Best is trial 34 with value: 0.4643265255157838.\u001b[0m\n",
      "\u001b[32m[I 2023-04-16 20:44:24,380]\u001b[0m Trial 61 finished with value: 0.3988085415252177 and parameters: {'n_estimators': 91, 'max_depth': 5, 'learning_rate': 0.11174031225656368, 'subsample': 0.92849788266456, 'colsample_bytree': 0.6309292426710716, 'gamma': 0.21323719573954397}. Best is trial 34 with value: 0.4643265255157838.\u001b[0m\n",
      "\u001b[32m[I 2023-04-16 20:44:34,888]\u001b[0m Trial 62 finished with value: 0.4155084266930579 and parameters: {'n_estimators': 117, 'max_depth': 8, 'learning_rate': 0.09668888891614286, 'subsample': 0.9069954291361176, 'colsample_bytree': 0.6125777898865079, 'gamma': 0.16679492677844324}. Best is trial 34 with value: 0.4643265255157838.\u001b[0m\n",
      "\u001b[32m[I 2023-04-16 20:44:44,288]\u001b[0m Trial 63 finished with value: 0.4019718446599167 and parameters: {'n_estimators': 98, 'max_depth': 4, 'learning_rate': 0.0802017998167251, 'subsample': 0.9462613792513488, 'colsample_bytree': 0.6400815685169591, 'gamma': 0.1504219645404974}. Best is trial 34 with value: 0.4643265255157838.\u001b[0m\n",
      "\u001b[32m[I 2023-04-16 20:44:51,652]\u001b[0m Trial 64 finished with value: 0.4196073758430737 and parameters: {'n_estimators': 79, 'max_depth': 2, 'learning_rate': 0.10583260413653649, 'subsample': 0.928948228263247, 'colsample_bytree': 0.6754358382079519, 'gamma': 0.210400550133938}. Best is trial 34 with value: 0.4643265255157838.\u001b[0m\n",
      "\u001b[32m[I 2023-04-16 20:45:01,683]\u001b[0m Trial 65 finished with value: 0.4463851064394543 and parameters: {'n_estimators': 104, 'max_depth': 3, 'learning_rate': 0.08691779466853183, 'subsample': 0.9739618975176592, 'colsample_bytree': 0.6381561203870129, 'gamma': 0.3146101066091648}. Best is trial 34 with value: 0.4643265255157838.\u001b[0m\n",
      "\u001b[32m[I 2023-04-16 20:45:10,926]\u001b[0m Trial 66 finished with value: 0.3817478161299672 and parameters: {'n_estimators': 93, 'max_depth': 3, 'learning_rate': 0.12738010269528827, 'subsample': 0.9743097668168154, 'colsample_bytree': 0.6583962522407925, 'gamma': 0.31383004680778215}. Best is trial 34 with value: 0.4643265255157838.\u001b[0m\n",
      "\u001b[32m[I 2023-04-16 20:45:21,154]\u001b[0m Trial 67 finished with value: 0.4258382707771295 and parameters: {'n_estimators': 106, 'max_depth': 3, 'learning_rate': 0.09092485937225828, 'subsample': 0.9654547074885597, 'colsample_bytree': 0.640789555451818, 'gamma': 0.27340081205295585}. Best is trial 34 with value: 0.4643265255157838.\u001b[0m\n",
      "\u001b[32m[I 2023-04-16 20:45:29,335]\u001b[0m Trial 68 finished with value: 0.4169315343010701 and parameters: {'n_estimators': 86, 'max_depth': 2, 'learning_rate': 0.11419263930497978, 'subsample': 0.9860874004928127, 'colsample_bytree': 0.6123653212737027, 'gamma': 0.4215744465174955}. Best is trial 34 with value: 0.4643265255157838.\u001b[0m\n",
      "\u001b[32m[I 2023-04-16 20:45:40,285]\u001b[0m Trial 69 finished with value: 0.403446674098848 and parameters: {'n_estimators': 114, 'max_depth': 3, 'learning_rate': 0.09768869830611199, 'subsample': 0.9560239154343698, 'colsample_bytree': 0.6821020319341808, 'gamma': 0.36217766510436955}. Best is trial 34 with value: 0.4643265255157838.\u001b[0m\n",
      "\u001b[32m[I 2023-04-16 20:45:49,492]\u001b[0m Trial 70 finished with value: 0.38118161735489103 and parameters: {'n_estimators': 101, 'max_depth': 6, 'learning_rate': 0.14310328804149003, 'subsample': 0.8715626982764072, 'colsample_bytree': 0.6004505502197712, 'gamma': 0.3011917007322424}. Best is trial 34 with value: 0.4643265255157838.\u001b[0m\n",
      "\u001b[32m[I 2023-04-16 20:45:54,817]\u001b[0m Trial 71 finished with value: 0.3966649128847103 and parameters: {'n_estimators': 45, 'max_depth': 4, 'learning_rate': 0.07218482961728144, 'subsample': 0.900353866485919, 'colsample_bytree': 0.6276235711687368, 'gamma': 0.23518607843924397}. Best is trial 34 with value: 0.4643265255157838.\u001b[0m\n",
      "\u001b[32m[I 2023-04-16 20:46:04,657]\u001b[0m Trial 72 finished with value: 0.42127846518831175 and parameters: {'n_estimators': 105, 'max_depth': 3, 'learning_rate': 0.08290220571082263, 'subsample': 0.9429113824198507, 'colsample_bytree': 0.6273680183471029, 'gamma': 0.26691282063160193}. Best is trial 34 with value: 0.4643265255157838.\u001b[0m\n",
      "\u001b[32m[I 2023-04-16 20:46:13,991]\u001b[0m Trial 73 finished with value: 0.4314403066914341 and parameters: {'n_estimators': 98, 'max_depth': 3, 'learning_rate': 0.10424887164053842, 'subsample': 0.9191687564404428, 'colsample_bytree': 0.6452552245462578, 'gamma': 0.33543651777184436}. Best is trial 34 with value: 0.4643265255157838.\u001b[0m\n",
      "\u001b[32m[I 2023-04-16 20:46:21,058]\u001b[0m Trial 74 finished with value: 0.3700568451301432 and parameters: {'n_estimators': 69, 'max_depth': 3, 'learning_rate': 0.10541990949741985, 'subsample': 0.9148096877650903, 'colsample_bytree': 0.6665052746241559, 'gamma': 0.33446699903482807}. Best is trial 34 with value: 0.4643265255157838.\u001b[0m\n",
      "\u001b[32m[I 2023-04-16 20:46:32,034]\u001b[0m Trial 75 finished with value: 0.41871792552833487 and parameters: {'n_estimators': 121, 'max_depth': 3, 'learning_rate': 0.1159494141093374, 'subsample': 0.8989416163338474, 'colsample_bytree': 0.6427764360873564, 'gamma': 0.37054501826891445}. Best is trial 34 with value: 0.4643265255157838.\u001b[0m\n",
      "\u001b[32m[I 2023-04-16 20:46:40,715]\u001b[0m Trial 76 finished with value: 0.3921043623745872 and parameters: {'n_estimators': 93, 'max_depth': 3, 'learning_rate': 0.12858902860332616, 'subsample': 0.8853613438427382, 'colsample_bytree': 0.6158208253533661, 'gamma': 0.3198067125538389}. Best is trial 34 with value: 0.4643265255157838.\u001b[0m\n",
      "\u001b[32m[I 2023-04-16 20:46:50,656]\u001b[0m Trial 77 finished with value: 0.45049059391427565 and parameters: {'n_estimators': 111, 'max_depth': 2, 'learning_rate': 0.1009459168461631, 'subsample': 0.9351680596994416, 'colsample_bytree': 0.6520059971766881, 'gamma': 0.2955133811335667}. Best is trial 34 with value: 0.4643265255157838.\u001b[0m\n",
      "\u001b[32m[I 2023-04-16 20:47:01,967]\u001b[0m Trial 78 finished with value: 0.395615487199251 and parameters: {'n_estimators': 129, 'max_depth': 2, 'learning_rate': 0.11927406489853717, 'subsample': 0.9514183914040404, 'colsample_bytree': 0.6918399862054376, 'gamma': 0.2865953962036376}. Best is trial 34 with value: 0.4643265255157838.\u001b[0m\n",
      "\u001b[32m[I 2023-04-16 20:47:11,729]\u001b[0m Trial 79 finished with value: 0.416300488540191 and parameters: {'n_estimators': 112, 'max_depth': 2, 'learning_rate': 0.08868042579265475, 'subsample': 0.931143857199158, 'colsample_bytree': 0.6095169614489643, 'gamma': 0.22638180097769592}. Best is trial 34 with value: 0.4643265255157838.\u001b[0m\n",
      "\u001b[32m[I 2023-04-16 20:47:21,047]\u001b[0m Trial 80 finished with value: 0.3961810709892551 and parameters: {'n_estimators': 103, 'max_depth': 2, 'learning_rate': 0.13188510746223492, 'subsample': 0.962121573870274, 'colsample_bytree': 0.6589151437186185, 'gamma': 0.42590330528596176}. Best is trial 34 with value: 0.4643265255157838.\u001b[0m\n",
      "\u001b[32m[I 2023-04-16 20:47:30,404]\u001b[0m Trial 81 finished with value: 0.4302216247742227 and parameters: {'n_estimators': 98, 'max_depth': 3, 'learning_rate': 0.10164442295413939, 'subsample': 0.9174396652397958, 'colsample_bytree': 0.646549780260175, 'gamma': 0.3411740402380141}. Best is trial 34 with value: 0.4643265255157838.\u001b[0m\n",
      "\u001b[32m[I 2023-04-16 20:47:38,390]\u001b[0m Trial 82 finished with value: 0.44301575035270685 and parameters: {'n_estimators': 87, 'max_depth': 2, 'learning_rate': 0.10940908513105939, 'subsample': 0.9373878281501619, 'colsample_bytree': 0.6353540007959199, 'gamma': 0.24499866150264915}. Best is trial 34 with value: 0.4643265255157838.\u001b[0m\n",
      "\u001b[32m[I 2023-04-16 20:47:45,707]\u001b[0m Trial 83 finished with value: 0.4071221746010791 and parameters: {'n_estimators': 76, 'max_depth': 2, 'learning_rate': 0.08680051462377278, 'subsample': 0.9388970538844208, 'colsample_bytree': 0.6355973033057928, 'gamma': 0.25318309077113293}. Best is trial 34 with value: 0.4643265255157838.\u001b[0m\n",
      "\u001b[32m[I 2023-04-16 20:47:53,213]\u001b[0m Trial 84 finished with value: 0.415803491715879 and parameters: {'n_estimators': 81, 'max_depth': 2, 'learning_rate': 0.09767406727074687, 'subsample': 0.9027919180610187, 'colsample_bytree': 0.6253109851343974, 'gamma': 0.19782123449886288}. Best is trial 34 with value: 0.4643265255157838.\u001b[0m\n",
      "\u001b[32m[I 2023-04-16 20:48:01,358]\u001b[0m Trial 85 finished with value: 0.40776250994662366 and parameters: {'n_estimators': 87, 'max_depth': 2, 'learning_rate': 0.11100875295269422, 'subsample': 0.9849655456127628, 'colsample_bytree': 0.6668228445460104, 'gamma': 0.28177452074708775}. Best is trial 34 with value: 0.4643265255157838.\u001b[0m\n",
      "\u001b[32m[I 2023-04-16 20:48:10,748]\u001b[0m Trial 86 finished with value: 0.40146718088189015 and parameters: {'n_estimators': 108, 'max_depth': 2, 'learning_rate': 0.11940124289901506, 'subsample': 0.9675232695371857, 'colsample_bytree': 0.6082523375312392, 'gamma': 0.2528745354967093}. Best is trial 34 with value: 0.4643265255157838.\u001b[0m\n",
      "\u001b[32m[I 2023-04-16 20:48:19,559]\u001b[0m Trial 87 finished with value: 0.4102540032104492 and parameters: {'n_estimators': 90, 'max_depth': 3, 'learning_rate': 0.07593091838794362, 'subsample': 0.9535651784721302, 'colsample_bytree': 0.6212576756938153, 'gamma': 0.31272830976860055}. Best is trial 34 with value: 0.4643265255157838.\u001b[0m\n",
      "\u001b[32m[I 2023-04-16 20:48:28,217]\u001b[0m Trial 88 finished with value: 0.4062219048712015 and parameters: {'n_estimators': 94, 'max_depth': 2, 'learning_rate': 0.09659232016798075, 'subsample': 0.877605198936336, 'colsample_bytree': 0.7052228625371844, 'gamma': 0.38151642009401526}. Best is trial 34 with value: 0.4643265255157838.\u001b[0m\n",
      "\u001b[32m[I 2023-04-16 20:48:39,469]\u001b[0m Trial 89 finished with value: 0.39593715346550523 and parameters: {'n_estimators': 118, 'max_depth': 4, 'learning_rate': 0.06356002425814225, 'subsample': 0.8912386917636912, 'colsample_bytree': 0.6865864032852306, 'gamma': 0.22067863236086188}. Best is trial 34 with value: 0.4643265255157838.\u001b[0m\n",
      "\u001b[32m[I 2023-04-16 20:48:49,955]\u001b[0m Trial 90 finished with value: 0.41820376848318447 and parameters: {'n_estimators': 111, 'max_depth': 3, 'learning_rate': 0.08521793967733429, 'subsample': 0.9343253583679872, 'colsample_bytree': 0.6341484778483069, 'gamma': 0.29172054462661834}. Best is trial 34 with value: 0.4643265255157838.\u001b[0m\n",
      "\u001b[32m[I 2023-04-16 20:48:59,484]\u001b[0m Trial 91 finished with value: 0.43577003493420574 and parameters: {'n_estimators': 98, 'max_depth': 3, 'learning_rate': 0.10631569405781267, 'subsample': 0.9218274103195471, 'colsample_bytree': 0.6491124665753094, 'gamma': 0.3990613470424086}. Best is trial 34 with value: 0.4643265255157838.\u001b[0m\n",
      "\u001b[32m[I 2023-04-16 20:49:09,355]\u001b[0m Trial 92 finished with value: 0.4263501371990906 and parameters: {'n_estimators': 104, 'max_depth': 3, 'learning_rate': 0.10748642079072698, 'subsample': 0.9089880330516313, 'colsample_bytree': 0.6529858820839576, 'gamma': 0.3960139356000809}. Best is trial 34 with value: 0.4643265255157838.\u001b[0m\n",
      "\u001b[32m[I 2023-04-16 20:49:16,376]\u001b[0m Trial 93 finished with value: 0.4156198079825082 and parameters: {'n_estimators': 70, 'max_depth': 3, 'learning_rate': 0.1174589314959618, 'subsample': 0.9225655393219666, 'colsample_bytree': 0.6752743248305091, 'gamma': 0.2645369046956566}. Best is trial 34 with value: 0.4643265255157838.\u001b[0m\n",
      "\u001b[32m[I 2023-04-16 20:49:25,849]\u001b[0m Trial 94 finished with value: 0.4273690078037904 and parameters: {'n_estimators': 100, 'max_depth': 7, 'learning_rate': 0.12385415901960493, 'subsample': 0.9471610758866698, 'colsample_bytree': 0.6232935891996431, 'gamma': 0.35513233483152223}. Best is trial 34 with value: 0.4643265255157838.\u001b[0m\n",
      "\u001b[32m[I 2023-04-16 20:49:33,993]\u001b[0m Trial 95 finished with value: 0.45980270841540866 and parameters: {'n_estimators': 84, 'max_depth': 3, 'learning_rate': 0.0927187709272115, 'subsample': 0.9137950011016444, 'colsample_bytree': 0.6082072008567156, 'gamma': 0.31069821882137416}. Best is trial 34 with value: 0.4643265255157838.\u001b[0m\n",
      "\u001b[32m[I 2023-04-16 20:49:42,138]\u001b[0m Trial 96 finished with value: 0.38005325127929535 and parameters: {'n_estimators': 83, 'max_depth': 4, 'learning_rate': 0.09242673758421643, 'subsample': 0.8937825785443965, 'colsample_bytree': 0.6086423202728128, 'gamma': 0.2381924512985581}. Best is trial 34 with value: 0.4643265255157838.\u001b[0m\n",
      "\u001b[32m[I 2023-04-16 20:49:50,135]\u001b[0m Trial 97 finished with value: 0.4065551364544332 and parameters: {'n_estimators': 86, 'max_depth': 2, 'learning_rate': 0.0723399796197923, 'subsample': 0.9139912733268052, 'colsample_bytree': 0.6354814895592363, 'gamma': 0.30505685672946653}. Best is trial 34 with value: 0.4643265255157838.\u001b[0m\n",
      "\u001b[32m[I 2023-04-16 20:49:57,705]\u001b[0m Trial 98 finished with value: 0.4311050099493194 and parameters: {'n_estimators': 77, 'max_depth': 3, 'learning_rate': 0.09891750117432577, 'subsample': 0.9075041534192654, 'colsample_bytree': 0.6203979226050433, 'gamma': 0.19733674767254503}. Best is trial 34 with value: 0.4643265255157838.\u001b[0m\n",
      "\u001b[32m[I 2023-04-16 20:50:05,962]\u001b[0m Trial 99 finished with value: 0.41207945814723307 and parameters: {'n_estimators': 81, 'max_depth': 8, 'learning_rate': 0.08685566540407019, 'subsample': 0.9377439436376114, 'colsample_bytree': 0.6084550818163192, 'gamma': 0.26008745268401884}. Best is trial 34 with value: 0.4643265255157838.\u001b[0m\n"
     ]
    }
   ],
   "source": [
    "objective_func = partial(\n",
    "    objective,\n",
    "    X_train=X_train,\n",
    "    stratification_groups=stratification_groups,\n",
    "    xgb_config=xgb_config,\n",
    "    scoring=scoring_func\n",
    ")\n",
    "\n",
    "study = optuna.create_study(direction='maximize')\n",
    "study.optimize(objective_func, n_trials=100)"
   ]
  },
  {
   "cell_type": "code",
   "execution_count": 31,
   "metadata": {
    "ExecuteTime": {
     "end_time": "2023-04-16T20:50:15.265460Z",
     "start_time": "2023-04-16T20:50:05.975498Z"
    }
   },
   "outputs": [],
   "source": [
    "best_params = {\n",
    "    **study.best_params,\n",
    "    **xgb_config\n",
    "}\n",
    "\n",
    "best_xgb = XGBClassifier(**best_params)\n",
    "y_pred = stratified_cross_val_predict(\n",
    "    estimator=best_xgb,\n",
    "    df=X_train,\n",
    "    stratification_groups=stratification_groups,\n",
    "    label_col='Stage',\n",
    "    n_splits=5\n",
    ")\n",
    "y_true = list(X_train['Stage'].values)"
   ]
  },
  {
   "cell_type": "code",
   "execution_count": 32,
   "metadata": {
    "ExecuteTime": {
     "end_time": "2023-04-16T20:50:15.326246Z",
     "start_time": "2023-04-16T20:50:15.265460Z"
    }
   },
   "outputs": [
    {
     "name": "stdout",
     "output_type": "stream",
     "text": [
      "              precision    recall  f1-score   support\n",
      "\n",
      "           I       0.45      0.43      0.44        23\n",
      "          II       0.00      0.00      0.00        13\n",
      "         III       0.29      0.38      0.33        32\n",
      "          IV       0.64      0.69      0.67        26\n",
      "\n",
      "    accuracy                           0.43        94\n",
      "   macro avg       0.35      0.38      0.36        94\n",
      "weighted avg       0.39      0.43      0.41        94\n",
      "\n"
     ]
    }
   ],
   "source": [
    "labels = list(labels_encoding.keys())\n",
    "\n",
    "report = classification_report(y_true, y_pred.astype(int), target_names=labels)\n",
    "print(report)"
   ]
  },
  {
   "cell_type": "code",
   "execution_count": 33,
   "metadata": {
    "ExecuteTime": {
     "end_time": "2023-04-16T20:50:36.691031Z",
     "start_time": "2023-04-16T20:50:36.394126Z"
    }
   },
   "outputs": [
    {
     "data": {
      "image/png": "[encoded data removed]",
      "text/plain": [
       "<Figure size 1000x600 with 2 Axes>"
      ]
     },
     "metadata": {},
     "output_type": "display_data"
    }
   ],
   "source": [
    "accuracy = accuracy_score(y_true, y_pred.astype(int))\n",
    "f1 = f1_score(y_true, y_pred.astype(int), average='weighted')\n",
    "cm = confusion_matrix(y_true, y_pred.astype(int))\n",
    "\n",
    "title = f'Accuracy = {accuracy*100:.2f}%, Weighted F1 = {f1:.2f}'\n",
    "\n",
    "plot_confusion_matrix(cm, labels, title)"
   ]
  },
  {
   "attachments": {},
   "cell_type": "markdown",
   "metadata": {},
   "source": [
    "### Pancreatic cancer\n"
   ]
  },
  {
   "cell_type": "code",
   "execution_count": 34,
   "metadata": {
    "ExecuteTime": {
     "end_time": "2023-04-16T20:52:23.344374Z",
     "start_time": "2023-04-16T20:52:23.297489Z"
    }
   },
   "outputs": [
    {
     "data": {
      "text/plain": [
       "1    48\n",
       "2    23\n",
       "3    18\n",
       "0     2\n",
       "Name: Stage, dtype: int64"
      ]
     },
     "execution_count": 34,
     "metadata": {},
     "output_type": "execute_result"
    }
   ],
   "source": [
    "X_train = train.loc[train['Group'] == 'Pancreatic cancer']\n",
    "\n",
    "stratification_groups = X_train.loc[:, 'Stage']\n",
    "X_train = X_train.loc[:, ~X_train.columns.isin(['ID', 'Sex', 'Age', 'Group'])]\n",
    "\n",
    "X_train.loc[:, 'Stage'] = X_train['Stage'].map(labels_encoding)\n",
    "X_train['Stage'].value_counts()"
   ]
  },
  {
   "cell_type": "code",
   "execution_count": 35,
   "metadata": {
    "ExecuteTime": {
     "end_time": "2023-04-16T21:11:16.966932Z",
     "start_time": "2023-04-16T20:52:45.614839Z"
    },
    "collapsed": false
   },
   "outputs": [
    {
     "name": "stderr",
     "output_type": "stream",
     "text": [
      "\u001b[32m[I 2023-04-16 20:52:45,614]\u001b[0m A new study created in memory with name: no-name-44cd3d11-f58a-4fea-8d5a-93b88bf290c9\u001b[0m\n",
      "\u001b[32m[I 2023-04-16 20:52:51,398]\u001b[0m Trial 0 finished with value: 0.3762408100395357 and parameters: {'n_estimators': 39, 'max_depth': 8, 'learning_rate': 0.011653336781692732, 'subsample': 0.9982370987594535, 'colsample_bytree': 0.8560338166557189, 'gamma': 0.36798649935684513}. Best is trial 0 with value: 0.3762408100395357.\u001b[0m\n",
      "\u001b[32m[I 2023-04-16 20:53:03,874]\u001b[0m Trial 1 finished with value: 0.4553364970217028 and parameters: {'n_estimators': 134, 'max_depth': 2, 'learning_rate': 0.14002692441583858, 'subsample': 0.9847932043895826, 'colsample_bytree': 0.8060796226412954, 'gamma': 0.37527875528346843}. Best is trial 1 with value: 0.4553364970217028.\u001b[0m\n",
      "\u001b[32m[I 2023-04-16 20:53:18,320]\u001b[0m Trial 2 finished with value: 0.4248089970166432 and parameters: {'n_estimators': 145, 'max_depth': 6, 'learning_rate': 0.13703147770383006, 'subsample': 0.9286307009664274, 'colsample_bytree': 0.9313045356819333, 'gamma': 0.36455474832886725}. Best is trial 1 with value: 0.4553364970217028.\u001b[0m\n",
      "\u001b[32m[I 2023-04-16 20:53:27,042]\u001b[0m Trial 3 finished with value: 0.42980422667454155 and parameters: {'n_estimators': 90, 'max_depth': 6, 'learning_rate': 0.17523857205993026, 'subsample': 0.8996318531478177, 'colsample_bytree': 0.6735357263477196, 'gamma': 0.28554316506376853}. Best is trial 1 with value: 0.4553364970217028.\u001b[0m\n",
      "\u001b[32m[I 2023-04-16 20:53:32,822]\u001b[0m Trial 4 finished with value: 0.4061629114223785 and parameters: {'n_estimators': 49, 'max_depth': 7, 'learning_rate': 0.06173805630676294, 'subsample': 0.8033359111571229, 'colsample_bytree': 0.6564992233956469, 'gamma': 0.7692951549788514}. Best is trial 1 with value: 0.4553364970217028.\u001b[0m\n",
      "\u001b[32m[I 2023-04-16 20:53:42,468]\u001b[0m Trial 5 finished with value: 0.42464185210679606 and parameters: {'n_estimators': 97, 'max_depth': 2, 'learning_rate': 0.03296559531496797, 'subsample': 0.7176376724705174, 'colsample_bytree': 0.7053617037713568, 'gamma': 0.731960424788394}. Best is trial 1 with value: 0.4553364970217028.\u001b[0m\n",
      "\u001b[32m[I 2023-04-16 20:53:52,099]\u001b[0m Trial 6 finished with value: 0.44611075144246054 and parameters: {'n_estimators': 109, 'max_depth': 6, 'learning_rate': 0.17437564009306702, 'subsample': 0.6586515739081867, 'colsample_bytree': 0.6686800603270878, 'gamma': 0.47448345135282044}. Best is trial 1 with value: 0.4553364970217028.\u001b[0m\n",
      "\u001b[32m[I 2023-04-16 20:54:00,566]\u001b[0m Trial 7 finished with value: 0.45448375780689465 and parameters: {'n_estimators': 80, 'max_depth': 5, 'learning_rate': 0.20915980843183085, 'subsample': 0.8556907849478215, 'colsample_bytree': 0.9011267182767735, 'gamma': 0.848388196044574}. Best is trial 1 with value: 0.4553364970217028.\u001b[0m\n",
      "\u001b[32m[I 2023-04-16 20:54:06,394]\u001b[0m Trial 8 finished with value: 0.446082126685575 and parameters: {'n_estimators': 63, 'max_depth': 2, 'learning_rate': 0.23418500683622492, 'subsample': 0.9545033916057392, 'colsample_bytree': 0.6737449176461433, 'gamma': 0.005316177616925044}. Best is trial 1 with value: 0.4553364970217028.\u001b[0m\n",
      "\u001b[32m[I 2023-04-16 20:54:14,951]\u001b[0m Trial 9 finished with value: 0.4324359512871562 and parameters: {'n_estimators': 102, 'max_depth': 7, 'learning_rate': 0.24863908491297376, 'subsample': 0.8204682112860966, 'colsample_bytree': 0.669543575612931, 'gamma': 0.03527051558008354}. Best is trial 1 with value: 0.4553364970217028.\u001b[0m\n",
      "\u001b[32m[I 2023-04-16 20:54:28,638]\u001b[0m Trial 10 finished with value: 0.4990686745371903 and parameters: {'n_estimators': 148, 'max_depth': 4, 'learning_rate': 0.2931092660326872, 'subsample': 0.7330279310211123, 'colsample_bytree': 0.9987804524549122, 'gamma': 0.6023376897606403}. Best is trial 10 with value: 0.4990686745371903.\u001b[0m\n",
      "\u001b[32m[I 2023-04-16 20:54:41,915]\u001b[0m Trial 11 finished with value: 0.4609817193092088 and parameters: {'n_estimators': 143, 'max_depth': 4, 'learning_rate': 0.28159143765018657, 'subsample': 0.7399114893431257, 'colsample_bytree': 0.9821738917162011, 'gamma': 0.6240979782939388}. Best is trial 10 with value: 0.4990686745371903.\u001b[0m\n",
      "\u001b[32m[I 2023-04-16 20:54:53,827]\u001b[0m Trial 12 finished with value: 0.46620450416032466 and parameters: {'n_estimators': 125, 'max_depth': 4, 'learning_rate': 0.29923123053848777, 'subsample': 0.74642551237523, 'colsample_bytree': 0.9951461301446871, 'gamma': 0.6726461163144113}. Best is trial 10 with value: 0.4990686745371903.\u001b[0m\n",
      "\u001b[32m[I 2023-04-16 20:55:05,226]\u001b[0m Trial 13 finished with value: 0.4407442356534343 and parameters: {'n_estimators': 122, 'max_depth': 4, 'learning_rate': 0.29765547590733354, 'subsample': 0.6001957123315917, 'colsample_bytree': 0.9985616741891115, 'gamma': 0.9948836048763615}. Best is trial 10 with value: 0.4990686745371903.\u001b[0m\n",
      "\u001b[32m[I 2023-04-16 20:55:08,211]\u001b[0m Trial 14 finished with value: 0.41073054203404347 and parameters: {'n_estimators': 20, 'max_depth': 4, 'learning_rate': 0.2870620859399606, 'subsample': 0.7448746983052498, 'colsample_bytree': 0.9644520230452431, 'gamma': 0.5948123866751233}. Best is trial 10 with value: 0.4990686745371903.\u001b[0m\n",
      "\u001b[32m[I 2023-04-16 20:55:19,301]\u001b[0m Trial 15 finished with value: 0.4623115093758804 and parameters: {'n_estimators': 121, 'max_depth': 3, 'learning_rate': 0.256718988633425, 'subsample': 0.6991714984906655, 'colsample_bytree': 0.9202177592882155, 'gamma': 0.5781456307990458}. Best is trial 10 with value: 0.4990686745371903.\u001b[0m\n",
      "\u001b[32m[I 2023-04-16 20:55:31,040]\u001b[0m Trial 16 finished with value: 0.3881469220354214 and parameters: {'n_estimators': 126, 'max_depth': 3, 'learning_rate': 0.29738190685402016, 'subsample': 0.7717114295692227, 'colsample_bytree': 0.8722641909518613, 'gamma': 0.6865982450609858}. Best is trial 10 with value: 0.4990686745371903.\u001b[0m\n",
      "\u001b[32m[I 2023-04-16 20:55:45,388]\u001b[0m Trial 17 finished with value: 0.44849251379756294 and parameters: {'n_estimators': 149, 'max_depth': 5, 'learning_rate': 0.22103490403455772, 'subsample': 0.7825293638680733, 'colsample_bytree': 0.9553320836081445, 'gamma': 0.8471625594117399}. Best is trial 10 with value: 0.4990686745371903.\u001b[0m\n",
      "\u001b[32m[I 2023-04-16 20:55:55,667]\u001b[0m Trial 18 finished with value: 0.461635023636281 and parameters: {'n_estimators': 112, 'max_depth': 3, 'learning_rate': 0.260488662080909, 'subsample': 0.6853943191132, 'colsample_bytree': 0.9535853607766591, 'gamma': 0.5121959911216744}. Best is trial 10 with value: 0.4990686745371903.\u001b[0m\n",
      "\u001b[32m[I 2023-04-16 20:56:08,719]\u001b[0m Trial 19 finished with value: 0.45519427916959 and parameters: {'n_estimators': 134, 'max_depth': 5, 'learning_rate': 0.2695219741512873, 'subsample': 0.8384635459097827, 'colsample_bytree': 0.992964054444895, 'gamma': 0.6441191685482244}. Best is trial 10 with value: 0.4990686745371903.\u001b[0m\n",
      "\u001b[32m[I 2023-04-16 20:56:16,513]\u001b[0m Trial 20 finished with value: 0.4056117800616519 and parameters: {'n_estimators': 79, 'max_depth': 4, 'learning_rate': 0.21399811953625822, 'subsample': 0.7653297113503736, 'colsample_bytree': 0.9003573395797576, 'gamma': 0.5145142573350757}. Best is trial 10 with value: 0.4990686745371903.\u001b[0m\n",
      "\u001b[32m[I 2023-04-16 20:56:27,429]\u001b[0m Trial 21 finished with value: 0.38534841205985476 and parameters: {'n_estimators': 118, 'max_depth': 3, 'learning_rate': 0.2602265282028605, 'subsample': 0.7065294986969618, 'colsample_bytree': 0.9301136740143208, 'gamma': 0.5973676197994753}. Best is trial 10 with value: 0.4990686745371903.\u001b[0m\n",
      "\u001b[32m[I 2023-04-16 20:56:39,575]\u001b[0m Trial 22 finished with value: 0.40613024656502916 and parameters: {'n_estimators': 130, 'max_depth': 3, 'learning_rate': 0.2689014303243646, 'subsample': 0.674879156654254, 'colsample_bytree': 0.992772246657575, 'gamma': 0.7316741093470939}. Best is trial 10 with value: 0.4990686745371903.\u001b[0m\n",
      "\u001b[32m[I 2023-04-16 20:56:52,313]\u001b[0m Trial 23 finished with value: 0.41105226607475487 and parameters: {'n_estimators': 140, 'max_depth': 4, 'learning_rate': 0.2996359021172071, 'subsample': 0.7280927478940907, 'colsample_bytree': 0.9428334601090658, 'gamma': 0.5446433037725563}. Best is trial 10 with value: 0.4990686745371903.\u001b[0m\n",
      "\u001b[32m[I 2023-04-16 20:57:03,381]\u001b[0m Trial 24 finished with value: 0.45094526731188245 and parameters: {'n_estimators': 116, 'max_depth': 3, 'learning_rate': 0.2429037792950927, 'subsample': 0.7579025358915644, 'colsample_bytree': 0.9639019199849531, 'gamma': 0.6675804729239088}. Best is trial 10 with value: 0.4990686745371903.\u001b[0m\n",
      "\u001b[32m[I 2023-04-16 20:57:13,254]\u001b[0m Trial 25 finished with value: 0.37346830355245497 and parameters: {'n_estimators': 105, 'max_depth': 5, 'learning_rate': 0.27889316143233167, 'subsample': 0.7064607403464213, 'colsample_bytree': 0.9991456974357497, 'gamma': 0.4680812704018713}. Best is trial 10 with value: 0.4990686745371903.\u001b[0m\n",
      "\u001b[32m[I 2023-04-16 20:57:24,909]\u001b[0m Trial 26 finished with value: 0.46034377291873546 and parameters: {'n_estimators': 126, 'max_depth': 4, 'learning_rate': 0.24330242898179585, 'subsample': 0.78897732078137, 'colsample_bytree': 0.9123454345892696, 'gamma': 0.5589996767087436}. Best is trial 10 with value: 0.4990686745371903.\u001b[0m\n",
      "\u001b[32m[I 2023-04-16 20:57:37,718]\u001b[0m Trial 27 finished with value: 0.4035920566109907 and parameters: {'n_estimators': 138, 'max_depth': 3, 'learning_rate': 0.27247799638965947, 'subsample': 0.6677580385713824, 'colsample_bytree': 0.9657264920164624, 'gamma': 0.8068646679289935}. Best is trial 10 with value: 0.4990686745371903.\u001b[0m\n",
      "\u001b[32m[I 2023-04-16 20:57:50,808]\u001b[0m Trial 28 finished with value: 0.46606032466831915 and parameters: {'n_estimators': 149, 'max_depth': 2, 'learning_rate': 0.29955443217386457, 'subsample': 0.7417982079801079, 'colsample_bytree': 0.9272140771909327, 'gamma': 0.6901105433607326}. Best is trial 10 with value: 0.4990686745371903.\u001b[0m\n",
      "\u001b[32m[I 2023-04-16 20:58:03,830]\u001b[0m Trial 29 finished with value: 0.4754438402676784 and parameters: {'n_estimators': 149, 'max_depth': 2, 'learning_rate': 0.2822928057921112, 'subsample': 0.7423371626771045, 'colsample_bytree': 0.8680764721655451, 'gamma': 0.6990360925242166}. Best is trial 10 with value: 0.4990686745371903.\u001b[0m\n",
      "\u001b[32m[I 2023-04-16 20:58:16,783]\u001b[0m Trial 30 finished with value: 0.4263866172974119 and parameters: {'n_estimators': 134, 'max_depth': 7, 'learning_rate': 0.22997983026263502, 'subsample': 0.8049415715219445, 'colsample_bytree': 0.8736852598000115, 'gamma': 0.9116313690109551}. Best is trial 10 with value: 0.4990686745371903.\u001b[0m\n",
      "\u001b[32m[I 2023-04-16 20:58:29,609]\u001b[0m Trial 31 finished with value: 0.4646754464281185 and parameters: {'n_estimators': 150, 'max_depth': 2, 'learning_rate': 0.2985098850181617, 'subsample': 0.744328034221346, 'colsample_bytree': 0.8379545266260232, 'gamma': 0.7046325912115139}. Best is trial 10 with value: 0.4990686745371903.\u001b[0m\n",
      "\u001b[32m[I 2023-04-16 20:58:42,511]\u001b[0m Trial 32 finished with value: 0.4568675889328063 and parameters: {'n_estimators': 149, 'max_depth': 2, 'learning_rate': 0.2770949459436685, 'subsample': 0.7634980635108227, 'colsample_bytree': 0.8864754299229278, 'gamma': 0.6729100880132628}. Best is trial 10 with value: 0.4990686745371903.\u001b[0m\n",
      "\u001b[32m[I 2023-04-16 20:58:55,016]\u001b[0m Trial 33 finished with value: 0.4682947216867756 and parameters: {'n_estimators': 141, 'max_depth': 2, 'learning_rate': 0.2828747911052722, 'subsample': 0.7278524150953413, 'colsample_bytree': 0.9347521677348303, 'gamma': 0.7594533291921854}. Best is trial 10 with value: 0.4990686745371903.\u001b[0m\n",
      "\u001b[32m[I 2023-04-16 20:59:07,776]\u001b[0m Trial 34 finished with value: 0.4349331120320626 and parameters: {'n_estimators': 140, 'max_depth': 8, 'learning_rate': 0.25320023272300735, 'subsample': 0.7126596315388551, 'colsample_bytree': 0.845514919871541, 'gamma': 0.7277328742768959}. Best is trial 10 with value: 0.4990686745371903.\u001b[0m\n",
      "\u001b[32m[I 2023-04-16 20:59:19,695]\u001b[0m Trial 35 finished with value: 0.46560262757184456 and parameters: {'n_estimators': 132, 'max_depth': 2, 'learning_rate': 0.28044454798837176, 'subsample': 0.775906152560962, 'colsample_bytree': 0.939969602292333, 'gamma': 0.7791095428307533}. Best is trial 10 with value: 0.4990686745371903.\u001b[0m\n",
      "\u001b[32m[I 2023-04-16 20:59:32,194]\u001b[0m Trial 36 finished with value: 0.49032099210135194 and parameters: {'n_estimators': 141, 'max_depth': 2, 'learning_rate': 0.26143720080193145, 'subsample': 0.727260282845953, 'colsample_bytree': 0.9742603683068194, 'gamma': 0.6235441463800064}. Best is trial 10 with value: 0.4990686745371903.\u001b[0m\n",
      "\u001b[32m[I 2023-04-16 20:59:44,806]\u001b[0m Trial 37 finished with value: 0.467377269157629 and parameters: {'n_estimators': 142, 'max_depth': 2, 'learning_rate': 0.20366915256400614, 'subsample': 0.7162221200633033, 'colsample_bytree': 0.97073219583698, 'gamma': 0.6278597084200435}. Best is trial 10 with value: 0.4990686745371903.\u001b[0m\n",
      "\u001b[32m[I 2023-04-16 20:59:53,166]\u001b[0m Trial 38 finished with value: 0.50268558902367 and parameters: {'n_estimators': 92, 'max_depth': 2, 'learning_rate': 0.23650875989965303, 'subsample': 0.6888471948103853, 'colsample_bytree': 0.9387478238605867, 'gamma': 0.42961526643409054}. Best is trial 38 with value: 0.50268558902367.\u001b[0m\n",
      "\u001b[32m[I 2023-04-16 20:59:59,578]\u001b[0m Trial 39 finished with value: 0.413088179936006 and parameters: {'n_estimators': 66, 'max_depth': 2, 'learning_rate': 0.19486017272389466, 'subsample': 0.6566505980782015, 'colsample_bytree': 0.8989885989881315, 'gamma': 0.4167179486873365}. Best is trial 38 with value: 0.50268558902367.\u001b[0m\n",
      "\u001b[32m[I 2023-04-16 21:00:07,685]\u001b[0m Trial 40 finished with value: 0.4616625128993944 and parameters: {'n_estimators': 88, 'max_depth': 3, 'learning_rate': 0.2272031758089878, 'subsample': 0.6880273633388481, 'colsample_bytree': 0.8281312570897839, 'gamma': 0.32845782492773323}. Best is trial 38 with value: 0.50268558902367.\u001b[0m\n",
      "\u001b[32m[I 2023-04-16 21:00:11,930]\u001b[0m Trial 41 finished with value: 0.41581392483481766 and parameters: {'n_estimators': 38, 'max_depth': 2, 'learning_rate': 0.24200148417759418, 'subsample': 0.7251992886524959, 'colsample_bytree': 0.9422118165628173, 'gamma': 0.43823199815540015}. Best is trial 38 with value: 0.50268558902367.\u001b[0m\n",
      "\u001b[32m[I 2023-04-16 21:00:20,887]\u001b[0m Trial 42 finished with value: 0.43191683379089685 and parameters: {'n_estimators': 96, 'max_depth': 2, 'learning_rate': 0.2621336768979414, 'subsample': 0.7309946944275374, 'colsample_bytree': 0.9767984436446987, 'gamma': 0.5448667547376773}. Best is trial 38 with value: 0.50268558902367.\u001b[0m\n",
      "\u001b[32m[I 2023-04-16 21:00:27,520]\u001b[0m Trial 43 finished with value: 0.419631093544137 and parameters: {'n_estimators': 67, 'max_depth': 2, 'learning_rate': 0.24823841583941664, 'subsample': 0.7567710055919551, 'colsample_bytree': 0.9180093659116442, 'gamma': 0.7628999539374298}. Best is trial 38 with value: 0.50268558902367.\u001b[0m\n",
      "\u001b[32m[I 2023-04-16 21:00:39,968]\u001b[0m Trial 44 finished with value: 0.42147448741067256 and parameters: {'n_estimators': 144, 'max_depth': 6, 'learning_rate': 0.2828081535426479, 'subsample': 0.6952802651702349, 'colsample_bytree': 0.7852318567537452, 'gamma': 0.494681788527971}. Best is trial 38 with value: 0.50268558902367.\u001b[0m\n",
      "\u001b[32m[I 2023-04-16 21:00:47,456]\u001b[0m Trial 45 finished with value: 0.43065358554488986 and parameters: {'n_estimators': 77, 'max_depth': 2, 'learning_rate': 0.2356282925193258, 'subsample': 0.796187970797481, 'colsample_bytree': 0.9764585172191114, 'gamma': 0.6261058597182405}. Best is trial 38 with value: 0.50268558902367.\u001b[0m\n",
      "\u001b[32m[I 2023-04-16 21:00:59,453]\u001b[0m Trial 46 finished with value: 0.411293763117045 and parameters: {'n_estimators': 136, 'max_depth': 3, 'learning_rate': 0.25776304986362353, 'subsample': 0.7223261115321195, 'colsample_bytree': 0.9483044878843152, 'gamma': 0.3700295816952296}. Best is trial 38 with value: 0.50268558902367.\u001b[0m\n",
      "\u001b[32m[I 2023-04-16 21:01:04,046]\u001b[0m Trial 47 finished with value: 0.4176900997553171 and parameters: {'n_estimators': 43, 'max_depth': 2, 'learning_rate': 0.2868812602074462, 'subsample': 0.6446312542702609, 'colsample_bytree': 0.9320748083296444, 'gamma': 0.5961792832989626}. Best is trial 38 with value: 0.50268558902367.\u001b[0m\n",
      "\u001b[32m[I 2023-04-16 21:01:09,891]\u001b[0m Trial 48 finished with value: 0.4528228310087381 and parameters: {'n_estimators': 54, 'max_depth': 3, 'learning_rate': 0.26816938214215624, 'subsample': 0.7313832982457461, 'colsample_bytree': 0.9562506037369671, 'gamma': 0.7455545875037678}. Best is trial 38 with value: 0.50268558902367.\u001b[0m\n",
      "\u001b[32m[I 2023-04-16 21:01:21,495]\u001b[0m Trial 49 finished with value: 0.42818558253340855 and parameters: {'n_estimators': 129, 'max_depth': 2, 'learning_rate': 0.11938424982270011, 'subsample': 0.6832479710806726, 'colsample_bytree': 0.9764871052468116, 'gamma': 0.6430491457947112}. Best is trial 38 with value: 0.50268558902367.\u001b[0m\n",
      "\u001b[32m[I 2023-04-16 21:01:24,681]\u001b[0m Trial 50 finished with value: 0.43021066707953104 and parameters: {'n_estimators': 23, 'max_depth': 6, 'learning_rate': 0.2860156516125057, 'subsample': 0.6978283917904516, 'colsample_bytree': 0.9089887247546022, 'gamma': 0.8075556934445105}. Best is trial 38 with value: 0.50268558902367.\u001b[0m\n",
      "\u001b[32m[I 2023-04-16 21:01:37,167]\u001b[0m Trial 51 finished with value: 0.46783518413953196 and parameters: {'n_estimators': 142, 'max_depth': 2, 'learning_rate': 0.20336935721986882, 'subsample': 0.7144153442007717, 'colsample_bytree': 0.9745926221954686, 'gamma': 0.6285875100324663}. Best is trial 38 with value: 0.50268558902367.\u001b[0m\n",
      "\u001b[32m[I 2023-04-16 21:01:50,074]\u001b[0m Trial 52 finished with value: 0.44674624892016196 and parameters: {'n_estimators': 145, 'max_depth': 2, 'learning_rate': 0.22434421053721332, 'subsample': 0.7121787760169292, 'colsample_bytree': 0.9848511959740575, 'gamma': 0.7039219366641007}. Best is trial 38 with value: 0.50268558902367.\u001b[0m\n",
      "\u001b[32m[I 2023-04-16 21:02:03,278]\u001b[0m Trial 53 finished with value: 0.4155694068550141 and parameters: {'n_estimators': 145, 'max_depth': 3, 'learning_rate': 0.25270042696246153, 'subsample': 0.7478777238477623, 'colsample_bytree': 0.9508382846918451, 'gamma': 0.5862795198106462}. Best is trial 38 with value: 0.50268558902367.\u001b[0m\n",
      "\u001b[32m[I 2023-04-16 21:02:15,328]\u001b[0m Trial 54 finished with value: 0.4991630009775171 and parameters: {'n_estimators': 138, 'max_depth': 2, 'learning_rate': 0.23361201270524617, 'subsample': 0.7324427373358545, 'colsample_bytree': 0.9789298853305772, 'gamma': 0.5288403404675885}. Best is trial 38 with value: 0.50268558902367.\u001b[0m\n",
      "\u001b[32m[I 2023-04-16 21:02:27,304]\u001b[0m Trial 55 finished with value: 0.4230411457795749 and parameters: {'n_estimators': 136, 'max_depth': 2, 'learning_rate': 0.26520388898101266, 'subsample': 0.7571094086905719, 'colsample_bytree': 0.9300074684963763, 'gamma': 0.5257670967481157}. Best is trial 38 with value: 0.50268558902367.\u001b[0m\n",
      "\u001b[32m[I 2023-04-16 21:02:38,954]\u001b[0m Trial 56 finished with value: 0.46822030237177503 and parameters: {'n_estimators': 124, 'max_depth': 3, 'learning_rate': 0.23800906683983955, 'subsample': 0.7786064947739978, 'colsample_bytree': 0.9864080966909943, 'gamma': 0.5695098328691103}. Best is trial 38 with value: 0.50268558902367.\u001b[0m\n",
      "\u001b[32m[I 2023-04-16 21:02:49,511]\u001b[0m Trial 57 finished with value: 0.4368677060822923 and parameters: {'n_estimators': 113, 'max_depth': 3, 'learning_rate': 0.272421354735604, 'subsample': 0.738440756054007, 'colsample_bytree': 0.9986408299909928, 'gamma': 0.45877319804521266}. Best is trial 38 with value: 0.50268558902367.\u001b[0m\n",
      "\u001b[32m[I 2023-04-16 21:03:00,061]\u001b[0m Trial 58 finished with value: 0.42362775723575163 and parameters: {'n_estimators': 120, 'max_depth': 2, 'learning_rate': 0.2875516654670126, 'subsample': 0.7011228211090026, 'colsample_bytree': 0.9613763366425377, 'gamma': 0.5013265686238498}. Best is trial 38 with value: 0.50268558902367.\u001b[0m\n",
      "\u001b[32m[I 2023-04-16 21:03:12,012]\u001b[0m Trial 59 finished with value: 0.4459839073969509 and parameters: {'n_estimators': 129, 'max_depth': 4, 'learning_rate': 0.2481324510562811, 'subsample': 0.7678242479703287, 'colsample_bytree': 0.9426103614339391, 'gamma': 0.531148664479367}. Best is trial 38 with value: 0.50268558902367.\u001b[0m\n",
      "\u001b[32m[I 2023-04-16 21:03:21,184]\u001b[0m Trial 60 finished with value: 0.46212827028044423 and parameters: {'n_estimators': 98, 'max_depth': 3, 'learning_rate': 0.261938876306513, 'subsample': 0.7295686347511257, 'colsample_bytree': 0.9615621393517337, 'gamma': 0.4055393743713735}. Best is trial 38 with value: 0.50268558902367.\u001b[0m\n",
      "\u001b[32m[I 2023-04-16 21:03:32,825]\u001b[0m Trial 61 finished with value: 0.44466724970847904 and parameters: {'n_estimators': 124, 'max_depth': 3, 'learning_rate': 0.2362178355843359, 'subsample': 0.7754929312426052, 'colsample_bytree': 0.9869750633438081, 'gamma': 0.5585216119894227}. Best is trial 38 with value: 0.50268558902367.\u001b[0m\n",
      "\u001b[32m[I 2023-04-16 21:03:45,197]\u001b[0m Trial 62 finished with value: 0.4730036060058549 and parameters: {'n_estimators': 138, 'max_depth': 2, 'learning_rate': 0.27276729702966984, 'subsample': 0.7502078661392103, 'colsample_bytree': 0.9873201511606471, 'gamma': 0.659940515179023}. Best is trial 38 with value: 0.50268558902367.\u001b[0m\n",
      "\u001b[32m[I 2023-04-16 21:03:57,619]\u001b[0m Trial 63 finished with value: 0.4348157090286026 and parameters: {'n_estimators': 138, 'max_depth': 2, 'learning_rate': 0.29014478190327014, 'subsample': 0.7494060863491366, 'colsample_bytree': 0.9691746761071462, 'gamma': 0.6752302346604168}. Best is trial 38 with value: 0.50268558902367.\u001b[0m\n",
      "\u001b[32m[I 2023-04-16 21:04:10,540]\u001b[0m Trial 64 finished with value: 0.49380528891398456 and parameters: {'n_estimators': 146, 'max_depth': 2, 'learning_rate': 0.27116199901435095, 'subsample': 0.7368172153526168, 'colsample_bytree': 0.9998706356926056, 'gamma': 0.7195845697390333}. Best is trial 38 with value: 0.50268558902367.\u001b[0m\n",
      "\u001b[32m[I 2023-04-16 21:04:23,723]\u001b[0m Trial 65 finished with value: 0.49740926344187214 and parameters: {'n_estimators': 146, 'max_depth': 2, 'learning_rate': 0.2686023172574342, 'subsample': 0.7892376121417739, 'colsample_bytree': 0.9997350895513819, 'gamma': 0.655138432871893}. Best is trial 38 with value: 0.50268558902367.\u001b[0m\n",
      "\u001b[32m[I 2023-04-16 21:04:36,878]\u001b[0m Trial 66 finished with value: 0.43416709943799225 and parameters: {'n_estimators': 148, 'max_depth': 2, 'learning_rate': 0.2577353560386737, 'subsample': 0.8022966025801843, 'colsample_bytree': 0.9951627875178212, 'gamma': 0.5896927576648713}. Best is trial 38 with value: 0.50268558902367.\u001b[0m\n",
      "\u001b[32m[I 2023-04-16 21:04:49,861]\u001b[0m Trial 67 finished with value: 0.43119557645419715 and parameters: {'n_estimators': 146, 'max_depth': 2, 'learning_rate': 0.24925920942848456, 'subsample': 0.8224636252711826, 'colsample_bytree': 0.9809821696681397, 'gamma': 0.484384866598952}. Best is trial 38 with value: 0.50268558902367.\u001b[0m\n",
      "\u001b[32m[I 2023-04-16 21:05:02,331]\u001b[0m Trial 68 finished with value: 0.47474399975337006 and parameters: {'n_estimators': 132, 'max_depth': 3, 'learning_rate': 0.2751197163450301, 'subsample': 0.765070805725892, 'colsample_bytree': 0.9978475824589589, 'gamma': 0.7146936397306125}. Best is trial 38 with value: 0.50268558902367.\u001b[0m\n",
      "\u001b[32m[I 2023-04-16 21:05:12,575]\u001b[0m Trial 69 finished with value: 0.46484163456282235 and parameters: {'n_estimators': 106, 'max_depth': 6, 'learning_rate': 0.2924546465069563, 'subsample': 0.7857511834332673, 'colsample_bytree': 0.967084714782257, 'gamma': 0.6544132963332576}. Best is trial 38 with value: 0.50268558902367.\u001b[0m\n",
      "\u001b[32m[I 2023-04-16 21:05:25,756]\u001b[0m Trial 70 finished with value: 0.46304287110738723 and parameters: {'n_estimators': 150, 'max_depth': 2, 'learning_rate': 0.21977116222844506, 'subsample': 0.7399129089487124, 'colsample_bytree': 0.9536182810062863, 'gamma': 0.6030201556773473}. Best is trial 38 with value: 0.50268558902367.\u001b[0m\n",
      "\u001b[32m[I 2023-04-16 21:05:38,391]\u001b[0m Trial 71 finished with value: 0.4301493245138358 and parameters: {'n_estimators': 134, 'max_depth': 3, 'learning_rate': 0.27663970142902156, 'subsample': 0.7634453005214723, 'colsample_bytree': 0.9932511423664506, 'gamma': 0.7168033900070628}. Best is trial 38 with value: 0.50268558902367.\u001b[0m\n",
      "\u001b[32m[I 2023-04-16 21:05:50,892]\u001b[0m Trial 72 finished with value: 0.4602315190865491 and parameters: {'n_estimators': 131, 'max_depth': 4, 'learning_rate': 0.27241306297391465, 'subsample': 0.7625651881826627, 'colsample_bytree': 0.9991452437482755, 'gamma': 0.707797015208064}. Best is trial 38 with value: 0.50268558902367.\u001b[0m\n",
      "\u001b[32m[I 2023-04-16 21:06:04,048]\u001b[0m Trial 73 finished with value: 0.47607409498713843 and parameters: {'n_estimators': 144, 'max_depth': 3, 'learning_rate': 0.2676591878478381, 'subsample': 0.7190528513625488, 'colsample_bytree': 0.9816428037698552, 'gamma': 0.6793413651388024}. Best is trial 38 with value: 0.50268558902367.\u001b[0m\n",
      "\u001b[32m[I 2023-04-16 21:06:17,275]\u001b[0m Trial 74 finished with value: 0.4204896721823742 and parameters: {'n_estimators': 145, 'max_depth': 4, 'learning_rate': 0.2675922358320783, 'subsample': 0.706646676831492, 'colsample_bytree': 0.9791930937298411, 'gamma': 0.6097281827985004}. Best is trial 38 with value: 0.50268558902367.\u001b[0m\n",
      "\u001b[32m[I 2023-04-16 21:06:29,827]\u001b[0m Trial 75 finished with value: 0.4433757589613129 and parameters: {'n_estimators': 142, 'max_depth': 2, 'learning_rate': 0.29386597896037947, 'subsample': 0.7189572215740118, 'colsample_bytree': 0.9587045332018116, 'gamma': 0.6767337198577135}. Best is trial 38 with value: 0.50268558902367.\u001b[0m\n",
      "\u001b[32m[I 2023-04-16 21:06:42,866]\u001b[0m Trial 76 finished with value: 0.46186241294936947 and parameters: {'n_estimators': 150, 'max_depth': 2, 'learning_rate': 0.25546183144663015, 'subsample': 0.7316704680695546, 'colsample_bytree': 0.9685707789817986, 'gamma': 0.6238545728317619}. Best is trial 38 with value: 0.50268558902367.\u001b[0m\n",
      "\u001b[32m[I 2023-04-16 21:06:55,692]\u001b[0m Trial 77 finished with value: 0.48538072815289046 and parameters: {'n_estimators': 140, 'max_depth': 3, 'learning_rate': 0.24329938861230702, 'subsample': 0.7361968798458515, 'colsample_bytree': 0.9813533116816396, 'gamma': 0.5647408124719985}. Best is trial 38 with value: 0.50268558902367.\u001b[0m\n",
      "\u001b[32m[I 2023-04-16 21:07:08,456]\u001b[0m Trial 78 finished with value: 0.4113387299856565 and parameters: {'n_estimators': 139, 'max_depth': 5, 'learning_rate': 0.24446801010550306, 'subsample': 0.6878318793948635, 'colsample_bytree': 0.9819599974667282, 'gamma': 0.5702068213262073}. Best is trial 38 with value: 0.50268558902367.\u001b[0m\n",
      "\u001b[32m[I 2023-04-16 21:07:20,596]\u001b[0m Trial 79 finished with value: 0.45003450655624566 and parameters: {'n_estimators': 135, 'max_depth': 3, 'learning_rate': 0.23314211617958433, 'subsample': 0.7213934212662292, 'colsample_bytree': 0.949139183606663, 'gamma': 0.5181313874110902}. Best is trial 38 with value: 0.50268558902367.\u001b[0m\n",
      "\u001b[32m[I 2023-04-16 21:07:32,225]\u001b[0m Trial 80 finished with value: 0.41232462021382077 and parameters: {'n_estimators': 127, 'max_depth': 3, 'learning_rate': 0.2652392896259437, 'subsample': 0.6763036133261409, 'colsample_bytree': 0.9868638829681199, 'gamma': 0.543291157541032}. Best is trial 38 with value: 0.50268558902367.\u001b[0m\n",
      "\u001b[32m[I 2023-04-16 21:07:45,112]\u001b[0m Trial 81 finished with value: 0.4478896103896104 and parameters: {'n_estimators': 147, 'max_depth': 2, 'learning_rate': 0.25476624232150186, 'subsample': 0.7382887586514002, 'colsample_bytree': 0.970770408123981, 'gamma': 0.6525934650901057}. Best is trial 38 with value: 0.50268558902367.\u001b[0m\n",
      "\u001b[32m[I 2023-04-16 21:07:57,585]\u001b[0m Trial 82 finished with value: 0.4667924966088385 and parameters: {'n_estimators': 142, 'max_depth': 2, 'learning_rate': 0.28154259132050835, 'subsample': 0.709124331446174, 'colsample_bytree': 0.9608738133573679, 'gamma': 0.6907339849663712}. Best is trial 38 with value: 0.50268558902367.\u001b[0m\n",
      "\u001b[32m[I 2023-04-16 21:08:05,113]\u001b[0m Trial 83 finished with value: 0.4531573551305621 and parameters: {'n_estimators': 75, 'max_depth': 4, 'learning_rate': 0.2420909501771415, 'subsample': 0.6994017963176223, 'colsample_bytree': 0.9394793560310029, 'gamma': 0.7338054127510165}. Best is trial 38 with value: 0.50268558902367.\u001b[0m\n",
      "\u001b[32m[I 2023-04-16 21:08:18,167]\u001b[0m Trial 84 finished with value: 0.4285227486610885 and parameters: {'n_estimators': 146, 'max_depth': 2, 'learning_rate': 0.2633470083941037, 'subsample': 0.7557170761264957, 'colsample_bytree': 0.999537926533905, 'gamma': 0.6193412328993515}. Best is trial 38 with value: 0.50268558902367.\u001b[0m\n",
      "\u001b[32m[I 2023-04-16 21:08:30,897]\u001b[0m Trial 85 finished with value: 0.46349869420128653 and parameters: {'n_estimators': 139, 'max_depth': 3, 'learning_rate': 0.2821445911027201, 'subsample': 0.7381454047466579, 'colsample_bytree': 0.9217892658663166, 'gamma': 0.652482748105416}. Best is trial 38 with value: 0.50268558902367.\u001b[0m\n",
      "\u001b[32m[I 2023-04-16 21:08:43,817]\u001b[0m Trial 86 finished with value: 0.46980633060093335 and parameters: {'n_estimators': 142, 'max_depth': 5, 'learning_rate': 0.23165788544876545, 'subsample': 0.7173567164151153, 'colsample_bytree': 0.9753727882535708, 'gamma': 0.5651777669601389}. Best is trial 38 with value: 0.50268558902367.\u001b[0m\n",
      "\u001b[32m[I 2023-04-16 21:08:56,009]\u001b[0m Trial 87 finished with value: 0.5041775253731775 and parameters: {'n_estimators': 136, 'max_depth': 2, 'learning_rate': 0.29186674687340936, 'subsample': 0.7502225019693849, 'colsample_bytree': 0.9880609775967617, 'gamma': 0.6397062892220639}. Best is trial 87 with value: 0.5041775253731775.\u001b[0m\n",
      "\u001b[32m[I 2023-04-16 21:09:08,207]\u001b[0m Trial 88 finished with value: 0.48297458151946226 and parameters: {'n_estimators': 136, 'max_depth': 2, 'learning_rate': 0.29992168323829277, 'subsample': 0.7854092851554146, 'colsample_bytree': 0.9890604366011454, 'gamma': 0.5874610638095569}. Best is trial 87 with value: 0.5041775253731775.\u001b[0m\n",
      "\u001b[32m[I 2023-04-16 21:09:18,825]\u001b[0m Trial 89 finished with value: 0.4616778055777306 and parameters: {'n_estimators': 117, 'max_depth': 2, 'learning_rate': 0.2936455147439495, 'subsample': 0.7896780839614537, 'colsample_bytree': 0.9918096322459333, 'gamma': 0.5847933084039227}. Best is trial 87 with value: 0.5041775253731775.\u001b[0m\n",
      "\u001b[32m[I 2023-04-16 21:09:26,580]\u001b[0m Trial 90 finished with value: 0.45328326358396004 and parameters: {'n_estimators': 83, 'max_depth': 2, 'learning_rate': 0.299751573702318, 'subsample': 0.7704514962119398, 'colsample_bytree': 0.9700253502019938, 'gamma': 0.5070562587656404}. Best is trial 87 with value: 0.5041775253731775.\u001b[0m\n",
      "\u001b[32m[I 2023-04-16 21:09:38,679]\u001b[0m Trial 91 finished with value: 0.46384673743284766 and parameters: {'n_estimators': 136, 'max_depth': 2, 'learning_rate': 0.2910195489536377, 'subsample': 0.7528276666917687, 'colsample_bytree': 0.9841468131511528, 'gamma': 0.6365509230753084}. Best is trial 87 with value: 0.5041775253731775.\u001b[0m\n",
      "\u001b[32m[I 2023-04-16 21:09:50,444]\u001b[0m Trial 92 finished with value: 0.42654580578723345 and parameters: {'n_estimators': 132, 'max_depth': 2, 'learning_rate': 0.27686310313789336, 'subsample': 0.7259489818282316, 'colsample_bytree': 0.9896256195930198, 'gamma': 0.6752090646925634}. Best is trial 87 with value: 0.5041775253731775.\u001b[0m\n",
      "\u001b[32m[I 2023-04-16 21:10:03,320]\u001b[0m Trial 93 finished with value: 0.45015434170572505 and parameters: {'n_estimators': 138, 'max_depth': 3, 'learning_rate': 0.28814079964201605, 'subsample': 0.7710617077729268, 'colsample_bytree': 0.9778380140706068, 'gamma': 0.607822037871528}. Best is trial 87 with value: 0.5041775253731775.\u001b[0m\n",
      "\u001b[32m[I 2023-04-16 21:10:16,119]\u001b[0m Trial 94 finished with value: 0.4434718098638155 and parameters: {'n_estimators': 144, 'max_depth': 2, 'learning_rate': 0.2684315959655026, 'subsample': 0.7810260430271213, 'colsample_bytree': 0.9538438127203566, 'gamma': 0.5465754410284382}. Best is trial 87 with value: 0.5041775253731775.\u001b[0m\n",
      "\u001b[32m[I 2023-04-16 21:10:27,401]\u001b[0m Trial 95 finished with value: 0.4248411534701857 and parameters: {'n_estimators': 128, 'max_depth': 2, 'learning_rate': 0.25943149969213997, 'subsample': 0.7480101620247335, 'colsample_bytree': 0.9998165492809405, 'gamma': 0.47608701507427964}. Best is trial 87 with value: 0.5041775253731775.\u001b[0m\n",
      "\u001b[32m[I 2023-04-16 21:10:39,179]\u001b[0m Trial 96 finished with value: 0.4478254875870584 and parameters: {'n_estimators': 133, 'max_depth': 2, 'learning_rate': 0.2999508161002526, 'subsample': 0.794378659346945, 'colsample_bytree': 0.962672891048606, 'gamma': 0.580055716062581}. Best is trial 87 with value: 0.5041775253731775.\u001b[0m\n",
      "\u001b[32m[I 2023-04-16 21:10:50,635]\u001b[0m Trial 97 finished with value: 0.40276679841897234 and parameters: {'n_estimators': 121, 'max_depth': 4, 'learning_rate': 0.25014845967578053, 'subsample': 0.7574004273811559, 'colsample_bytree': 0.9839497079731008, 'gamma': 0.6285366161417523}. Best is trial 87 with value: 0.5041775253731775.\u001b[0m\n",
      "\u001b[32m[I 2023-04-16 21:11:04,186]\u001b[0m Trial 98 finished with value: 0.553111469244431 and parameters: {'n_estimators': 147, 'max_depth': 3, 'learning_rate': 0.2775465573693446, 'subsample': 0.7341508148247291, 'colsample_bytree': 0.9887123232766091, 'gamma': 0.605479819627758}. Best is trial 98 with value: 0.553111469244431.\u001b[0m\n",
      "\u001b[32m[I 2023-04-16 21:11:16,935]\u001b[0m Trial 99 finished with value: 0.446221006065882 and parameters: {'n_estimators': 147, 'max_depth': 2, 'learning_rate': 0.27856560721191104, 'subsample': 0.7377291341256613, 'colsample_bytree': 0.9910183944588278, 'gamma': 0.527675330504741}. Best is trial 98 with value: 0.553111469244431.\u001b[0m\n"
     ]
    }
   ],
   "source": [
    "objective_func = partial(\n",
    "    objective,\n",
    "    X_train=X_train,\n",
    "    stratification_groups=stratification_groups,\n",
    "    xgb_config=xgb_config,\n",
    "    scoring=scoring_func\n",
    ")\n",
    "\n",
    "study = optuna.create_study(direction='maximize')\n",
    "study.optimize(objective_func, n_trials=100)"
   ]
  },
  {
   "cell_type": "code",
   "execution_count": 36,
   "metadata": {
    "ExecuteTime": {
     "end_time": "2023-04-16T21:11:34.059929Z",
     "start_time": "2023-04-16T21:11:16.966932Z"
    },
    "collapsed": false
   },
   "outputs": [],
   "source": [
    "best_params = {\n",
    "    **study.best_params,\n",
    "    **xgb_config\n",
    "}\n",
    "\n",
    "best_xgb = XGBClassifier(**best_params)\n",
    "y_pred = stratified_cross_val_predict(\n",
    "    estimator=best_xgb,\n",
    "    df=X_train,\n",
    "    stratification_groups=stratification_groups,\n",
    "    label_col='Stage',\n",
    "    n_splits=5\n",
    ")\n",
    "y_true = list(X_train['Stage'].values)"
   ]
  },
  {
   "cell_type": "code",
   "execution_count": 37,
   "metadata": {
    "ExecuteTime": {
     "end_time": "2023-04-16T21:11:34.075554Z",
     "start_time": "2023-04-16T21:11:34.059929Z"
    },
    "collapsed": false
   },
   "outputs": [
    {
     "name": "stdout",
     "output_type": "stream",
     "text": [
      "              precision    recall  f1-score   support\n",
      "\n",
      "           I       0.00      0.00      0.00         2\n",
      "          II       0.53      0.81      0.64        48\n",
      "         III       0.12      0.04      0.06        23\n",
      "          IV       0.22      0.11      0.15        18\n",
      "\n",
      "    accuracy                           0.46        91\n",
      "   macro avg       0.22      0.24      0.21        91\n",
      "weighted avg       0.35      0.46      0.38        91\n",
      "\n"
     ]
    }
   ],
   "source": [
    "labels = list(labels_encoding.keys())\n",
    "\n",
    "report = classification_report(y_true, y_pred.astype(int), target_names=labels)\n",
    "print(report)"
   ]
  },
  {
   "cell_type": "code",
   "execution_count": 38,
   "metadata": {
    "ExecuteTime": {
     "end_time": "2023-04-16T21:11:34.278744Z",
     "start_time": "2023-04-16T21:11:34.075554Z"
    },
    "collapsed": false
   },
   "outputs": [
    {
     "data": {
      "image/png": "[encoded data removed]",
      "text/plain": [
       "<Figure size 1000x600 with 2 Axes>"
      ]
     },
     "metadata": {},
     "output_type": "display_data"
    }
   ],
   "source": [
    "accuracy = accuracy_score(y_true, y_pred.astype(int))\n",
    "f1 = f1_score(y_true, y_pred.astype(int), average='weighted')\n",
    "cm = confusion_matrix(y_true, y_pred.astype(int))\n",
    "\n",
    "title = f'Accuracy = {accuracy*100:.2f}%, Weighted F1 = {f1:.2f}'\n",
    "\n",
    "plot_confusion_matrix(cm, labels, title)"
   ]
  },
  {
   "attachments": {},
   "cell_type": "markdown",
   "metadata": {},
   "source": [
    "## Only the most numerous types of cancer (each one separately), binary classification (stages: I-III vs IV)"
   ]
  },
  {
   "cell_type": "code",
   "execution_count": 39,
   "metadata": {
    "ExecuteTime": {
     "end_time": "2023-04-16T21:56:50.865277Z",
     "start_time": "2023-04-16T21:56:50.849761Z"
    }
   },
   "outputs": [],
   "source": [
    "mapping = {\n",
    "    'I': 'I-III',\n",
    "    'II': 'I-III',\n",
    "    'III': 'I-III',\n",
    "    'IV': 'IV'\n",
    "}\n",
    "\n",
    "labels_encoding = {\n",
    "    'I-III': 0,\n",
    "    'IV': 1\n",
    "}\n",
    "\n",
    "xgb_config = {\n",
    "    'objective': 'binary:logistic',\n",
    "    'random_state': random_state\n",
    "}"
   ]
  },
  {
   "attachments": {},
   "cell_type": "markdown",
   "metadata": {},
   "source": [
    "### NSCLC"
   ]
  },
  {
   "cell_type": "code",
   "execution_count": 40,
   "metadata": {
    "ExecuteTime": {
     "end_time": "2023-04-16T21:56:52.599781Z",
     "start_time": "2023-04-16T21:56:52.579239Z"
    }
   },
   "outputs": [
    {
     "data": {
      "text/plain": [
       "1    247\n",
       "0     55\n",
       "Name: Stage, dtype: int64"
      ]
     },
     "execution_count": 40,
     "metadata": {},
     "output_type": "execute_result"
    }
   ],
   "source": [
    "X_train = train.loc[train['Group'] == 'NSCLC']\n",
    "\n",
    "stratification_groups = X_train.loc[:, 'Stage']\n",
    "X_train = X_train.loc[:, ~X_train.columns.isin(['ID', 'Sex', 'Age', 'Group'])]\n",
    "\n",
    "X_train.loc[:, 'Stage'] = X_train['Stage'].map(mapping).map(labels_encoding)\n",
    "X_train['Stage'].value_counts()"
   ]
  },
  {
   "cell_type": "code",
   "execution_count": 41,
   "metadata": {
    "ExecuteTime": {
     "end_time": "2023-04-16T22:11:43.951360Z",
     "start_time": "2023-04-16T21:56:55.441511Z"
    }
   },
   "outputs": [
    {
     "name": "stderr",
     "output_type": "stream",
     "text": [
      "\u001b[32m[I 2023-04-16 21:56:55,441]\u001b[0m A new study created in memory with name: no-name-5b0d6b65-e2b4-4296-98e6-ca57ee3bdd86\u001b[0m\n",
      "\u001b[32m[I 2023-04-16 21:56:59,257]\u001b[0m Trial 0 finished with value: 0.92035670085987 and parameters: {'n_estimators': 35, 'max_depth': 2, 'learning_rate': 0.29509263455527723, 'subsample': 0.8874967018093747, 'colsample_bytree': 0.6195765410669845, 'gamma': 0.7204844067678828}. Best is trial 0 with value: 0.92035670085987.\u001b[0m\n",
      "\u001b[32m[I 2023-04-16 21:57:09,050]\u001b[0m Trial 1 finished with value: 0.9201179931646326 and parameters: {'n_estimators': 104, 'max_depth': 5, 'learning_rate': 0.21868704705931916, 'subsample': 0.7507189370756635, 'colsample_bytree': 0.8129720858061855, 'gamma': 0.3966923245013043}. Best is trial 0 with value: 0.92035670085987.\u001b[0m\n",
      "\u001b[32m[I 2023-04-16 21:57:22,247]\u001b[0m Trial 2 finished with value: 0.9134693718459301 and parameters: {'n_estimators': 142, 'max_depth': 8, 'learning_rate': 0.09854310030212783, 'subsample': 0.7020524663369129, 'colsample_bytree': 0.9219827957519978, 'gamma': 0.1874253690901796}. Best is trial 0 with value: 0.92035670085987.\u001b[0m\n",
      "\u001b[32m[I 2023-04-16 21:57:31,254]\u001b[0m Trial 3 finished with value: 0.9166214896681292 and parameters: {'n_estimators': 68, 'max_depth': 8, 'learning_rate': 0.02566922817269414, 'subsample': 0.8514026528702634, 'colsample_bytree': 0.8659764728840588, 'gamma': 0.4987438122291198}. Best is trial 0 with value: 0.92035670085987.\u001b[0m\n",
      "\u001b[32m[I 2023-04-16 21:57:40,704]\u001b[0m Trial 4 finished with value: 0.9256570401608569 and parameters: {'n_estimators': 107, 'max_depth': 6, 'learning_rate': 0.22833607390315766, 'subsample': 0.7237818041420028, 'colsample_bytree': 0.7462426804787332, 'gamma': 0.5096331115733127}. Best is trial 4 with value: 0.9256570401608569.\u001b[0m\n",
      "\u001b[32m[I 2023-04-16 21:57:46,706]\u001b[0m Trial 5 finished with value: 0.9183391170233276 and parameters: {'n_estimators': 62, 'max_depth': 2, 'learning_rate': 0.17513862790998921, 'subsample': 0.8989985988956934, 'colsample_bytree': 0.67372654357867, 'gamma': 0.5426428045428915}. Best is trial 4 with value: 0.9256570401608569.\u001b[0m\n",
      "\u001b[32m[I 2023-04-16 21:57:56,622]\u001b[0m Trial 6 finished with value: 0.9227569322074698 and parameters: {'n_estimators': 103, 'max_depth': 6, 'learning_rate': 0.1723055196605823, 'subsample': 0.6782063389382605, 'colsample_bytree': 0.8794682241536667, 'gamma': 0.9529590216464279}. Best is trial 4 with value: 0.9256570401608569.\u001b[0m\n",
      "\u001b[32m[I 2023-04-16 21:58:07,107]\u001b[0m Trial 7 finished with value: 0.9138611438144308 and parameters: {'n_estimators': 114, 'max_depth': 2, 'learning_rate': 0.01467883344967303, 'subsample': 0.7596648579025106, 'colsample_bytree': 0.8364496556631749, 'gamma': 0.3100159142440647}. Best is trial 4 with value: 0.9256570401608569.\u001b[0m\n",
      "\u001b[32m[I 2023-04-16 21:58:17,795]\u001b[0m Trial 8 finished with value: 0.923971788160264 and parameters: {'n_estimators': 123, 'max_depth': 6, 'learning_rate': 0.2660120220475247, 'subsample': 0.8151955812235328, 'colsample_bytree': 0.6477676958760287, 'gamma': 0.9331657003819406}. Best is trial 4 with value: 0.9256570401608569.\u001b[0m\n",
      "\u001b[32m[I 2023-04-16 21:58:28,489]\u001b[0m Trial 9 finished with value: 0.9163435399473969 and parameters: {'n_estimators': 130, 'max_depth': 3, 'learning_rate': 0.28093224506396186, 'subsample': 0.6710902068653725, 'colsample_bytree': 0.7457792695505594, 'gamma': 0.5293715685984771}. Best is trial 4 with value: 0.9256570401608569.\u001b[0m\n",
      "\u001b[32m[I 2023-04-16 21:58:36,369]\u001b[0m Trial 10 finished with value: 0.9135244812625287 and parameters: {'n_estimators': 80, 'max_depth': 4, 'learning_rate': 0.22532593951806382, 'subsample': 0.6185936931342348, 'colsample_bytree': 0.9946023701400272, 'gamma': 0.03442099890190897}. Best is trial 4 with value: 0.9256570401608569.\u001b[0m\n",
      "\u001b[32m[I 2023-04-16 21:58:48,188]\u001b[0m Trial 11 finished with value: 0.9169705965507492 and parameters: {'n_estimators': 123, 'max_depth': 6, 'learning_rate': 0.24770130575525676, 'subsample': 0.9729524881780668, 'colsample_bytree': 0.7274845570269302, 'gamma': 0.9885165052372669}. Best is trial 4 with value: 0.9256570401608569.\u001b[0m\n",
      "\u001b[32m[I 2023-04-16 21:59:00,813]\u001b[0m Trial 12 finished with value: 0.9114838272799589 and parameters: {'n_estimators': 149, 'max_depth': 6, 'learning_rate': 0.25333429004722585, 'subsample': 0.810785115986768, 'colsample_bytree': 0.6070215365479878, 'gamma': 0.7638411427607043}. Best is trial 4 with value: 0.9256570401608569.\u001b[0m\n",
      "\u001b[32m[I 2023-04-16 21:59:09,423]\u001b[0m Trial 13 finished with value: 0.9148695820049777 and parameters: {'n_estimators': 93, 'max_depth': 7, 'learning_rate': 0.29697694897106164, 'subsample': 0.7860128467084554, 'colsample_bytree': 0.7431124242497336, 'gamma': 0.7608963490732631}. Best is trial 4 with value: 0.9256570401608569.\u001b[0m\n",
      "\u001b[32m[I 2023-04-16 21:59:20,364]\u001b[0m Trial 14 finished with value: 0.9101116659350307 and parameters: {'n_estimators': 128, 'max_depth': 5, 'learning_rate': 0.20317879317954346, 'subsample': 0.7448220783410331, 'colsample_bytree': 0.680097521863639, 'gamma': 0.6047697503738632}. Best is trial 4 with value: 0.9256570401608569.\u001b[0m\n",
      "\u001b[32m[I 2023-04-16 21:59:23,537]\u001b[0m Trial 15 finished with value: 0.909083022240917 and parameters: {'n_estimators': 20, 'max_depth': 7, 'learning_rate': 0.2564406391369133, 'subsample': 0.8152239078422953, 'colsample_bytree': 0.790563531490897, 'gamma': 0.869742717127989}. Best is trial 4 with value: 0.9256570401608569.\u001b[0m\n",
      "\u001b[32m[I 2023-04-16 21:59:31,493]\u001b[0m Trial 16 finished with value: 0.9227569322074698 and parameters: {'n_estimators': 86, 'max_depth': 4, 'learning_rate': 0.14556341650342447, 'subsample': 0.7215444554622421, 'colsample_bytree': 0.6717081170735836, 'gamma': 0.67297826077285}. Best is trial 4 with value: 0.9256570401608569.\u001b[0m\n",
      "\u001b[32m[I 2023-04-16 21:59:41,033]\u001b[0m Trial 17 finished with value: 0.9072523466052006 and parameters: {'n_estimators': 109, 'max_depth': 7, 'learning_rate': 0.2674746576662234, 'subsample': 0.6298691991937699, 'colsample_bytree': 0.7723031525128159, 'gamma': 0.797805167006935}. Best is trial 4 with value: 0.9256570401608569.\u001b[0m\n",
      "\u001b[32m[I 2023-04-16 21:59:52,582]\u001b[0m Trial 18 finished with value: 0.9193083719399509 and parameters: {'n_estimators': 133, 'max_depth': 4, 'learning_rate': 0.233711605983434, 'subsample': 0.7836283910710502, 'colsample_bytree': 0.6523206818065834, 'gamma': 0.9060339112536806}. Best is trial 4 with value: 0.9256570401608569.\u001b[0m\n",
      "\u001b[32m[I 2023-04-16 22:00:02,855]\u001b[0m Trial 19 finished with value: 0.9189669280246927 and parameters: {'n_estimators': 118, 'max_depth': 6, 'learning_rate': 0.20256824412487592, 'subsample': 0.7116637655446222, 'colsample_bytree': 0.7079524881958993, 'gamma': 0.6299120156704248}. Best is trial 4 with value: 0.9256570401608569.\u001b[0m\n",
      "\u001b[32m[I 2023-04-16 22:00:08,579]\u001b[0m Trial 20 finished with value: 0.9135495703685291 and parameters: {'n_estimators': 55, 'max_depth': 5, 'learning_rate': 0.2711080036352419, 'subsample': 0.8324805334554412, 'colsample_bytree': 0.7074241631905961, 'gamma': 0.8547276628207545}. Best is trial 4 with value: 0.9256570401608569.\u001b[0m\n",
      "\u001b[32m[I 2023-04-16 22:00:17,926]\u001b[0m Trial 21 finished with value: 0.9207156898149609 and parameters: {'n_estimators': 98, 'max_depth': 6, 'learning_rate': 0.17012462886916357, 'subsample': 0.6779565586619424, 'colsample_bytree': 0.8711813077623428, 'gamma': 0.9734497599228384}. Best is trial 4 with value: 0.9256570401608569.\u001b[0m\n",
      "\u001b[32m[I 2023-04-16 22:00:27,211]\u001b[0m Trial 22 finished with value: 0.9036065786065786 and parameters: {'n_estimators': 103, 'max_depth': 5, 'learning_rate': 0.23510560433711383, 'subsample': 0.6597613342473917, 'colsample_bytree': 0.7591990025398327, 'gamma': 0.9069054073504654}. Best is trial 4 with value: 0.9256570401608569.\u001b[0m\n",
      "\u001b[32m[I 2023-04-16 22:00:35,083]\u001b[0m Trial 23 finished with value: 0.9056309135859157 and parameters: {'n_estimators': 85, 'max_depth': 7, 'learning_rate': 0.1997641461825139, 'subsample': 0.6471519881500395, 'colsample_bytree': 0.6434631291752037, 'gamma': 0.9914690464678424}. Best is trial 4 with value: 0.9256570401608569.\u001b[0m\n",
      "\u001b[32m[I 2023-04-16 22:00:45,528]\u001b[0m Trial 24 finished with value: 0.9172932330827067 and parameters: {'n_estimators': 114, 'max_depth': 6, 'learning_rate': 0.1303432764788994, 'subsample': 0.6012461869824391, 'colsample_bytree': 0.8008719128701209, 'gamma': 0.6938964315547669}. Best is trial 4 with value: 0.9256570401608569.\u001b[0m\n",
      "\u001b[32m[I 2023-04-16 22:00:57,127]\u001b[0m Trial 25 finished with value: 0.9155308452464315 and parameters: {'n_estimators': 138, 'max_depth': 7, 'learning_rate': 0.27230467173605566, 'subsample': 0.6896331186946808, 'colsample_bytree': 0.702710398209008, 'gamma': 0.8094212301461511}. Best is trial 4 with value: 0.9256570401608569.\u001b[0m\n",
      "\u001b[32m[I 2023-04-16 22:01:05,639]\u001b[0m Trial 26 finished with value: 0.9173952601860771 and parameters: {'n_estimators': 94, 'max_depth': 6, 'learning_rate': 0.1863354630533977, 'subsample': 0.717044618488334, 'colsample_bytree': 0.6364968348033493, 'gamma': 0.8383920206852968}. Best is trial 4 with value: 0.9256570401608569.\u001b[0m\n",
      "\u001b[32m[I 2023-04-16 22:01:12,890]\u001b[0m Trial 27 finished with value: 0.9228114478114479 and parameters: {'n_estimators': 77, 'max_depth': 5, 'learning_rate': 0.22098905526998378, 'subsample': 0.7656245767490749, 'colsample_bytree': 0.6033567995406139, 'gamma': 0.9221291862951808}. Best is trial 4 with value: 0.9256570401608569.\u001b[0m\n",
      "\u001b[32m[I 2023-04-16 22:01:19,807]\u001b[0m Trial 28 finished with value: 0.9152355847411104 and parameters: {'n_estimators': 73, 'max_depth': 4, 'learning_rate': 0.2442578909967712, 'subsample': 0.7618683257933135, 'colsample_bytree': 0.6034489833527317, 'gamma': 0.9110910386367289}. Best is trial 4 with value: 0.9256570401608569.\u001b[0m\n",
      "\u001b[32m[I 2023-04-16 22:01:25,283]\u001b[0m Trial 29 finished with value: 0.9191053526328737 and parameters: {'n_estimators': 54, 'max_depth': 5, 'learning_rate': 0.28691707158291235, 'subsample': 0.7852610335247752, 'colsample_bytree': 0.6282228612692178, 'gamma': 0.7282108869595555}. Best is trial 4 with value: 0.9256570401608569.\u001b[0m\n",
      "\u001b[32m[I 2023-04-16 22:01:29,714]\u001b[0m Trial 30 finished with value: 0.920754294438505 and parameters: {'n_estimators': 41, 'max_depth': 3, 'learning_rate': 0.29714283720281137, 'subsample': 0.7317406573901487, 'colsample_bytree': 0.6014513249405047, 'gamma': 0.7233919374727602}. Best is trial 4 with value: 0.9256570401608569.\u001b[0m\n",
      "\u001b[32m[I 2023-04-16 22:01:39,191]\u001b[0m Trial 31 finished with value: 0.9152381352149886 and parameters: {'n_estimators': 107, 'max_depth': 5, 'learning_rate': 0.21841248380497758, 'subsample': 0.6953068262090016, 'colsample_bytree': 0.6335786508426602, 'gamma': 0.9373960543994324}. Best is trial 4 with value: 0.9256570401608569.\u001b[0m\n",
      "\u001b[32m[I 2023-04-16 22:01:46,756]\u001b[0m Trial 32 finished with value: 0.9190234635289893 and parameters: {'n_estimators': 81, 'max_depth': 6, 'learning_rate': 0.21660867286774024, 'subsample': 0.7479406218573422, 'colsample_bytree': 0.6570807575069904, 'gamma': 0.8261058221769585}. Best is trial 4 with value: 0.9256570401608569.\u001b[0m\n",
      "\u001b[32m[I 2023-04-16 22:01:57,026]\u001b[0m Trial 33 finished with value: 0.9148963717153303 and parameters: {'n_estimators': 120, 'max_depth': 5, 'learning_rate': 0.23426272834733786, 'subsample': 0.7309023783743851, 'colsample_bytree': 0.6268031767878162, 'gamma': 0.9346441099308382}. Best is trial 4 with value: 0.9256570401608569.\u001b[0m\n",
      "\u001b[32m[I 2023-04-16 22:02:06,106]\u001b[0m Trial 34 finished with value: 0.9024052919091087 and parameters: {'n_estimators': 101, 'max_depth': 8, 'learning_rate': 0.25908398948665545, 'subsample': 0.6974351508050746, 'colsample_bytree': 0.6881837013721959, 'gamma': 0.869377519882224}. Best is trial 4 with value: 0.9256570401608569.\u001b[0m\n",
      "\u001b[32m[I 2023-04-16 22:02:14,216]\u001b[0m Trial 35 finished with value: 0.9072568437061759 and parameters: {'n_estimators': 91, 'max_depth': 6, 'learning_rate': 0.18008464017941087, 'subsample': 0.6595604858339678, 'colsample_bytree': 0.6592952222339379, 'gamma': 0.4488622008499828}. Best is trial 4 with value: 0.9256570401608569.\u001b[0m\n",
      "\u001b[32m[I 2023-04-16 22:02:20,952]\u001b[0m Trial 36 finished with value: 0.9166498613063498 and parameters: {'n_estimators': 69, 'max_depth': 7, 'learning_rate': 0.21935945225771022, 'subsample': 0.768716813360169, 'colsample_bytree': 0.7261395781172123, 'gamma': 0.3384324855792414}. Best is trial 4 with value: 0.9256570401608569.\u001b[0m\n",
      "\u001b[32m[I 2023-04-16 22:02:31,360]\u001b[0m Trial 37 finished with value: 0.9112406112406113 and parameters: {'n_estimators': 108, 'max_depth': 6, 'learning_rate': 0.15906529423076238, 'subsample': 0.8582252044002746, 'colsample_bytree': 0.8170410606155131, 'gamma': 0.5819615000021655}. Best is trial 4 with value: 0.9256570401608569.\u001b[0m\n",
      "\u001b[32m[I 2023-04-16 22:02:38,640]\u001b[0m Trial 38 finished with value: 0.9213591135232926 and parameters: {'n_estimators': 75, 'max_depth': 8, 'learning_rate': 0.19323555107310514, 'subsample': 0.738425647961374, 'colsample_bytree': 0.6268641580012503, 'gamma': 0.9973703192065236}. Best is trial 4 with value: 0.9256570401608569.\u001b[0m\n",
      "\u001b[32m[I 2023-04-16 22:02:50,232]\u001b[0m Trial 39 finished with value: 0.9166209462010989 and parameters: {'n_estimators': 127, 'max_depth': 5, 'learning_rate': 0.20606610738212167, 'subsample': 0.7646551512073749, 'colsample_bytree': 0.8634290257171887, 'gamma': 0.7932749783754122}. Best is trial 4 with value: 0.9256570401608569.\u001b[0m\n",
      "\u001b[32m[I 2023-04-16 22:02:56,245]\u001b[0m Trial 40 finished with value: 0.9067629765610451 and parameters: {'n_estimators': 62, 'max_depth': 3, 'learning_rate': 0.24114459519962697, 'subsample': 0.7087379068374297, 'colsample_bytree': 0.6707130460025185, 'gamma': 0.6403362228220956}. Best is trial 4 with value: 0.9256570401608569.\u001b[0m\n",
      "\u001b[32m[I 2023-04-16 22:03:04,398]\u001b[0m Trial 41 finished with value: 0.9193412636067781 and parameters: {'n_estimators': 86, 'max_depth': 4, 'learning_rate': 0.13414800068026908, 'subsample': 0.7210250820931124, 'colsample_bytree': 0.6857523173321446, 'gamma': 0.6808451058394416}. Best is trial 4 with value: 0.9256570401608569.\u001b[0m\n",
      "\u001b[32m[I 2023-04-16 22:03:14,340]\u001b[0m Trial 42 finished with value: 0.9189348670465585 and parameters: {'n_estimators': 114, 'max_depth': 4, 'learning_rate': 0.14972969514622417, 'subsample': 0.6861299272705836, 'colsample_bytree': 0.6602052760634375, 'gamma': 0.5426248603324528}. Best is trial 4 with value: 0.9256570401608569.\u001b[0m\n",
      "\u001b[32m[I 2023-04-16 22:03:22,819]\u001b[0m Trial 43 finished with value: 0.9175974290467613 and parameters: {'n_estimators': 88, 'max_depth': 5, 'learning_rate': 0.1008536479697163, 'subsample': 0.752850161772627, 'colsample_bytree': 0.6122004173037818, 'gamma': 0.94780887767946}. Best is trial 4 with value: 0.9256570401608569.\u001b[0m\n",
      "\u001b[32m[I 2023-04-16 22:03:31,402]\u001b[0m Trial 44 finished with value: 0.9231450953587177 and parameters: {'n_estimators': 97, 'max_depth': 3, 'learning_rate': 0.17748292799600734, 'subsample': 0.8023598655383402, 'colsample_bytree': 0.6468391095927608, 'gamma': 0.47351345763889285}. Best is trial 4 with value: 0.9256570401608569.\u001b[0m\n",
      "\u001b[32m[I 2023-04-16 22:03:43,576]\u001b[0m Trial 45 finished with value: 0.9262558271788437 and parameters: {'n_estimators': 149, 'max_depth': 2, 'learning_rate': 0.18042188990079988, 'subsample': 0.8114218668487126, 'colsample_bytree': 0.6197807770504686, 'gamma': 0.4452577219875209}. Best is trial 45 with value: 0.9262558271788437.\u001b[0m\n",
      "\u001b[32m[I 2023-04-16 22:03:55,387]\u001b[0m Trial 46 finished with value: 0.914765495987294 and parameters: {'n_estimators': 146, 'max_depth': 2, 'learning_rate': 0.1845758966556128, 'subsample': 0.7964394388327833, 'colsample_bytree': 0.6149632592707789, 'gamma': 0.4715640175930193}. Best is trial 45 with value: 0.9262558271788437.\u001b[0m\n",
      "\u001b[32m[I 2023-04-16 22:04:06,551]\u001b[0m Trial 47 finished with value: 0.9259753738962256 and parameters: {'n_estimators': 138, 'max_depth': 2, 'learning_rate': 0.21162218688111117, 'subsample': 0.8226495233639224, 'colsample_bytree': 0.6451113943844144, 'gamma': 0.4281172787586602}. Best is trial 45 with value: 0.9262558271788437.\u001b[0m\n",
      "\u001b[32m[I 2023-04-16 22:04:18,251]\u001b[0m Trial 48 finished with value: 0.9189637821518095 and parameters: {'n_estimators': 142, 'max_depth': 2, 'learning_rate': 0.1693080062128579, 'subsample': 0.8210078446963359, 'colsample_bytree': 0.6542016010094703, 'gamma': 0.40674478303234196}. Best is trial 45 with value: 0.9262558271788437.\u001b[0m\n",
      "\u001b[32m[I 2023-04-16 22:04:29,340]\u001b[0m Trial 49 finished with value: 0.9201322983966616 and parameters: {'n_estimators': 136, 'max_depth': 2, 'learning_rate': 0.19001997013488225, 'subsample': 0.8472925741193316, 'colsample_bytree': 0.6425576755224133, 'gamma': 0.49798077167664784}. Best is trial 45 with value: 0.9262558271788437.\u001b[0m\n",
      "\u001b[32m[I 2023-04-16 22:04:41,628]\u001b[0m Trial 50 finished with value: 0.9190144163828373 and parameters: {'n_estimators': 149, 'max_depth': 3, 'learning_rate': 0.2077972376929093, 'subsample': 0.8038294193494515, 'colsample_bytree': 0.6817743559311915, 'gamma': 0.31942811253169223}. Best is trial 45 with value: 0.9262558271788437.\u001b[0m\n",
      "\u001b[32m[I 2023-04-16 22:04:51,862]\u001b[0m Trial 51 finished with value: 0.9151807398180994 and parameters: {'n_estimators': 125, 'max_depth': 2, 'learning_rate': 0.22346082651909538, 'subsample': 0.7948992602516309, 'colsample_bytree': 0.6162105346193862, 'gamma': 0.4304581847648336}. Best is trial 45 with value: 0.9262558271788437.\u001b[0m\n",
      "\u001b[32m[I 2023-04-16 22:05:03,041]\u001b[0m Trial 52 finished with value: 0.9176018404219504 and parameters: {'n_estimators': 140, 'max_depth': 3, 'learning_rate': 0.2448071415299342, 'subsample': 0.7772881717813804, 'colsample_bytree': 0.644079970329275, 'gamma': 0.37529747323321333}. Best is trial 45 with value: 0.9262558271788437.\u001b[0m\n",
      "\u001b[32m[I 2023-04-16 22:05:13,861]\u001b[0m Trial 53 finished with value: 0.920758475338628 and parameters: {'n_estimators': 135, 'max_depth': 2, 'learning_rate': 0.22701646825901767, 'subsample': 0.8197606603078511, 'colsample_bytree': 0.6238751339288603, 'gamma': 0.2544273517165434}. Best is trial 45 with value: 0.9262558271788437.\u001b[0m\n",
      "\u001b[32m[I 2023-04-16 22:05:24,675]\u001b[0m Trial 54 finished with value: 0.9172862712336396 and parameters: {'n_estimators': 131, 'max_depth': 3, 'learning_rate': 0.2565458365885705, 'subsample': 0.8036514755048983, 'colsample_bytree': 0.6016035349415363, 'gamma': 0.4830195103402071}. Best is trial 45 with value: 0.9262558271788437.\u001b[0m\n",
      "\u001b[32m[I 2023-04-16 22:05:34,607]\u001b[0m Trial 55 finished with value: 0.9131951952521282 and parameters: {'n_estimators': 120, 'max_depth': 2, 'learning_rate': 0.21172960022309004, 'subsample': 0.8351748371448222, 'colsample_bytree': 0.6686822703941031, 'gamma': 0.5563114735352803}. Best is trial 45 with value: 0.9262558271788437.\u001b[0m\n",
      "\u001b[32m[I 2023-04-16 22:05:46,234]\u001b[0m Trial 56 finished with value: 0.9169129770465199 and parameters: {'n_estimators': 144, 'max_depth': 2, 'learning_rate': 0.19741249667916178, 'subsample': 0.8695151877053019, 'colsample_bytree': 0.6477591800716824, 'gamma': 0.5158078044368947}. Best is trial 45 with value: 0.9262558271788437.\u001b[0m\n",
      "\u001b[32m[I 2023-04-16 22:05:58,265]\u001b[0m Trial 57 finished with value: 0.92275932368234 and parameters: {'n_estimators': 150, 'max_depth': 3, 'learning_rate': 0.22669212268539618, 'subsample': 0.7758666655669361, 'colsample_bytree': 0.6165943950426909, 'gamma': 0.42397441817808}. Best is trial 45 with value: 0.9262558271788437.\u001b[0m\n",
      "\u001b[32m[I 2023-04-16 22:06:06,667]\u001b[0m Trial 58 finished with value: 0.9242920015308075 and parameters: {'n_estimators': 98, 'max_depth': 2, 'learning_rate': 0.1763189938547922, 'subsample': 0.8129128805560756, 'colsample_bytree': 0.6374313993357593, 'gamma': 0.3805779894411678}. Best is trial 45 with value: 0.9262558271788437.\u001b[0m\n",
      "\u001b[32m[I 2023-04-16 22:06:15,150]\u001b[0m Trial 59 finished with value: 0.9093707603239093 and parameters: {'n_estimators': 97, 'max_depth': 2, 'learning_rate': 0.17674105501379636, 'subsample': 0.8296568617484892, 'colsample_bytree': 0.7026667918320946, 'gamma': 0.392381093284606}. Best is trial 45 with value: 0.9262558271788437.\u001b[0m\n",
      "\u001b[32m[I 2023-04-16 22:06:24,417]\u001b[0m Trial 60 finished with value: 0.9206795614991676 and parameters: {'n_estimators': 112, 'max_depth': 2, 'learning_rate': 0.19274412653667836, 'subsample': 0.8082363093140932, 'colsample_bytree': 0.6399063201571157, 'gamma': 0.4610203645612852}. Best is trial 45 with value: 0.9262558271788437.\u001b[0m\n",
      "\u001b[32m[I 2023-04-16 22:06:32,585]\u001b[0m Trial 61 finished with value: 0.9138095502588826 and parameters: {'n_estimators': 98, 'max_depth': 2, 'learning_rate': 0.21056818681736297, 'subsample': 0.7865287942523569, 'colsample_bytree': 0.6253024162640768, 'gamma': 0.3637055618861087}. Best is trial 45 with value: 0.9262558271788437.\u001b[0m\n",
      "\u001b[32m[I 2023-04-16 22:06:40,023]\u001b[0m Trial 62 finished with value: 0.9193062465450524 and parameters: {'n_estimators': 80, 'max_depth': 3, 'learning_rate': 0.1622931599506749, 'subsample': 0.8137306704449307, 'colsample_bytree': 0.6700358420707692, 'gamma': 0.4959501816245599}. Best is trial 45 with value: 0.9262558271788437.\u001b[0m\n",
      "\u001b[32m[I 2023-04-16 22:06:48,738]\u001b[0m Trial 63 finished with value: 0.9141715664103723 and parameters: {'n_estimators': 102, 'max_depth': 3, 'learning_rate': 0.19807181036612667, 'subsample': 0.7922018135563098, 'colsample_bytree': 0.6004057450106317, 'gamma': 0.44121524200481066}. Best is trial 45 with value: 0.9262558271788437.\u001b[0m\n",
      "\u001b[32m[I 2023-04-16 22:06:58,684]\u001b[0m Trial 64 finished with value: 0.9125246975710629 and parameters: {'n_estimators': 123, 'max_depth': 2, 'learning_rate': 0.1785412549393689, 'subsample': 0.7580652061146147, 'colsample_bytree': 0.6433900572692888, 'gamma': 0.28370761210105677}. Best is trial 45 with value: 0.9262558271788437.\u001b[0m\n",
      "\u001b[32m[I 2023-04-16 22:07:07,167]\u001b[0m Trial 65 finished with value: 0.9170170497067669 and parameters: {'n_estimators': 93, 'max_depth': 7, 'learning_rate': 0.2363985372663755, 'subsample': 0.8389528722877585, 'colsample_bytree': 0.6325123769872463, 'gamma': 0.5298134285669789}. Best is trial 45 with value: 0.9262558271788437.\u001b[0m\n",
      "\u001b[32m[I 2023-04-16 22:07:18,329]\u001b[0m Trial 66 finished with value: 0.9257014448007159 and parameters: {'n_estimators': 131, 'max_depth': 6, 'learning_rate': 0.2827505656828688, 'subsample': 0.8219749608491767, 'colsample_bytree': 0.6555768324300699, 'gamma': 0.5922713331750526}. Best is trial 45 with value: 0.9262558271788437.\u001b[0m\n",
      "\u001b[32m[I 2023-04-16 22:07:29,356]\u001b[0m Trial 67 finished with value: 0.9179115672720838 and parameters: {'n_estimators': 128, 'max_depth': 6, 'learning_rate': 0.2740474867581746, 'subsample': 0.8251813129187836, 'colsample_bytree': 0.6937429985993963, 'gamma': 0.5715910449894323}. Best is trial 45 with value: 0.9262558271788437.\u001b[0m\n",
      "\u001b[32m[I 2023-04-16 22:07:39,402]\u001b[0m Trial 68 finished with value: 0.9163364206717753 and parameters: {'n_estimators': 117, 'max_depth': 6, 'learning_rate': 0.2836377892789039, 'subsample': 0.8452559318534482, 'colsample_bytree': 0.6631126125900438, 'gamma': 0.6016224144597753}. Best is trial 45 with value: 0.9262558271788437.\u001b[0m\n",
      "\u001b[32m[I 2023-04-16 22:07:50,443]\u001b[0m Trial 69 finished with value: 0.9207369568960568 and parameters: {'n_estimators': 131, 'max_depth': 7, 'learning_rate': 0.2641675493552611, 'subsample': 0.8132203656511411, 'colsample_bytree': 0.6751258729379668, 'gamma': 0.5133347464144056}. Best is trial 45 with value: 0.9262558271788437.\u001b[0m\n",
      "\u001b[32m[I 2023-04-16 22:07:59,621]\u001b[0m Trial 70 finished with value: 0.9148623960485704 and parameters: {'n_estimators': 105, 'max_depth': 6, 'learning_rate': 0.2528427138744039, 'subsample': 0.8595399932560336, 'colsample_bytree': 0.6527835287189372, 'gamma': 0.46723353429861747}. Best is trial 45 with value: 0.9262558271788437.\u001b[0m\n",
      "\u001b[32m[I 2023-04-16 22:08:10,756]\u001b[0m Trial 71 finished with value: 0.9059511151616414 and parameters: {'n_estimators': 136, 'max_depth': 6, 'learning_rate': 0.25113067182296095, 'subsample': 0.7791757392415942, 'colsample_bytree': 0.6142107934891539, 'gamma': 0.4110128508637517}. Best is trial 45 with value: 0.9262558271788437.\u001b[0m\n",
      "\u001b[32m[I 2023-04-16 22:08:20,666]\u001b[0m Trial 72 finished with value: 0.9149189315528672 and parameters: {'n_estimators': 111, 'max_depth': 5, 'learning_rate': 0.18600165627613444, 'subsample': 0.8045535851114495, 'colsample_bytree': 0.6335631766168518, 'gamma': 0.8894835402281808}. Best is trial 45 with value: 0.9262558271788437.\u001b[0m\n",
      "\u001b[32m[I 2023-04-16 22:08:32,938]\u001b[0m Trial 73 finished with value: 0.9220490964096129 and parameters: {'n_estimators': 145, 'max_depth': 7, 'learning_rate': 0.2643980245282137, 'subsample': 0.8202201568056432, 'colsample_bytree': 0.6216104621514623, 'gamma': 0.7576859929072172}. Best is trial 45 with value: 0.9262558271788437.\u001b[0m\n",
      "\u001b[32m[I 2023-04-16 22:08:41,322]\u001b[0m Trial 74 finished with value: 0.9277620584230132 and parameters: {'n_estimators': 90, 'max_depth': 4, 'learning_rate': 0.27919628124498735, 'subsample': 0.8332243855403784, 'colsample_bytree': 0.7227247997950271, 'gamma': 0.9655386646135381}. Best is trial 74 with value: 0.9277620584230132.\u001b[0m\n",
      "\u001b[32m[I 2023-04-16 22:08:49,457]\u001b[0m Trial 75 finished with value: 0.924494229997399 and parameters: {'n_estimators': 90, 'max_depth': 4, 'learning_rate': 0.2903482691425497, 'subsample': 0.8306921854730422, 'colsample_bytree': 0.7282471213358176, 'gamma': 0.4436619096592518}. Best is trial 74 with value: 0.9277620584230132.\u001b[0m\n",
      "\u001b[32m[I 2023-04-16 22:09:01,595]\u001b[0m Trial 76 finished with value: 0.9176018404219504 and parameters: {'n_estimators': 139, 'max_depth': 4, 'learning_rate': 0.29086036923017666, 'subsample': 0.8344562128605131, 'colsample_bytree': 0.7240678408585304, 'gamma': 0.9670387122364275}. Best is trial 74 with value: 0.9277620584230132.\u001b[0m\n",
      "\u001b[32m[I 2023-04-16 22:09:09,255]\u001b[0m Trial 77 finished with value: 0.9259325883725584 and parameters: {'n_estimators': 83, 'max_depth': 4, 'learning_rate': 0.2999780255243685, 'subsample': 0.8783570384512045, 'colsample_bytree': 0.7473721549452215, 'gamma': 0.433790757612592}. Best is trial 74 with value: 0.9277620584230132.\u001b[0m\n",
      "\u001b[32m[I 2023-04-16 22:09:16,933]\u001b[0m Trial 78 finished with value: 0.9152470487414495 and parameters: {'n_estimators': 83, 'max_depth': 4, 'learning_rate': 0.29487076019236563, 'subsample': 0.8900827857545407, 'colsample_bytree': 0.7430953698814688, 'gamma': 0.4363665047555024}. Best is trial 74 with value: 0.9277620584230132.\u001b[0m\n",
      "\u001b[32m[I 2023-04-16 22:09:25,036]\u001b[0m Trial 79 finished with value: 0.9163083185471245 and parameters: {'n_estimators': 89, 'max_depth': 4, 'learning_rate': 0.299335165934083, 'subsample': 0.87417999388462, 'colsample_bytree': 0.7621062067088166, 'gamma': 0.3885478207175227}. Best is trial 74 with value: 0.9277620584230132.\u001b[0m\n",
      "\u001b[32m[I 2023-04-16 22:09:31,835]\u001b[0m Trial 80 finished with value: 0.9292402889731134 and parameters: {'n_estimators': 72, 'max_depth': 4, 'learning_rate': 0.27707198007677775, 'subsample': 0.8504645893347189, 'colsample_bytree': 0.711147638889798, 'gamma': 0.3592069519056074}. Best is trial 80 with value: 0.9292402889731134.\u001b[0m\n",
      "\u001b[32m[I 2023-04-16 22:09:38,932]\u001b[0m Trial 81 finished with value: 0.9214125223355387 and parameters: {'n_estimators': 77, 'max_depth': 4, 'learning_rate': 0.2799755571355358, 'subsample': 0.8528349348902726, 'colsample_bytree': 0.715729693766469, 'gamma': 0.3440508190626596}. Best is trial 80 with value: 0.9292402889731134.\u001b[0m\n",
      "\u001b[32m[I 2023-04-16 22:09:45,187]\u001b[0m Trial 82 finished with value: 0.9169705965507492 and parameters: {'n_estimators': 64, 'max_depth': 4, 'learning_rate': 0.2780801553681403, 'subsample': 0.8291602789532614, 'colsample_bytree': 0.7384064967417541, 'gamma': 0.41130396121818225}. Best is trial 80 with value: 0.9292402889731134.\u001b[0m\n",
      "\u001b[32m[I 2023-04-16 22:09:51,958]\u001b[0m Trial 83 finished with value: 0.915248167724948 and parameters: {'n_estimators': 71, 'max_depth': 4, 'learning_rate': 0.28639153766450853, 'subsample': 0.8411245009880913, 'colsample_bytree': 0.7136864909998358, 'gamma': 0.4457079213699389}. Best is trial 80 with value: 0.9292402889731134.\u001b[0m\n",
      "\u001b[32m[I 2023-04-16 22:10:00,081]\u001b[0m Trial 84 finished with value: 0.9219223758697442 and parameters: {'n_estimators': 90, 'max_depth': 4, 'learning_rate': 0.2883844481655975, 'subsample': 0.8508214645833818, 'colsample_bytree': 0.7354981894238422, 'gamma': 0.49018342182950647}. Best is trial 80 with value: 0.9292402889731134.\u001b[0m\n",
      "\u001b[32m[I 2023-04-16 22:10:06,505]\u001b[0m Trial 85 finished with value: 0.924494229997399 and parameters: {'n_estimators': 66, 'max_depth': 5, 'learning_rate': 0.27680965265202406, 'subsample': 0.82868229881063, 'colsample_bytree': 0.749837695297005, 'gamma': 0.3666744004093056}. Best is trial 80 with value: 0.9292402889731134.\u001b[0m\n",
      "\u001b[32m[I 2023-04-16 22:10:12,972]\u001b[0m Trial 86 finished with value: 0.922551211864189 and parameters: {'n_estimators': 65, 'max_depth': 5, 'learning_rate': 0.26898505126732364, 'subsample': 0.8665839519587313, 'colsample_bytree': 0.7542325725373488, 'gamma': 0.3567789273072336}. Best is trial 80 with value: 0.9292402889731134.\u001b[0m\n",
      "\u001b[32m[I 2023-04-16 22:10:19,076]\u001b[0m Trial 87 finished with value: 0.916645245592614 and parameters: {'n_estimators': 59, 'max_depth': 5, 'learning_rate': 0.2760444071669966, 'subsample': 0.8779790442254802, 'colsample_bytree': 0.7773732961876553, 'gamma': 0.546622231718269}. Best is trial 80 with value: 0.9292402889731134.\u001b[0m\n",
      "\u001b[32m[I 2023-04-16 22:10:25,962]\u001b[0m Trial 88 finished with value: 0.9242028547060239 and parameters: {'n_estimators': 72, 'max_depth': 4, 'learning_rate': 0.2996340148044603, 'subsample': 0.860093205588372, 'colsample_bytree': 0.7489044546445234, 'gamma': 0.4009055579789469}. Best is trial 80 with value: 0.9292402889731134.\u001b[0m\n",
      "\u001b[32m[I 2023-04-16 22:10:33,132]\u001b[0m Trial 89 finished with value: 0.9186652209040268 and parameters: {'n_estimators': 75, 'max_depth': 5, 'learning_rate': 0.28211453114239493, 'subsample': 0.8393416333492988, 'colsample_bytree': 0.7311831913004558, 'gamma': 0.647810987737562}. Best is trial 80 with value: 0.9292402889731134.\u001b[0m\n",
      "\u001b[32m[I 2023-04-16 22:10:39,750]\u001b[0m Trial 90 finished with value: 0.9135548224554779 and parameters: {'n_estimators': 69, 'max_depth': 4, 'learning_rate': 0.29299382539158786, 'subsample': 0.8277600774869244, 'colsample_bytree': 0.7247097172153949, 'gamma': 0.4598052222674434}. Best is trial 80 with value: 0.9292402889731134.\u001b[0m\n",
      "\u001b[32m[I 2023-04-16 22:10:47,153]\u001b[0m Trial 91 finished with value: 0.9193038550701821 and parameters: {'n_estimators': 83, 'max_depth': 3, 'learning_rate': 0.27320821149901603, 'subsample': 0.8180305798551949, 'colsample_bytree': 0.6952079425012907, 'gamma': 0.3737596815772984}. Best is trial 80 with value: 0.9292402889731134.\u001b[0m\n",
      "\u001b[32m[I 2023-04-16 22:10:52,517]\u001b[0m Trial 92 finished with value: 0.9186842505032091 and parameters: {'n_estimators': 52, 'max_depth': 3, 'learning_rate': 0.2615100826717073, 'subsample': 0.8457575383413124, 'colsample_bytree': 0.7468016650003689, 'gamma': 0.38376976733741}. Best is trial 80 with value: 0.9292402889731134.\u001b[0m\n",
      "\u001b[32m[I 2023-04-16 22:11:00,875]\u001b[0m Trial 93 finished with value: 0.9228071614167451 and parameters: {'n_estimators': 94, 'max_depth': 4, 'learning_rate': 0.2903256736999107, 'subsample': 0.7936132492648066, 'colsample_bytree': 0.712045352318846, 'gamma': 0.3350725049689864}. Best is trial 80 with value: 0.9292402889731134.\u001b[0m\n",
      "\u001b[32m[I 2023-04-16 22:11:08,340]\u001b[0m Trial 94 finished with value: 0.9052030113407638 and parameters: {'n_estimators': 80, 'max_depth': 5, 'learning_rate': 0.26873705346891236, 'subsample': 0.8090664404417028, 'colsample_bytree': 0.7186153473263587, 'gamma': 0.42122012007205584}. Best is trial 80 with value: 0.9292402889731134.\u001b[0m\n",
      "\u001b[32m[I 2023-04-16 22:11:15,933]\u001b[0m Trial 95 finished with value: 0.9131510280764012 and parameters: {'n_estimators': 87, 'max_depth': 2, 'learning_rate': 0.2831171057366741, 'subsample': 0.8253527568516402, 'colsample_bytree': 0.7035079101648906, 'gamma': 0.5178668025172701}. Best is trial 80 with value: 0.9292402889731134.\u001b[0m\n",
      "\u001b[32m[I 2023-04-16 22:11:21,104]\u001b[0m Trial 96 finished with value: 0.9242115524759157 and parameters: {'n_estimators': 47, 'max_depth': 5, 'learning_rate': 0.24815977266148365, 'subsample': 0.8390403472287581, 'colsample_bytree': 0.733500291491068, 'gamma': 0.30506126551088497}. Best is trial 80 with value: 0.9292402889731134.\u001b[0m\n",
      "\u001b[32m[I 2023-04-16 22:11:30,074]\u001b[0m Trial 97 finished with value: 0.9206795614991676 and parameters: {'n_estimators': 100, 'max_depth': 4, 'learning_rate': 0.2744898877633043, 'subsample': 0.8520349397969776, 'colsample_bytree': 0.7597295722575996, 'gamma': 0.47966718069074676}. Best is trial 80 with value: 0.9292402889731134.\u001b[0m\n",
      "\u001b[32m[I 2023-04-16 22:11:36,554]\u001b[0m Trial 98 finished with value: 0.9086130520998608 and parameters: {'n_estimators': 66, 'max_depth': 6, 'learning_rate': 0.25850775266976467, 'subsample': 0.7996131634001089, 'colsample_bytree': 0.7728346417712354, 'gamma': 0.42846702818944843}. Best is trial 80 with value: 0.9292402889731134.\u001b[0m\n",
      "\u001b[32m[I 2023-04-16 22:11:43,935]\u001b[0m Trial 99 finished with value: 0.9211006736518991 and parameters: {'n_estimators': 83, 'max_depth': 3, 'learning_rate': 0.2923281853732152, 'subsample': 0.8302992544902722, 'colsample_bytree': 0.6813052712483555, 'gamma': 0.45131216911345373}. Best is trial 80 with value: 0.9292402889731134.\u001b[0m\n"
     ]
    }
   ],
   "source": [
    "objective_func = partial(\n",
    "    objective,\n",
    "    X_train=X_train,\n",
    "    stratification_groups=stratification_groups,\n",
    "    xgb_config=xgb_config,\n",
    "    scoring=f1_score\n",
    ")\n",
    "\n",
    "study = optuna.create_study(direction='maximize')\n",
    "study.optimize(objective_func, n_trials=100)"
   ]
  },
  {
   "cell_type": "code",
   "execution_count": 42,
   "metadata": {
    "ExecuteTime": {
     "end_time": "2023-04-16T22:11:52.611597Z",
     "start_time": "2023-04-16T22:11:43.951360Z"
    }
   },
   "outputs": [],
   "source": [
    "best_params = {\n",
    "    **study.best_params,\n",
    "    **xgb_config\n",
    "}\n",
    "\n",
    "best_xgb = XGBClassifier(**best_params)\n",
    "y_pred = stratified_cross_val_predict(\n",
    "    estimator=best_xgb,\n",
    "    df=X_train,\n",
    "    stratification_groups=stratification_groups,\n",
    "    label_col='Stage',\n",
    "    n_splits=5\n",
    ")\n",
    "y_true = list(X_train['Stage'].values)"
   ]
  },
  {
   "cell_type": "code",
   "execution_count": 43,
   "metadata": {
    "ExecuteTime": {
     "end_time": "2023-04-16T22:11:52.627225Z",
     "start_time": "2023-04-16T22:11:52.611597Z"
    }
   },
   "outputs": [
    {
     "name": "stdout",
     "output_type": "stream",
     "text": [
      "              precision    recall  f1-score   support\n",
      "\n",
      "       I-III       0.78      0.25      0.38        55\n",
      "          IV       0.86      0.98      0.92       247\n",
      "\n",
      "    accuracy                           0.85       302\n",
      "   macro avg       0.82      0.62      0.65       302\n",
      "weighted avg       0.84      0.85      0.82       302\n",
      "\n"
     ]
    }
   ],
   "source": [
    "labels = list(labels_encoding.keys())\n",
    "\n",
    "report = classification_report(y_true, y_pred.astype(int), target_names=labels)\n",
    "print(report)"
   ]
  },
  {
   "cell_type": "code",
   "execution_count": 44,
   "metadata": {
    "ExecuteTime": {
     "end_time": "2023-04-16T22:12:54.032597Z",
     "start_time": "2023-04-16T22:12:53.870374Z"
    }
   },
   "outputs": [
    {
     "data": {
      "image/png": "[encoded data removed]",
      "text/plain": [
       "<Figure size 1000x600 with 2 Axes>"
      ]
     },
     "metadata": {},
     "output_type": "display_data"
    }
   ],
   "source": [
    "accuracy = accuracy_score(y_true, y_pred.astype(int))\n",
    "f1 = f1_score(y_true, y_pred.astype(int))\n",
    "cm = confusion_matrix(y_true, y_pred.astype(int))\n",
    "\n",
    "title = f'Accuracy = {accuracy*100:.2f}%, F1 = {f1:.2f}'\n",
    "\n",
    "plot_confusion_matrix(cm, labels, title)"
   ]
  },
  {
   "attachments": {},
   "cell_type": "markdown",
   "metadata": {},
   "source": [
    "### Ovarian cancer"
   ]
  },
  {
   "cell_type": "code",
   "execution_count": 45,
   "metadata": {
    "ExecuteTime": {
     "end_time": "2023-04-16T22:13:11.814556Z",
     "start_time": "2023-04-16T22:13:11.772938Z"
    }
   },
   "outputs": [
    {
     "data": {
      "text/plain": [
       "0    68\n",
       "1    26\n",
       "Name: Stage, dtype: int64"
      ]
     },
     "execution_count": 45,
     "metadata": {},
     "output_type": "execute_result"
    }
   ],
   "source": [
    "X_train = train.loc[train['Group'] == 'Ovarian cancer']\n",
    "\n",
    "stratification_groups = X_train.loc[:, 'Stage']\n",
    "X_train = X_train.loc[:, ~X_train.columns.isin(['ID', 'Sex', 'Age', 'Group'])]\n",
    "\n",
    "X_train.loc[:, 'Stage'] = X_train['Stage'].map(mapping).map(labels_encoding)\n",
    "X_train['Stage'].value_counts()"
   ]
  },
  {
   "cell_type": "code",
   "execution_count": 46,
   "metadata": {
    "ExecuteTime": {
     "end_time": "2023-04-16T22:20:48.156914Z",
     "start_time": "2023-04-16T22:13:12.520158Z"
    }
   },
   "outputs": [
    {
     "name": "stderr",
     "output_type": "stream",
     "text": [
      "\u001b[32m[I 2023-04-16 22:13:12,520]\u001b[0m A new study created in memory with name: no-name-b80667e9-b72e-4401-a07c-2d832825caf2\u001b[0m\n",
      "\u001b[32m[I 2023-04-16 22:13:21,941]\u001b[0m Trial 0 finished with value: 0.5799533799533799 and parameters: {'n_estimators': 125, 'max_depth': 6, 'learning_rate': 0.2830542269322591, 'subsample': 0.6510870417595397, 'colsample_bytree': 0.614417899389999, 'gamma': 0.030714205476812917}. Best is trial 0 with value: 0.5799533799533799.\u001b[0m\n",
      "\u001b[32m[I 2023-04-16 22:13:29,462]\u001b[0m Trial 1 finished with value: 0.6089743589743589 and parameters: {'n_estimators': 95, 'max_depth': 7, 'learning_rate': 0.09769840726440591, 'subsample': 0.6361089908755416, 'colsample_bytree': 0.6207934759784575, 'gamma': 0.6794927040388267}. Best is trial 1 with value: 0.6089743589743589.\u001b[0m\n",
      "\u001b[32m[I 2023-04-16 22:13:33,032]\u001b[0m Trial 2 finished with value: 0.7522727272727272 and parameters: {'n_estimators': 30, 'max_depth': 5, 'learning_rate': 0.060616808707738674, 'subsample': 0.9623509179816955, 'colsample_bytree': 0.9041943069602576, 'gamma': 0.8566652801909724}. Best is trial 2 with value: 0.7522727272727272.\u001b[0m\n",
      "\u001b[32m[I 2023-04-16 22:13:41,628]\u001b[0m Trial 3 finished with value: 0.5742424242424242 and parameters: {'n_estimators': 116, 'max_depth': 4, 'learning_rate': 0.1993128923089758, 'subsample': 0.7075289815955839, 'colsample_bytree': 0.7333700105057601, 'gamma': 0.7372701146602924}. Best is trial 2 with value: 0.7522727272727272.\u001b[0m\n",
      "\u001b[32m[I 2023-04-16 22:13:49,780]\u001b[0m Trial 4 finished with value: 0.6312687312687312 and parameters: {'n_estimators': 112, 'max_depth': 3, 'learning_rate': 0.25403456895353504, 'subsample': 0.681586444837799, 'colsample_bytree': 0.7072037844335693, 'gamma': 0.00022259704608151853}. Best is trial 2 with value: 0.7522727272727272.\u001b[0m\n",
      "\u001b[32m[I 2023-04-16 22:13:53,417]\u001b[0m Trial 5 finished with value: 0.625 and parameters: {'n_estimators': 38, 'max_depth': 7, 'learning_rate': 0.18207297867323427, 'subsample': 0.7131337848400328, 'colsample_bytree': 0.6924486303875014, 'gamma': 0.34824290631619537}. Best is trial 2 with value: 0.7522727272727272.\u001b[0m\n",
      "\u001b[32m[I 2023-04-16 22:14:04,001]\u001b[0m Trial 6 finished with value: 0.5619047619047619 and parameters: {'n_estimators': 147, 'max_depth': 3, 'learning_rate': 0.24699245621792587, 'subsample': 0.7201960584510406, 'colsample_bytree': 0.7267705189562633, 'gamma': 0.5505353556127894}. Best is trial 2 with value: 0.7522727272727272.\u001b[0m\n",
      "\u001b[32m[I 2023-04-16 22:14:10,250]\u001b[0m Trial 7 finished with value: 0.5923076923076923 and parameters: {'n_estimators': 76, 'max_depth': 3, 'learning_rate': 0.1003547437908234, 'subsample': 0.6101349684684347, 'colsample_bytree': 0.7433464557203634, 'gamma': 0.3548035204833677}. Best is trial 2 with value: 0.7522727272727272.\u001b[0m\n",
      "\u001b[32m[I 2023-04-16 22:14:19,115]\u001b[0m Trial 8 finished with value: 0.6332167832167832 and parameters: {'n_estimators': 120, 'max_depth': 4, 'learning_rate': 0.18195310485154495, 'subsample': 0.8501355344339712, 'colsample_bytree': 0.8370139593026212, 'gamma': 0.21424808861369948}. Best is trial 2 with value: 0.7522727272727272.\u001b[0m\n",
      "\u001b[32m[I 2023-04-16 22:14:28,530]\u001b[0m Trial 9 finished with value: 0.6332167832167832 and parameters: {'n_estimators': 128, 'max_depth': 3, 'learning_rate': 0.20589336092474084, 'subsample': 0.966735735542512, 'colsample_bytree': 0.8680611387618311, 'gamma': 0.6295296458034885}. Best is trial 2 with value: 0.7522727272727272.\u001b[0m\n",
      "\u001b[32m[I 2023-04-16 22:14:31,426]\u001b[0m Trial 10 finished with value: 0.8330419580419579 and parameters: {'n_estimators': 24, 'max_depth': 8, 'learning_rate': 0.032277360144423756, 'subsample': 0.9898676571972015, 'colsample_bytree': 0.9711205491740842, 'gamma': 0.9738824979166947}. Best is trial 10 with value: 0.8330419580419579.\u001b[0m\n",
      "\u001b[32m[I 2023-04-16 22:14:34,222]\u001b[0m Trial 11 finished with value: 0.7596903096903097 and parameters: {'n_estimators': 22, 'max_depth': 8, 'learning_rate': 0.0018497056911563302, 'subsample': 0.9992652202029532, 'colsample_bytree': 0.9589741076367693, 'gamma': 0.9460221278512645}. Best is trial 10 with value: 0.8330419580419579.\u001b[0m\n",
      "\u001b[32m[I 2023-04-16 22:14:39,506]\u001b[0m Trial 12 finished with value: 0.7477855477855477 and parameters: {'n_estimators': 56, 'max_depth': 8, 'learning_rate': 0.003701252617835469, 'subsample': 0.9996099930988344, 'colsample_bytree': 0.9909382396462878, 'gamma': 0.9716025616163922}. Best is trial 10 with value: 0.8330419580419579.\u001b[0m\n",
      "\u001b[32m[I 2023-04-16 22:14:42,183]\u001b[0m Trial 13 finished with value: 0.761072261072261 and parameters: {'n_estimators': 21, 'max_depth': 8, 'learning_rate': 0.007192143085086786, 'subsample': 0.9000713421356885, 'colsample_bytree': 0.9988855774735377, 'gamma': 0.9647884356636228}. Best is trial 10 with value: 0.8330419580419579.\u001b[0m\n",
      "\u001b[32m[I 2023-04-16 22:14:46,988]\u001b[0m Trial 14 finished with value: 0.7394522144522144 and parameters: {'n_estimators': 51, 'max_depth': 7, 'learning_rate': 0.0324576615367159, 'subsample': 0.9049653372814264, 'colsample_bytree': 0.9959107517585885, 'gamma': 0.8464205287210022}. Best is trial 10 with value: 0.8330419580419579.\u001b[0m\n",
      "\u001b[32m[I 2023-04-16 22:14:52,738]\u001b[0m Trial 15 finished with value: 0.6339743589743589 and parameters: {'n_estimators': 66, 'max_depth': 8, 'learning_rate': 0.05897155747692334, 'subsample': 0.8901564325193883, 'colsample_bytree': 0.9262291676344871, 'gamma': 0.986698992847026}. Best is trial 10 with value: 0.8330419580419579.\u001b[0m\n",
      "\u001b[32m[I 2023-04-16 22:14:56,722]\u001b[0m Trial 16 finished with value: 0.6673076923076924 and parameters: {'n_estimators': 41, 'max_depth': 6, 'learning_rate': 0.12155641849295158, 'subsample': 0.8268058516064173, 'colsample_bytree': 0.9331743534398778, 'gamma': 0.7933190018171001}. Best is trial 10 with value: 0.8330419580419579.\u001b[0m\n",
      "\u001b[32m[I 2023-04-16 22:14:59,506]\u001b[0m Trial 17 finished with value: 0.6583333333333333 and parameters: {'n_estimators': 23, 'max_depth': 6, 'learning_rate': 0.04156290635578218, 'subsample': 0.7799689380809192, 'colsample_bytree': 0.8741138461563832, 'gamma': 0.8615561770118809}. Best is trial 10 with value: 0.8330419580419579.\u001b[0m\n",
      "\u001b[32m[I 2023-04-16 22:15:06,447]\u001b[0m Trial 18 finished with value: 0.6786713286713286 and parameters: {'n_estimators': 86, 'max_depth': 8, 'learning_rate': 0.08692241244107318, 'subsample': 0.9236772574834171, 'colsample_bytree': 0.9640272780425573, 'gamma': 0.7404914005258213}. Best is trial 10 with value: 0.8330419580419579.\u001b[0m\n",
      "\u001b[32m[I 2023-04-16 22:15:10,773]\u001b[0m Trial 19 finished with value: 0.6961538461538461 and parameters: {'n_estimators': 47, 'max_depth': 7, 'learning_rate': 0.14338950040989448, 'subsample': 0.8724445678812129, 'colsample_bytree': 0.8033291400906288, 'gamma': 0.989088409588445}. Best is trial 10 with value: 0.8330419580419579.\u001b[0m\n",
      "\u001b[32m[I 2023-04-16 22:15:16,396]\u001b[0m Trial 20 finished with value: 0.7998917748917749 and parameters: {'n_estimators': 65, 'max_depth': 2, 'learning_rate': 0.0288567415516581, 'subsample': 0.9209304634535084, 'colsample_bytree': 0.999476780668176, 'gamma': 0.6217222290769531}. Best is trial 10 with value: 0.8330419580419579.\u001b[0m\n",
      "\u001b[32m[I 2023-04-16 22:15:22,092]\u001b[0m Trial 21 finished with value: 0.8027389277389276 and parameters: {'n_estimators': 66, 'max_depth': 2, 'learning_rate': 0.019905902259846404, 'subsample': 0.9268580979212481, 'colsample_bytree': 0.9973489095565242, 'gamma': 0.6077546377155665}. Best is trial 10 with value: 0.8330419580419579.\u001b[0m\n",
      "\u001b[32m[I 2023-04-16 22:15:27,736]\u001b[0m Trial 22 finished with value: 0.7394522144522144 and parameters: {'n_estimators': 65, 'max_depth': 2, 'learning_rate': 0.03303158591995338, 'subsample': 0.9405267846926013, 'colsample_bytree': 0.9529729400492908, 'gamma': 0.6063954101585302}. Best is trial 10 with value: 0.8330419580419579.\u001b[0m\n",
      "\u001b[32m[I 2023-04-16 22:15:35,166]\u001b[0m Trial 23 finished with value: 0.6332167832167832 and parameters: {'n_estimators': 95, 'max_depth': 2, 'learning_rate': 0.06898327501977937, 'subsample': 0.951361811235899, 'colsample_bytree': 0.9057683761140143, 'gamma': 0.5106731596148608}. Best is trial 10 with value: 0.8330419580419579.\u001b[0m\n",
      "\u001b[32m[I 2023-04-16 22:15:41,121]\u001b[0m Trial 24 finished with value: 0.7522727272727272 and parameters: {'n_estimators': 69, 'max_depth': 2, 'learning_rate': 0.0299338418343202, 'subsample': 0.924656482223599, 'colsample_bytree': 0.9698358985905339, 'gamma': 0.7001970317391234}. Best is trial 10 with value: 0.8330419580419579.\u001b[0m\n",
      "\u001b[32m[I 2023-04-16 22:15:47,817]\u001b[0m Trial 25 finished with value: 0.6243589743589744 and parameters: {'n_estimators': 80, 'max_depth': 4, 'learning_rate': 0.08228783585029023, 'subsample': 0.9761653687716826, 'colsample_bytree': 0.9348235415487081, 'gamma': 0.588183415866176}. Best is trial 10 with value: 0.8330419580419579.\u001b[0m\n",
      "\u001b[32m[I 2023-04-16 22:15:52,918]\u001b[0m Trial 26 finished with value: 0.7089743589743589 and parameters: {'n_estimators': 56, 'max_depth': 5, 'learning_rate': 0.055648477716938455, 'subsample': 0.9318333587483647, 'colsample_bytree': 0.974491441679936, 'gamma': 0.47982211319769563}. Best is trial 10 with value: 0.8330419580419579.\u001b[0m\n",
      "\u001b[32m[I 2023-04-16 22:16:00,522]\u001b[0m Trial 27 finished with value: 0.777913752913753 and parameters: {'n_estimators': 93, 'max_depth': 2, 'learning_rate': 0.01913266581895205, 'subsample': 0.8713802287614838, 'colsample_bytree': 0.9968823862141359, 'gamma': 0.6524719796973719}. Best is trial 10 with value: 0.8330419580419579.\u001b[0m\n",
      "\u001b[32m[I 2023-04-16 22:16:09,103]\u001b[0m Trial 28 finished with value: 0.6673076923076924 and parameters: {'n_estimators': 105, 'max_depth': 4, 'learning_rate': 0.04386674428680369, 'subsample': 0.9729639085702675, 'colsample_bytree': 0.9485599989655548, 'gamma': 0.7919911931038621}. Best is trial 10 with value: 0.8330419580419579.\u001b[0m\n",
      "\u001b[32m[I 2023-04-16 22:16:12,557]\u001b[0m Trial 29 finished with value: 0.8027389277389276 and parameters: {'n_estimators': 32, 'max_depth': 6, 'learning_rate': 0.020712844404416023, 'subsample': 0.9151815745196848, 'colsample_bytree': 0.9104030677757355, 'gamma': 0.46129268948440594}. Best is trial 10 with value: 0.8330419580419579.\u001b[0m\n",
      "\u001b[32m[I 2023-04-16 22:16:16,417]\u001b[0m Trial 30 finished with value: 0.8027389277389276 and parameters: {'n_estimators': 38, 'max_depth': 6, 'learning_rate': 0.015220459322940704, 'subsample': 0.9483688983557874, 'colsample_bytree': 0.9101390478005456, 'gamma': 0.44082247062475555}. Best is trial 10 with value: 0.8330419580419579.\u001b[0m\n",
      "\u001b[32m[I 2023-04-16 22:16:19,940]\u001b[0m Trial 31 finished with value: 0.8330419580419579 and parameters: {'n_estimators': 33, 'max_depth': 6, 'learning_rate': 0.01419747648527553, 'subsample': 0.9530837577128878, 'colsample_bytree': 0.9119517876066947, 'gamma': 0.4194163893508406}. Best is trial 10 with value: 0.8330419580419579.\u001b[0m\n",
      "\u001b[32m[I 2023-04-16 22:16:23,296]\u001b[0m Trial 32 finished with value: 0.7400932400932401 and parameters: {'n_estimators': 31, 'max_depth': 5, 'learning_rate': 0.049191461073831017, 'subsample': 0.9859952739595705, 'colsample_bytree': 0.8857057363146659, 'gamma': 0.4408962457881336}. Best is trial 10 with value: 0.8330419580419579.\u001b[0m\n",
      "\u001b[32m[I 2023-04-16 22:16:26,720]\u001b[0m Trial 33 finished with value: 0.8330419580419579 and parameters: {'n_estimators': 32, 'max_depth': 6, 'learning_rate': 0.019260707894776685, 'subsample': 0.9643916366834744, 'colsample_bytree': 0.9347394807251215, 'gamma': 0.5386259513394014}. Best is trial 10 with value: 0.8330419580419579.\u001b[0m\n",
      "\u001b[32m[I 2023-04-16 22:16:29,796]\u001b[0m Trial 34 finished with value: 0.8330419580419579 and parameters: {'n_estimators': 27, 'max_depth': 7, 'learning_rate': 0.0011604210585738975, 'subsample': 0.9599823132686975, 'colsample_bytree': 0.9384670178167281, 'gamma': 0.5410733972717376}. Best is trial 10 with value: 0.8330419580419579.\u001b[0m\n",
      "\u001b[32m[I 2023-04-16 22:16:33,015]\u001b[0m Trial 35 finished with value: 0.8330419580419579 and parameters: {'n_estimators': 29, 'max_depth': 7, 'learning_rate': 0.0019566387870294417, 'subsample': 0.9608178623847888, 'colsample_bytree': 0.9367773668863356, 'gamma': 0.5526293008245409}. Best is trial 10 with value: 0.8330419580419579.\u001b[0m\n",
      "\u001b[32m[I 2023-04-16 22:16:37,324]\u001b[0m Trial 36 finished with value: 0.7234265734265733 and parameters: {'n_estimators': 45, 'max_depth': 7, 'learning_rate': 0.07411105869931156, 'subsample': 0.9832724111666016, 'colsample_bytree': 0.8802616200795482, 'gamma': 0.7042105254624057}. Best is trial 10 with value: 0.8330419580419579.\u001b[0m\n",
      "\u001b[32m[I 2023-04-16 22:16:40,898]\u001b[0m Trial 37 finished with value: 0.7642773892773893 and parameters: {'n_estimators': 34, 'max_depth': 6, 'learning_rate': 0.048402432652433526, 'subsample': 0.9541947520299027, 'colsample_bytree': 0.9152595203568439, 'gamma': 0.3739625768091968}. Best is trial 10 with value: 0.8330419580419579.\u001b[0m\n",
      "\u001b[32m[I 2023-04-16 22:16:44,110]\u001b[0m Trial 38 finished with value: 0.7648185148185148 and parameters: {'n_estimators': 28, 'max_depth': 7, 'learning_rate': 0.06529919962068696, 'subsample': 0.9982554753039912, 'colsample_bytree': 0.9483905348485067, 'gamma': 0.2954753452827759}. Best is trial 10 with value: 0.8330419580419579.\u001b[0m\n",
      "\u001b[32m[I 2023-04-16 22:16:46,691]\u001b[0m Trial 39 finished with value: 0.8330419580419579 and parameters: {'n_estimators': 20, 'max_depth': 5, 'learning_rate': 0.039139776387727115, 'subsample': 0.9487366076421346, 'colsample_bytree': 0.8940181135108356, 'gamma': 0.5222298796517938}. Best is trial 10 with value: 0.8330419580419579.\u001b[0m\n",
      "\u001b[32m[I 2023-04-16 22:16:50,715]\u001b[0m Trial 40 finished with value: 0.8027389277389276 and parameters: {'n_estimators': 40, 'max_depth': 7, 'learning_rate': 0.01658546240387807, 'subsample': 0.9725633537033276, 'colsample_bytree': 0.8525658339752287, 'gamma': 0.16350135533777121}. Best is trial 10 with value: 0.8330419580419579.\u001b[0m\n",
      "\u001b[32m[I 2023-04-16 22:16:53,971]\u001b[0m Trial 41 finished with value: 0.8330419580419579 and parameters: {'n_estimators': 29, 'max_depth': 7, 'learning_rate': 0.00595089541797659, 'subsample': 0.9610656918756976, 'colsample_bytree': 0.9318835542036058, 'gamma': 0.5249726822909029}. Best is trial 10 with value: 0.8330419580419579.\u001b[0m\n",
      "\u001b[32m[I 2023-04-16 22:16:57,152]\u001b[0m Trial 42 finished with value: 0.7913752913752913 and parameters: {'n_estimators': 27, 'max_depth': 6, 'learning_rate': 0.002062478236991745, 'subsample': 0.9573284375599551, 'colsample_bytree': 0.9711916967516702, 'gamma': 0.5480083537817763}. Best is trial 10 with value: 0.8330419580419579.\u001b[0m\n",
      "\u001b[32m[I 2023-04-16 22:17:00,919]\u001b[0m Trial 43 finished with value: 0.8027389277389276 and parameters: {'n_estimators': 35, 'max_depth': 7, 'learning_rate': 0.026643987502854904, 'subsample': 0.9347141616232912, 'colsample_bytree': 0.9442505145350346, 'gamma': 0.6600255165671305}. Best is trial 10 with value: 0.8330419580419579.\u001b[0m\n",
      "\u001b[32m[I 2023-04-16 22:17:05,944]\u001b[0m Trial 44 finished with value: 0.7097902097902098 and parameters: {'n_estimators': 53, 'max_depth': 8, 'learning_rate': 0.050834613436257066, 'subsample': 0.9827026614998408, 'colsample_bytree': 0.9207504752972246, 'gamma': 0.5688744613098229}. Best is trial 10 with value: 0.8330419580419579.\u001b[0m\n",
      "\u001b[32m[I 2023-04-16 22:17:10,378]\u001b[0m Trial 45 finished with value: 0.8027389277389276 and parameters: {'n_estimators': 45, 'max_depth': 6, 'learning_rate': 0.012472298345731818, 'subsample': 0.9613735467673943, 'colsample_bytree': 0.8963158766689857, 'gamma': 0.5516453338011196}. Best is trial 10 with value: 0.8330419580419579.\u001b[0m\n",
      "\u001b[32m[I 2023-04-16 22:17:22,077]\u001b[0m Trial 46 finished with value: 0.762071262071262 and parameters: {'n_estimators': 143, 'max_depth': 7, 'learning_rate': 0.0024665455746333944, 'subsample': 0.9978489767891557, 'colsample_bytree': 0.9741245474095505, 'gamma': 0.40073217662447236}. Best is trial 10 with value: 0.8330419580419579.\u001b[0m\n",
      "\u001b[32m[I 2023-04-16 22:17:25,092]\u001b[0m Trial 47 finished with value: 0.8027389277389276 and parameters: {'n_estimators': 26, 'max_depth': 8, 'learning_rate': 0.0390485984910871, 'subsample': 0.9377435472824586, 'colsample_bytree': 0.9269461836628347, 'gamma': 0.42522337315432973}. Best is trial 10 with value: 0.8330419580419579.\u001b[0m\n",
      "\u001b[32m[I 2023-04-16 22:17:29,158]\u001b[0m Trial 48 finished with value: 0.7867132867132867 and parameters: {'n_estimators': 41, 'max_depth': 6, 'learning_rate': 0.024111997518058453, 'subsample': 0.9019602866387649, 'colsample_bytree': 0.9433143149361106, 'gamma': 0.4867904413570384}. Best is trial 10 with value: 0.8330419580419579.\u001b[0m\n",
      "\u001b[32m[I 2023-04-16 22:17:33,836]\u001b[0m Trial 49 finished with value: 0.8330419580419579 and parameters: {'n_estimators': 49, 'max_depth': 5, 'learning_rate': 0.0010127999756947004, 'subsample': 0.970958444463942, 'colsample_bytree': 0.8634751821152773, 'gamma': 0.9155235960110699}. Best is trial 10 with value: 0.8330419580419579.\u001b[0m\n",
      "\u001b[32m[I 2023-04-16 22:17:39,088]\u001b[0m Trial 50 finished with value: 0.6332167832167832 and parameters: {'n_estimators': 59, 'max_depth': 8, 'learning_rate': 0.056964882985199194, 'subsample': 0.9135381064772204, 'colsample_bytree': 0.8984468760018556, 'gamma': 0.49936897782787704}. Best is trial 10 with value: 0.8330419580419579.\u001b[0m\n",
      "\u001b[32m[I 2023-04-16 22:17:41,696]\u001b[0m Trial 51 finished with value: 0.8170163170163169 and parameters: {'n_estimators': 20, 'max_depth': 5, 'learning_rate': 0.03556401672039482, 'subsample': 0.9528362276018847, 'colsample_bytree': 0.9013872027581101, 'gamma': 0.5586273261932416}. Best is trial 10 with value: 0.8330419580419579.\u001b[0m\n",
      "\u001b[32m[I 2023-04-16 22:17:44,334]\u001b[0m Trial 52 finished with value: 0.8170163170163169 and parameters: {'n_estimators': 20, 'max_depth': 5, 'learning_rate': 0.03602965190928914, 'subsample': 0.9889534365707475, 'colsample_bytree': 0.9593989764928734, 'gamma': 0.5241562682146479}. Best is trial 10 with value: 0.8330419580419579.\u001b[0m\n",
      "\u001b[32m[I 2023-04-16 22:17:47,288]\u001b[0m Trial 53 finished with value: 0.8027389277389276 and parameters: {'n_estimators': 25, 'max_depth': 7, 'learning_rate': 0.014026833096708786, 'subsample': 0.9420726169728824, 'colsample_bytree': 0.9253529939765953, 'gamma': 0.6193347341188633}. Best is trial 10 with value: 0.8330419580419579.\u001b[0m\n",
      "\u001b[32m[I 2023-04-16 22:17:51,153]\u001b[0m Trial 54 finished with value: 0.7386363636363635 and parameters: {'n_estimators': 36, 'max_depth': 6, 'learning_rate': 0.04476867989902693, 'subsample': 0.9705933883247087, 'colsample_bytree': 0.8876637958419566, 'gamma': 0.46945402869848285}. Best is trial 10 with value: 0.8330419580419579.\u001b[0m\n",
      "\u001b[32m[I 2023-04-16 22:17:54,760]\u001b[0m Trial 55 finished with value: 0.8027389277389276 and parameters: {'n_estimators': 33, 'max_depth': 5, 'learning_rate': 0.02643824740303062, 'subsample': 0.8929686735688047, 'colsample_bytree': 0.9801504691386353, 'gamma': 0.6493812422235473}. Best is trial 10 with value: 0.8330419580419579.\u001b[0m\n",
      "\u001b[32m[I 2023-04-16 22:17:59,113]\u001b[0m Trial 56 finished with value: 0.8027389277389276 and parameters: {'n_estimators': 43, 'max_depth': 8, 'learning_rate': 0.01167570994734328, 'subsample': 0.9420245574657411, 'colsample_bytree': 0.9586045053025678, 'gamma': 0.5771660454862744}. Best is trial 10 with value: 0.8330419580419579.\u001b[0m\n",
      "\u001b[32m[I 2023-04-16 22:18:02,073]\u001b[0m Trial 57 finished with value: 0.7803030303030303 and parameters: {'n_estimators': 24, 'max_depth': 6, 'learning_rate': 0.06251833634233975, 'subsample': 0.9634379371006261, 'colsample_bytree': 0.9365352509232652, 'gamma': 0.3974676479131115}. Best is trial 10 with value: 0.8330419580419579.\u001b[0m\n",
      "\u001b[32m[I 2023-04-16 22:18:05,307]\u001b[0m Trial 58 finished with value: 0.6604895104895104 and parameters: {'n_estimators': 29, 'max_depth': 7, 'learning_rate': 0.09613906392094021, 'subsample': 0.9132940205547041, 'colsample_bytree': 0.9171023487694727, 'gamma': 0.33753437870705405}. Best is trial 10 with value: 0.8330419580419579.\u001b[0m\n",
      "\u001b[32m[I 2023-04-16 22:18:09,182]\u001b[0m Trial 59 finished with value: 0.7785547785547785 and parameters: {'n_estimators': 37, 'max_depth': 8, 'learning_rate': 0.03825268029447801, 'subsample': 0.9842107952983391, 'colsample_bytree': 0.9798530133233303, 'gamma': 0.5195692074604723}. Best is trial 10 with value: 0.8330419580419579.\u001b[0m\n",
      "\u001b[32m[I 2023-04-16 22:18:11,772]\u001b[0m Trial 60 finished with value: 0.8027389277389276 and parameters: {'n_estimators': 20, 'max_depth': 4, 'learning_rate': 0.02360266805588992, 'subsample': 0.93122466137763, 'colsample_bytree': 0.8414676118771197, 'gamma': 0.6922513282805215}. Best is trial 10 with value: 0.8330419580419579.\u001b[0m\n",
      "\u001b[32m[I 2023-04-16 22:18:15,085]\u001b[0m Trial 61 finished with value: 0.8330419580419579 and parameters: {'n_estimators': 30, 'max_depth': 7, 'learning_rate': 0.009401623380468408, 'subsample': 0.9638730422571661, 'colsample_bytree': 0.9344844830419136, 'gamma': 0.6059491920791293}. Best is trial 10 with value: 0.8330419580419579.\u001b[0m\n",
      "\u001b[32m[I 2023-04-16 22:18:18,193]\u001b[0m Trial 62 finished with value: 0.8027389277389276 and parameters: {'n_estimators': 26, 'max_depth': 7, 'learning_rate': 0.009954147990617477, 'subsample': 0.951464892629215, 'colsample_bytree': 0.9618712440536313, 'gamma': 0.5310669316960187}. Best is trial 10 with value: 0.8330419580419579.\u001b[0m\n",
      "\u001b[32m[I 2023-04-16 22:18:21,715]\u001b[0m Trial 63 finished with value: 0.8170163170163169 and parameters: {'n_estimators': 32, 'max_depth': 7, 'learning_rate': 0.031297133194216085, 'subsample': 0.998665840766921, 'colsample_bytree': 0.94047979992759, 'gamma': 0.5003887116412353}. Best is trial 10 with value: 0.8330419580419579.\u001b[0m\n",
      "\u001b[32m[I 2023-04-16 22:18:24,665]\u001b[0m Trial 64 finished with value: 0.8330419580419579 and parameters: {'n_estimators': 24, 'max_depth': 5, 'learning_rate': 0.0198762340307817, 'subsample': 0.959694755373567, 'colsample_bytree': 0.922621497040879, 'gamma': 0.579947886001393}. Best is trial 10 with value: 0.8330419580419579.\u001b[0m\n",
      "\u001b[32m[I 2023-04-16 22:18:28,681]\u001b[0m Trial 65 finished with value: 0.7785547785547785 and parameters: {'n_estimators': 39, 'max_depth': 6, 'learning_rate': 0.0017615689594785398, 'subsample': 0.9765328388105001, 'colsample_bytree': 0.9533834666465155, 'gamma': 0.47246554082366277}. Best is trial 10 with value: 0.8330419580419579.\u001b[0m\n",
      "\u001b[32m[I 2023-04-16 22:18:31,902]\u001b[0m Trial 66 finished with value: 0.8027389277389276 and parameters: {'n_estimators': 29, 'max_depth': 8, 'learning_rate': 0.04097503085446495, 'subsample': 0.9451996770092885, 'colsample_bytree': 0.8938782908662941, 'gamma': 0.7268556231485493}. Best is trial 10 with value: 0.8330419580419579.\u001b[0m\n",
      "\u001b[32m[I 2023-04-16 22:18:35,634]\u001b[0m Trial 67 finished with value: 0.761072261072261 and parameters: {'n_estimators': 35, 'max_depth': 7, 'learning_rate': 0.009662988453573586, 'subsample': 0.9251839752612728, 'colsample_bytree': 0.9856996184905803, 'gamma': 0.5342500214113745}. Best is trial 10 with value: 0.8330419580419579.\u001b[0m\n",
      "\u001b[32m[I 2023-04-16 22:18:44,040]\u001b[0m Trial 68 finished with value: 0.6332167832167832 and parameters: {'n_estimators': 105, 'max_depth': 4, 'learning_rate': 0.05357299617168322, 'subsample': 0.983426957936841, 'colsample_bytree': 0.9118321669066797, 'gamma': 0.929861205418451}. Best is trial 10 with value: 0.8330419580419579.\u001b[0m\n",
      "\u001b[32m[I 2023-04-16 22:18:48,683]\u001b[0m Trial 69 finished with value: 0.7537878787878787 and parameters: {'n_estimators': 48, 'max_depth': 6, 'learning_rate': 0.02911428595016424, 'subsample': 0.8832705915733072, 'colsample_bytree': 0.8784205061692347, 'gamma': 0.6648141643423623}. Best is trial 10 with value: 0.8330419580419579.\u001b[0m\n",
      "\u001b[32m[I 2023-04-16 22:18:51,526]\u001b[0m Trial 70 finished with value: 0.8027389277389276 and parameters: {'n_estimators': 23, 'max_depth': 7, 'learning_rate': 0.018880581720149198, 'subsample': 0.9067452332445958, 'colsample_bytree': 0.9338556328523843, 'gamma': 0.44707358413750514}. Best is trial 10 with value: 0.8330419580419579.\u001b[0m\n",
      "\u001b[32m[I 2023-04-16 22:18:56,122]\u001b[0m Trial 71 finished with value: 0.8027389277389276 and parameters: {'n_estimators': 48, 'max_depth': 5, 'learning_rate': 0.0022721000249885837, 'subsample': 0.9631791856451529, 'colsample_bytree': 0.8689248622141302, 'gamma': 0.9583523283536209}. Best is trial 10 with value: 0.8330419580419579.\u001b[0m\n",
      "\u001b[32m[I 2023-04-16 22:18:59,538]\u001b[0m Trial 72 finished with value: 0.8330419580419579 and parameters: {'n_estimators': 31, 'max_depth': 5, 'learning_rate': 0.0010126392127303638, 'subsample': 0.9717477323481944, 'colsample_bytree': 0.8632842857955945, 'gamma': 0.9064659002445206}. Best is trial 10 with value: 0.8330419580419579.\u001b[0m\n",
      "\u001b[32m[I 2023-04-16 22:19:03,558]\u001b[0m Trial 73 finished with value: 0.8027389277389276 and parameters: {'n_estimators': 40, 'max_depth': 5, 'learning_rate': 0.0127488097853086, 'subsample': 0.9473189281780192, 'colsample_bytree': 0.9034799116769023, 'gamma': 0.8736926310885801}. Best is trial 10 with value: 0.8330419580419579.\u001b[0m\n",
      "\u001b[32m[I 2023-04-16 22:19:06,668]\u001b[0m Trial 74 finished with value: 0.8170163170163169 and parameters: {'n_estimators': 27, 'max_depth': 5, 'learning_rate': 0.022637591242840874, 'subsample': 0.9751803805549911, 'colsample_bytree': 0.9473183020226394, 'gamma': 0.9940638879250941}. Best is trial 10 with value: 0.8330419580419579.\u001b[0m\n",
      "\u001b[32m[I 2023-04-16 22:19:11,717]\u001b[0m Trial 75 finished with value: 0.7867132867132867 and parameters: {'n_estimators': 52, 'max_depth': 4, 'learning_rate': 0.008272802767385967, 'subsample': 0.9291358098180578, 'colsample_bytree': 0.9650133174151343, 'gamma': 0.8062020188231409}. Best is trial 10 with value: 0.8330419580419579.\u001b[0m\n",
      "\u001b[32m[I 2023-04-16 22:19:17,379]\u001b[0m Trial 76 finished with value: 0.7258158508158508 and parameters: {'n_estimators': 61, 'max_depth': 6, 'learning_rate': 0.03074213491509297, 'subsample': 0.9658559271618201, 'colsample_bytree': 0.91479913597932, 'gamma': 0.6384600330143211}. Best is trial 10 with value: 0.8330419580419579.\u001b[0m\n",
      "\u001b[32m[I 2023-04-16 22:19:23,979]\u001b[0m Trial 77 finished with value: 0.6946969696969697 and parameters: {'n_estimators': 77, 'max_depth': 6, 'learning_rate': 0.04649455891748473, 'subsample': 0.9358336973447996, 'colsample_bytree': 0.8886868119049456, 'gamma': 0.6005105467590108}. Best is trial 10 with value: 0.8330419580419579.\u001b[0m\n",
      "\u001b[32m[I 2023-04-16 22:19:28,380]\u001b[0m Trial 78 finished with value: 0.8170163170163169 and parameters: {'n_estimators': 44, 'max_depth': 8, 'learning_rate': 0.015267902413492367, 'subsample': 0.9900724030043441, 'colsample_bytree': 0.9270306034940652, 'gamma': 0.5095251756867799}. Best is trial 10 with value: 0.8330419580419579.\u001b[0m\n",
      "\u001b[32m[I 2023-04-16 22:19:32,071]\u001b[0m Trial 79 finished with value: 0.8170163170163169 and parameters: {'n_estimators': 34, 'max_depth': 6, 'learning_rate': 0.024272758656994377, 'subsample': 0.9557959287141741, 'colsample_bytree': 0.909518882536949, 'gamma': 0.5548771674645314}. Best is trial 10 with value: 0.8330419580419579.\u001b[0m\n",
      "\u001b[32m[I 2023-04-16 22:19:34,847]\u001b[0m Trial 80 finished with value: 0.8027389277389276 and parameters: {'n_estimators': 22, 'max_depth': 7, 'learning_rate': 0.0357868393145659, 'subsample': 0.9215510131429531, 'colsample_bytree': 0.9509360182724572, 'gamma': 0.6303458829993001}. Best is trial 10 with value: 0.8330419580419579.\u001b[0m\n",
      "\u001b[32m[I 2023-04-16 22:19:38,293]\u001b[0m Trial 81 finished with value: 0.8202214452214451 and parameters: {'n_estimators': 31, 'max_depth': 7, 'learning_rate': 0.005431446880273149, 'subsample': 0.9727770648738919, 'colsample_bytree': 0.9262810678004195, 'gamma': 0.5871171001877536}. Best is trial 10 with value: 0.8330419580419579.\u001b[0m\n",
      "\u001b[32m[I 2023-04-16 22:19:41,561]\u001b[0m Trial 82 finished with value: 0.8041958041958042 and parameters: {'n_estimators': 28, 'max_depth': 7, 'learning_rate': 0.009180520048759846, 'subsample': 0.9660245446248964, 'colsample_bytree': 0.9375294051847277, 'gamma': 0.49966918978914526}. Best is trial 10 with value: 0.8330419580419579.\u001b[0m\n",
      "\u001b[32m[I 2023-04-16 22:19:45,518]\u001b[0m Trial 83 finished with value: 0.8032800532800533 and parameters: {'n_estimators': 37, 'max_depth': 7, 'learning_rate': 0.018557263468036156, 'subsample': 0.9920490371772916, 'colsample_bytree': 0.9338093576301641, 'gamma': 0.6101345201021503}. Best is trial 10 with value: 0.8330419580419579.\u001b[0m\n",
      "\u001b[32m[I 2023-04-16 22:19:48,414]\u001b[0m Trial 84 finished with value: 0.8041958041958042 and parameters: {'n_estimators': 24, 'max_depth': 8, 'learning_rate': 0.009365645393507961, 'subsample': 0.9484105708714888, 'colsample_bytree': 0.9690321076937626, 'gamma': 0.5377596457698401}. Best is trial 10 with value: 0.8330419580419579.\u001b[0m\n",
      "\u001b[32m[I 2023-04-16 22:19:51,790]\u001b[0m Trial 85 finished with value: 0.8330419580419579 and parameters: {'n_estimators': 30, 'max_depth': 5, 'learning_rate': 0.029849612823361293, 'subsample': 0.9573498104326812, 'colsample_bytree': 0.8951909520221653, 'gamma': 0.47248872735808833}. Best is trial 10 with value: 0.8330419580419579.\u001b[0m\n",
      "\u001b[32m[I 2023-04-16 22:19:56,039]\u001b[0m Trial 86 finished with value: 0.8330419580419579 and parameters: {'n_estimators': 42, 'max_depth': 7, 'learning_rate': 0.016901779016226446, 'subsample': 0.9823442925744218, 'colsample_bytree': 0.9030596480009065, 'gamma': 0.5749441227555714}. Best is trial 10 with value: 0.8330419580419579.\u001b[0m\n",
      "\u001b[32m[I 2023-04-16 22:19:58,683]\u001b[0m Trial 87 finished with value: 0.8170163170163169 and parameters: {'n_estimators': 20, 'max_depth': 6, 'learning_rate': 0.04278203603152063, 'subsample': 0.9416248712459514, 'colsample_bytree': 0.955054406986544, 'gamma': 0.9395778599911047}. Best is trial 10 with value: 0.8330419580419579.\u001b[0m\n",
      "\u001b[32m[I 2023-04-16 22:20:04,947]\u001b[0m Trial 88 finished with value: 0.8330419580419579 and parameters: {'n_estimators': 70, 'max_depth': 5, 'learning_rate': 0.007559047818448657, 'subsample': 0.9795661856245642, 'colsample_bytree': 0.9188075000124727, 'gamma': 0.6765783978209537}. Best is trial 10 with value: 0.8330419580419579.\u001b[0m\n",
      "\u001b[32m[I 2023-04-16 22:20:08,583]\u001b[0m Trial 89 finished with value: 0.8170163170163169 and parameters: {'n_estimators': 34, 'max_depth': 8, 'learning_rate': 0.025371311574384825, 'subsample': 0.9899333356798982, 'colsample_bytree': 0.9411933446874134, 'gamma': 0.9771769986670583}. Best is trial 10 with value: 0.8330419580419579.\u001b[0m\n",
      "\u001b[32m[I 2023-04-16 22:20:11,651]\u001b[0m Trial 90 finished with value: 0.8027389277389276 and parameters: {'n_estimators': 27, 'max_depth': 7, 'learning_rate': 0.05182118962184168, 'subsample': 0.9690307893572409, 'colsample_bytree': 0.8839762939742676, 'gamma': 0.4855449529555586}. Best is trial 10 with value: 0.8330419580419579.\u001b[0m\n",
      "\u001b[32m[I 2023-04-16 22:20:14,888]\u001b[0m Trial 91 finished with value: 0.8027389277389276 and parameters: {'n_estimators': 29, 'max_depth': 5, 'learning_rate': 0.019702624517509634, 'subsample': 0.9609819286024512, 'colsample_bytree': 0.9242994358640634, 'gamma': 0.5839463436876788}. Best is trial 10 with value: 0.8330419580419579.\u001b[0m\n",
      "\u001b[32m[I 2023-04-16 22:20:17,851]\u001b[0m Trial 92 finished with value: 0.8330419580419579 and parameters: {'n_estimators': 25, 'max_depth': 5, 'learning_rate': 0.0012480667227621513, 'subsample': 0.9554481578582539, 'colsample_bytree': 0.9296694652446972, 'gamma': 0.5409570513815543}. Best is trial 10 with value: 0.8330419580419579.\u001b[0m\n",
      "\u001b[32m[I 2023-04-16 22:20:20,639]\u001b[0m Trial 93 finished with value: 0.8330419580419579 and parameters: {'n_estimators': 22, 'max_depth': 5, 'learning_rate': 0.015370960219962222, 'subsample': 0.9365647645025769, 'colsample_bytree': 0.9076774428867557, 'gamma': 0.6032569597223857}. Best is trial 10 with value: 0.8330419580419579.\u001b[0m\n",
      "\u001b[32m[I 2023-04-16 22:20:23,566]\u001b[0m Trial 94 finished with value: 0.8330419580419579 and parameters: {'n_estimators': 24, 'max_depth': 5, 'learning_rate': 0.032666689372951384, 'subsample': 0.962423293960154, 'colsample_bytree': 0.918898508570229, 'gamma': 0.5697450124823324}. Best is trial 10 with value: 0.8330419580419579.\u001b[0m\n",
      "\u001b[32m[I 2023-04-16 22:20:27,455]\u001b[0m Trial 95 finished with value: 0.8027389277389276 and parameters: {'n_estimators': 38, 'max_depth': 6, 'learning_rate': 0.022169428710124235, 'subsample': 0.9465876550662162, 'colsample_bytree': 0.9415075550005702, 'gamma': 0.5120650185167264}. Best is trial 10 with value: 0.8330419580419579.\u001b[0m\n",
      "\u001b[32m[I 2023-04-16 22:20:38,002]\u001b[0m Trial 96 finished with value: 0.8005328005328005 and parameters: {'n_estimators': 129, 'max_depth': 7, 'learning_rate': 0.009842842035966626, 'subsample': 0.9774616612161643, 'colsample_bytree': 0.9582432410674045, 'gamma': 0.45569816842226524}. Best is trial 10 with value: 0.8330419580419579.\u001b[0m\n",
      "\u001b[32m[I 2023-04-16 22:20:41,554]\u001b[0m Trial 97 finished with value: 0.8170163170163169 and parameters: {'n_estimators': 32, 'max_depth': 4, 'learning_rate': 0.03740970429926055, 'subsample': 0.9919865055753017, 'colsample_bytree': 0.9495923092012718, 'gamma': 0.42686770870810986}. Best is trial 10 with value: 0.8330419580419579.\u001b[0m\n",
      "\u001b[32m[I 2023-04-16 22:20:45,288]\u001b[0m Trial 98 finished with value: 0.8330419580419579 and parameters: {'n_estimators': 36, 'max_depth': 3, 'learning_rate': 0.018888941316890992, 'subsample': 0.9997522581821764, 'colsample_bytree': 0.8926809914437099, 'gamma': 0.556387423265356}. Best is trial 10 with value: 0.8330419580419579.\u001b[0m\n",
      "\u001b[32m[I 2023-04-16 22:20:48,141]\u001b[0m Trial 99 finished with value: 0.8170163170163169 and parameters: {'n_estimators': 23, 'max_depth': 4, 'learning_rate': 0.02746171188392257, 'subsample': 0.9682061525649726, 'colsample_bytree': 0.9338940747652401, 'gamma': 0.6373930102132918}. Best is trial 10 with value: 0.8330419580419579.\u001b[0m\n"
     ]
    }
   ],
   "source": [
    "objective_func = partial(\n",
    "    objective,\n",
    "    X_train=X_train,\n",
    "    stratification_groups=stratification_groups,\n",
    "    xgb_config=xgb_config,\n",
    "    scoring=f1_score\n",
    ")\n",
    "\n",
    "study = optuna.create_study(direction='maximize')\n",
    "study.optimize(objective_func, n_trials=100)"
   ]
  },
  {
   "cell_type": "code",
   "execution_count": 47,
   "metadata": {
    "ExecuteTime": {
     "end_time": "2023-04-16T22:20:51.872799Z",
     "start_time": "2023-04-16T22:20:48.171102Z"
    }
   },
   "outputs": [],
   "source": [
    "best_params = {\n",
    "    **study.best_params,\n",
    "    **xgb_config\n",
    "}\n",
    "\n",
    "best_xgb = XGBClassifier(**best_params)\n",
    "y_pred = stratified_cross_val_predict(\n",
    "    estimator=best_xgb,\n",
    "    df=X_train,\n",
    "    stratification_groups=stratification_groups,\n",
    "    label_col='Stage',\n",
    "    n_splits=5\n",
    ")\n",
    "y_true = list(X_train['Stage'].values)"
   ]
  },
  {
   "cell_type": "code",
   "execution_count": 48,
   "metadata": {
    "ExecuteTime": {
     "end_time": "2023-04-16T22:20:51.893442Z",
     "start_time": "2023-04-16T22:20:51.877806Z"
    }
   },
   "outputs": [
    {
     "name": "stdout",
     "output_type": "stream",
     "text": [
      "              precision    recall  f1-score   support\n",
      "\n",
      "       I-III       0.90      0.97      0.94        68\n",
      "          IV       0.90      0.73      0.81        26\n",
      "\n",
      "    accuracy                           0.90        94\n",
      "   macro avg       0.90      0.85      0.87        94\n",
      "weighted avg       0.90      0.90      0.90        94\n",
      "\n"
     ]
    }
   ],
   "source": [
    "labels = list(labels_encoding.keys())\n",
    "\n",
    "report = classification_report(y_true, y_pred.astype(int), target_names=labels)\n",
    "print(report)"
   ]
  },
  {
   "cell_type": "code",
   "execution_count": 49,
   "metadata": {
    "ExecuteTime": {
     "end_time": "2023-04-16T22:20:52.094790Z",
     "start_time": "2023-04-16T22:20:51.893442Z"
    }
   },
   "outputs": [
    {
     "data": {
      "image/png": "[encoded data removed]",
      "text/plain": [
       "<Figure size 1000x600 with 2 Axes>"
      ]
     },
     "metadata": {},
     "output_type": "display_data"
    }
   ],
   "source": [
    "accuracy = accuracy_score(y_true, y_pred.astype(int))\n",
    "f1 = f1_score(y_true, y_pred.astype(int))\n",
    "cm = confusion_matrix(y_true, y_pred.astype(int))\n",
    "\n",
    "title = f'Accuracy = {accuracy*100:.2f}%, F1 = {f1:.2f}'\n",
    "\n",
    "plot_confusion_matrix(cm, labels, title)"
   ]
  },
  {
   "attachments": {},
   "cell_type": "markdown",
   "metadata": {
    "collapsed": false
   },
   "source": [
    "### Pancreatic cancer"
   ]
  },
  {
   "cell_type": "code",
   "execution_count": 50,
   "metadata": {
    "ExecuteTime": {
     "end_time": "2023-04-16T22:49:50.885073Z",
     "start_time": "2023-04-16T22:49:50.834082Z"
    },
    "collapsed": false
   },
   "outputs": [
    {
     "data": {
      "text/plain": [
       "0    73\n",
       "1    18\n",
       "Name: Stage, dtype: int64"
      ]
     },
     "execution_count": 50,
     "metadata": {},
     "output_type": "execute_result"
    }
   ],
   "source": [
    "X_train = train.loc[train['Group'] == 'Pancreatic cancer']\n",
    "\n",
    "stratification_groups = X_train.loc[:, 'Stage']\n",
    "X_train = X_train.loc[:, ~X_train.columns.isin(['ID', 'Sex', 'Age', 'Group'])]\n",
    "\n",
    "X_train.loc[:, 'Stage'] = X_train['Stage'].map(mapping).map(labels_encoding)\n",
    "X_train['Stage'].value_counts()"
   ]
  },
  {
   "cell_type": "code",
   "execution_count": 51,
   "metadata": {
    "ExecuteTime": {
     "end_time": "2023-04-16T23:00:34.708444Z",
     "start_time": "2023-04-16T22:50:01.469807Z"
    },
    "collapsed": false
   },
   "outputs": [
    {
     "name": "stderr",
     "output_type": "stream",
     "text": [
      "\u001b[32m[I 2023-04-16 22:50:01,469]\u001b[0m A new study created in memory with name: no-name-70cac32b-6c7b-4750-ac67-5f1db1b5139f\u001b[0m\n",
      "\u001b[32m[I 2023-04-16 22:50:09,083]\u001b[0m Trial 0 finished with value: 0.07142857142857144 and parameters: {'n_estimators': 97, 'max_depth': 2, 'learning_rate': 0.14016985526795556, 'subsample': 0.6269967760941645, 'colsample_bytree': 0.9122848129931367, 'gamma': 0.7736655080470576}. Best is trial 0 with value: 0.07142857142857144.\u001b[0m\n",
      "\u001b[32m[I 2023-04-16 22:50:18,648]\u001b[0m Trial 1 finished with value: 0.19642857142857145 and parameters: {'n_estimators': 125, 'max_depth': 3, 'learning_rate': 0.23523040267297152, 'subsample': 0.6726789764665421, 'colsample_bytree': 0.6830021091277684, 'gamma': 0.9255540910515715}. Best is trial 1 with value: 0.19642857142857145.\u001b[0m\n",
      "\u001b[32m[I 2023-04-16 22:50:24,854]\u001b[0m Trial 2 finished with value: 0.08333333333333334 and parameters: {'n_estimators': 76, 'max_depth': 4, 'learning_rate': 0.09373965320718326, 'subsample': 0.6398994731007737, 'colsample_bytree': 0.9699101207432391, 'gamma': 0.7471465445257511}. Best is trial 1 with value: 0.19642857142857145.\u001b[0m\n",
      "\u001b[32m[I 2023-04-16 22:50:32,525]\u001b[0m Trial 3 finished with value: 0.15476190476190477 and parameters: {'n_estimators': 96, 'max_depth': 5, 'learning_rate': 0.1919115117490708, 'subsample': 0.6905707065059148, 'colsample_bytree': 0.7385439977138488, 'gamma': 0.6210431849280278}. Best is trial 1 with value: 0.19642857142857145.\u001b[0m\n",
      "\u001b[32m[I 2023-04-16 22:50:41,437]\u001b[0m Trial 4 finished with value: 0.14285714285714288 and parameters: {'n_estimators': 113, 'max_depth': 4, 'learning_rate': 0.08173489891563748, 'subsample': 0.9529464936639807, 'colsample_bytree': 0.91746674814058, 'gamma': 0.44793410484212803}. Best is trial 1 with value: 0.19642857142857145.\u001b[0m\n",
      "\u001b[32m[I 2023-04-16 22:50:46,710]\u001b[0m Trial 5 finished with value: 0.07142857142857144 and parameters: {'n_estimators': 63, 'max_depth': 6, 'learning_rate': 0.2729435743166339, 'subsample': 0.6787012648686359, 'colsample_bytree': 0.6526332450119156, 'gamma': 0.4103598430467641}. Best is trial 1 with value: 0.19642857142857145.\u001b[0m\n",
      "\u001b[32m[I 2023-04-16 22:50:52,652]\u001b[0m Trial 6 finished with value: 0.14285714285714288 and parameters: {'n_estimators': 72, 'max_depth': 5, 'learning_rate': 0.15502354647866648, 'subsample': 0.6922128317195767, 'colsample_bytree': 0.9107891275643579, 'gamma': 0.6787865845906781}. Best is trial 1 with value: 0.19642857142857145.\u001b[0m\n",
      "\u001b[32m[I 2023-04-16 22:50:58,049]\u001b[0m Trial 7 finished with value: 0.14285714285714288 and parameters: {'n_estimators': 66, 'max_depth': 3, 'learning_rate': 0.20968891799901573, 'subsample': 0.9202834251078811, 'colsample_bytree': 0.6197906279226225, 'gamma': 0.9326000247936228}. Best is trial 1 with value: 0.19642857142857145.\u001b[0m\n",
      "\u001b[32m[I 2023-04-16 22:51:00,890]\u001b[0m Trial 8 finished with value: 0.14583333333333331 and parameters: {'n_estimators': 24, 'max_depth': 7, 'learning_rate': 0.053991902831830585, 'subsample': 0.9673749121747955, 'colsample_bytree': 0.8210701035659472, 'gamma': 0.050955394287850675}. Best is trial 1 with value: 0.19642857142857145.\u001b[0m\n",
      "\u001b[32m[I 2023-04-16 22:51:10,242]\u001b[0m Trial 9 finished with value: 0.07142857142857144 and parameters: {'n_estimators': 126, 'max_depth': 8, 'learning_rate': 0.14220816433860356, 'subsample': 0.8852237431618627, 'colsample_bytree': 0.8327489925926111, 'gamma': 0.6362053990557124}. Best is trial 1 with value: 0.19642857142857145.\u001b[0m\n",
      "\u001b[32m[I 2023-04-16 22:51:20,614]\u001b[0m Trial 10 finished with value: 0.15476190476190477 and parameters: {'n_estimators': 144, 'max_depth': 2, 'learning_rate': 0.2992732136057741, 'subsample': 0.7750526839043541, 'colsample_bytree': 0.7040362997825179, 'gamma': 0.9170926399681076}. Best is trial 1 with value: 0.19642857142857145.\u001b[0m\n",
      "\u001b[32m[I 2023-04-16 22:51:28,493]\u001b[0m Trial 11 finished with value: 0.0 and parameters: {'n_estimators': 105, 'max_depth': 5, 'learning_rate': 0.2254956660428674, 'subsample': 0.7319543126736133, 'colsample_bytree': 0.7294858849166351, 'gamma': 0.9699702211053151}. Best is trial 1 with value: 0.19642857142857145.\u001b[0m\n",
      "\u001b[32m[I 2023-04-16 22:51:39,164]\u001b[0m Trial 12 finished with value: 0.08333333333333334 and parameters: {'n_estimators': 148, 'max_depth': 4, 'learning_rate': 0.22001506767088727, 'subsample': 0.6078613862593395, 'colsample_bytree': 0.7440691921785283, 'gamma': 0.5439833000977956}. Best is trial 1 with value: 0.19642857142857145.\u001b[0m\n",
      "\u001b[32m[I 2023-04-16 22:51:48,704]\u001b[0m Trial 13 finished with value: 0.07142857142857144 and parameters: {'n_estimators': 124, 'max_depth': 6, 'learning_rate': 0.01503202569707246, 'subsample': 0.7971184998812366, 'colsample_bytree': 0.6715781683829666, 'gamma': 0.8226559975143118}. Best is trial 1 with value: 0.19642857142857145.\u001b[0m\n",
      "\u001b[32m[I 2023-04-16 22:51:55,760]\u001b[0m Trial 14 finished with value: 0.08333333333333334 and parameters: {'n_estimators': 92, 'max_depth': 3, 'learning_rate': 0.18797373965004308, 'subsample': 0.7238773061928597, 'colsample_bytree': 0.6057340074922877, 'gamma': 0.8494201337239545}. Best is trial 1 with value: 0.19642857142857145.\u001b[0m\n",
      "\u001b[32m[I 2023-04-16 22:52:00,028]\u001b[0m Trial 15 finished with value: 0.19642857142857145 and parameters: {'n_estimators': 48, 'max_depth': 3, 'learning_rate': 0.25738067312521706, 'subsample': 0.6703086839775971, 'colsample_bytree': 0.767846964842802, 'gamma': 0.9864108689564405}. Best is trial 1 with value: 0.19642857142857145.\u001b[0m\n",
      "\u001b[32m[I 2023-04-16 22:52:04,099]\u001b[0m Trial 16 finished with value: 0.2666666666666667 and parameters: {'n_estimators': 45, 'max_depth': 3, 'learning_rate': 0.2527935982617513, 'subsample': 0.6022689176923068, 'colsample_bytree': 0.7799589815139193, 'gamma': 0.9950064300318429}. Best is trial 16 with value: 0.2666666666666667.\u001b[0m\n",
      "\u001b[32m[I 2023-04-16 22:52:06,984]\u001b[0m Trial 17 finished with value: 0.18333333333333335 and parameters: {'n_estimators': 27, 'max_depth': 2, 'learning_rate': 0.2575550649025247, 'subsample': 0.6042179983606782, 'colsample_bytree': 0.7881043048308359, 'gamma': 0.8601688858328915}. Best is trial 16 with value: 0.2666666666666667.\u001b[0m\n",
      "\u001b[32m[I 2023-04-16 22:52:11,086]\u001b[0m Trial 18 finished with value: 0.15476190476190477 and parameters: {'n_estimators': 46, 'max_depth': 3, 'learning_rate': 0.23775641779405884, 'subsample': 0.8358139221141319, 'colsample_bytree': 0.6985492450851993, 'gamma': 0.9510196055807567}. Best is trial 16 with value: 0.2666666666666667.\u001b[0m\n",
      "\u001b[32m[I 2023-04-16 22:52:15,253]\u001b[0m Trial 19 finished with value: 0.125 and parameters: {'n_estimators': 47, 'max_depth': 4, 'learning_rate': 0.2896279349245434, 'subsample': 0.6488767416565219, 'colsample_bytree': 0.6606842893791017, 'gamma': 0.9890213824324716}. Best is trial 16 with value: 0.2666666666666667.\u001b[0m\n",
      "\u001b[32m[I 2023-04-16 22:52:24,242]\u001b[0m Trial 20 finished with value: 0.24285714285714288 and parameters: {'n_estimators': 124, 'max_depth': 2, 'learning_rate': 0.2509030241537253, 'subsample': 0.6088413550875567, 'colsample_bytree': 0.7886255088992794, 'gamma': 0.7630246671594009}. Best is trial 16 with value: 0.2666666666666667.\u001b[0m\n",
      "\u001b[32m[I 2023-04-16 22:52:33,727]\u001b[0m Trial 21 finished with value: 0.17142857142857143 and parameters: {'n_estimators': 132, 'max_depth': 2, 'learning_rate': 0.25454473435559427, 'subsample': 0.6097477803384765, 'colsample_bytree': 0.7945028333754796, 'gamma': 0.84294875134391}. Best is trial 16 with value: 0.2666666666666667.\u001b[0m\n",
      "\u001b[32m[I 2023-04-16 22:52:41,779]\u001b[0m Trial 22 finished with value: 0.2678571428571429 and parameters: {'n_estimators': 109, 'max_depth': 3, 'learning_rate': 0.2754302537257229, 'subsample': 0.650163044769421, 'colsample_bytree': 0.8385766782740544, 'gamma': 0.7501573909569089}. Best is trial 22 with value: 0.2678571428571429.\u001b[0m\n",
      "\u001b[32m[I 2023-04-16 22:52:49,958]\u001b[0m Trial 23 finished with value: 0.1 and parameters: {'n_estimators': 111, 'max_depth': 2, 'learning_rate': 0.2794684554133022, 'subsample': 0.6009842945473373, 'colsample_bytree': 0.8423180133118893, 'gamma': 0.7303013705586239}. Best is trial 22 with value: 0.2678571428571429.\u001b[0m\n",
      "\u001b[32m[I 2023-04-16 22:52:56,228]\u001b[0m Trial 24 finished with value: 0.225 and parameters: {'n_estimators': 82, 'max_depth': 3, 'learning_rate': 0.2996786051565591, 'subsample': 0.6423352677217132, 'colsample_bytree': 0.8613228006771683, 'gamma': 0.7653158932513894}. Best is trial 22 with value: 0.2678571428571429.\u001b[0m\n",
      "\u001b[32m[I 2023-04-16 22:53:04,778]\u001b[0m Trial 25 finished with value: 0.17142857142857143 and parameters: {'n_estimators': 116, 'max_depth': 4, 'learning_rate': 0.2689880148969571, 'subsample': 0.6323987353881299, 'colsample_bytree': 0.7746856557376763, 'gamma': 0.6957408763452038}. Best is trial 22 with value: 0.2678571428571429.\u001b[0m\n",
      "\u001b[32m[I 2023-04-16 22:53:14,498]\u001b[0m Trial 26 finished with value: 0.2678571428571429 and parameters: {'n_estimators': 135, 'max_depth': 2, 'learning_rate': 0.24800527201027797, 'subsample': 0.653929969194778, 'colsample_bytree': 0.8140842078245459, 'gamma': 0.8523617560282193}. Best is trial 22 with value: 0.2678571428571429.\u001b[0m\n",
      "\u001b[32m[I 2023-04-16 22:53:17,992]\u001b[0m Trial 27 finished with value: 0.19642857142857145 and parameters: {'n_estimators': 36, 'max_depth': 3, 'learning_rate': 0.27068596393927746, 'subsample': 0.7188327919668773, 'colsample_bytree': 0.8153026004133259, 'gamma': 0.8849251301973475}. Best is trial 22 with value: 0.2678571428571429.\u001b[0m\n",
      "\u001b[32m[I 2023-04-16 22:53:27,771]\u001b[0m Trial 28 finished with value: 0.07142857142857144 and parameters: {'n_estimators': 136, 'max_depth': 2, 'learning_rate': 0.2417978980978484, 'subsample': 0.7489314380165412, 'colsample_bytree': 0.8662198261241039, 'gamma': 0.8315976471255045}. Best is trial 22 with value: 0.2678571428571429.\u001b[0m\n",
      "\u001b[32m[I 2023-04-16 22:53:35,392]\u001b[0m Trial 29 finished with value: 0.19642857142857145 and parameters: {'n_estimators': 101, 'max_depth': 2, 'learning_rate': 0.20470140031156298, 'subsample': 0.6549940258669963, 'colsample_bytree': 0.757109727221431, 'gamma': 0.9922107789998158}. Best is trial 22 with value: 0.2678571428571429.\u001b[0m\n",
      "\u001b[32m[I 2023-04-16 22:53:45,656]\u001b[0m Trial 30 finished with value: 0.14285714285714288 and parameters: {'n_estimators': 141, 'max_depth': 4, 'learning_rate': 0.1704311106361474, 'subsample': 0.6416027309434083, 'colsample_bytree': 0.8116541087033234, 'gamma': 0.805109395570329}. Best is trial 22 with value: 0.2678571428571429.\u001b[0m\n",
      "\u001b[32m[I 2023-04-16 22:53:54,392]\u001b[0m Trial 31 finished with value: 0.15476190476190477 and parameters: {'n_estimators': 121, 'max_depth': 2, 'learning_rate': 0.2443522650522269, 'subsample': 0.6219482106749341, 'colsample_bytree': 0.7860282372066537, 'gamma': 0.7867087883380282}. Best is trial 22 with value: 0.2678571428571429.\u001b[0m\n",
      "\u001b[32m[I 2023-04-16 22:54:03,819]\u001b[0m Trial 32 finished with value: 0.19642857142857145 and parameters: {'n_estimators': 131, 'max_depth': 2, 'learning_rate': 0.2253502285418508, 'subsample': 0.6657383393443785, 'colsample_bytree': 0.7739047416287155, 'gamma': 0.9004871639617129}. Best is trial 22 with value: 0.2678571428571429.\u001b[0m\n",
      "\u001b[32m[I 2023-04-16 22:54:10,758]\u001b[0m Trial 33 finished with value: 0.07142857142857144 and parameters: {'n_estimators': 90, 'max_depth': 3, 'learning_rate': 0.28382231837423455, 'subsample': 0.6244141989675793, 'colsample_bytree': 0.7930381638742511, 'gamma': 0.8860342695063684}. Best is trial 22 with value: 0.2678571428571429.\u001b[0m\n",
      "\u001b[32m[I 2023-04-16 22:54:18,619]\u001b[0m Trial 34 finished with value: 0.14285714285714288 and parameters: {'n_estimators': 106, 'max_depth': 2, 'learning_rate': 0.25065934206930374, 'subsample': 0.6908154685297808, 'colsample_bytree': 0.8393860440960228, 'gamma': 0.7848832565514039}. Best is trial 22 with value: 0.2678571428571429.\u001b[0m\n",
      "\u001b[32m[I 2023-04-16 22:54:27,293]\u001b[0m Trial 35 finished with value: 0.14285714285714288 and parameters: {'n_estimators': 119, 'max_depth': 3, 'learning_rate': 0.23425258821670636, 'subsample': 0.629490322601283, 'colsample_bytree': 0.8056697564262627, 'gamma': 0.718026193521599}. Best is trial 22 with value: 0.2678571428571429.\u001b[0m\n",
      "\u001b[32m[I 2023-04-16 22:54:37,566]\u001b[0m Trial 36 finished with value: 0.07142857142857144 and parameters: {'n_estimators': 137, 'max_depth': 3, 'learning_rate': 0.2687576994205114, 'subsample': 0.6667090208893806, 'colsample_bytree': 0.8730886486364999, 'gamma': 0.9255745501552086}. Best is trial 22 with value: 0.2678571428571429.\u001b[0m\n",
      "\u001b[32m[I 2023-04-16 22:54:44,002]\u001b[0m Trial 37 finished with value: 0.07142857142857144 and parameters: {'n_estimators': 83, 'max_depth': 4, 'learning_rate': 0.20921726830468737, 'subsample': 0.6961525186444709, 'colsample_bytree': 0.7492742039909086, 'gamma': 0.7585552264500105}. Best is trial 22 with value: 0.2678571428571429.\u001b[0m\n",
      "\u001b[32m[I 2023-04-16 22:54:49,025]\u001b[0m Trial 38 finished with value: 0.19642857142857145 and parameters: {'n_estimators': 58, 'max_depth': 2, 'learning_rate': 0.19074856952675762, 'subsample': 0.6512442906921263, 'colsample_bytree': 0.9907702729434156, 'gamma': 0.6318624731286646}. Best is trial 22 with value: 0.2678571428571429.\u001b[0m\n",
      "\u001b[32m[I 2023-04-16 22:54:57,129]\u001b[0m Trial 39 finished with value: 0.07142857142857144 and parameters: {'n_estimators': 109, 'max_depth': 3, 'learning_rate': 0.2833194201159219, 'subsample': 0.6233277677056126, 'colsample_bytree': 0.7258591995750793, 'gamma': 0.8768379902958018}. Best is trial 22 with value: 0.2678571428571429.\u001b[0m\n",
      "\u001b[32m[I 2023-04-16 22:55:04,504]\u001b[0m Trial 40 finished with value: 0.2547619047619048 and parameters: {'n_estimators': 98, 'max_depth': 6, 'learning_rate': 0.2573231597643063, 'subsample': 0.6001463500596735, 'colsample_bytree': 0.8929297846428877, 'gamma': 0.6725888001533844}. Best is trial 22 with value: 0.2678571428571429.\u001b[0m\n",
      "\u001b[32m[I 2023-04-16 22:55:11,851]\u001b[0m Trial 41 finished with value: 0.24285714285714288 and parameters: {'n_estimators': 96, 'max_depth': 6, 'learning_rate': 0.25418018514883717, 'subsample': 0.6067497972048402, 'colsample_bytree': 0.9113728229413295, 'gamma': 0.6698165448018514}. Best is trial 22 with value: 0.2678571428571429.\u001b[0m\n",
      "\u001b[32m[I 2023-04-16 22:55:17,848]\u001b[0m Trial 42 finished with value: 0.25476190476190474 and parameters: {'n_estimators': 75, 'max_depth': 6, 'learning_rate': 0.26537849722833023, 'subsample': 0.6350857387815552, 'colsample_bytree': 0.8768849748142006, 'gamma': 0.7416509489538792}. Best is trial 22 with value: 0.2678571428571429.\u001b[0m\n",
      "\u001b[32m[I 2023-04-16 22:55:23,341]\u001b[0m Trial 43 finished with value: 0.15476190476190477 and parameters: {'n_estimators': 67, 'max_depth': 6, 'learning_rate': 0.2675985036195633, 'subsample': 0.6716453838598733, 'colsample_bytree': 0.8895469456009654, 'gamma': 0.7158450219623932}. Best is trial 22 with value: 0.2678571428571429.\u001b[0m\n",
      "\u001b[32m[I 2023-04-16 22:55:29,444]\u001b[0m Trial 44 finished with value: 0.17142857142857143 and parameters: {'n_estimators': 77, 'max_depth': 7, 'learning_rate': 0.2314421980750374, 'subsample': 0.638558015135701, 'colsample_bytree': 0.9311511624958433, 'gamma': 0.5500886704445227}. Best is trial 22 with value: 0.2678571428571429.\u001b[0m\n",
      "\u001b[32m[I 2023-04-16 22:55:34,245]\u001b[0m Trial 45 finished with value: 0.07142857142857144 and parameters: {'n_estimators': 56, 'max_depth': 5, 'learning_rate': 0.285151243418161, 'subsample': 0.6853005459570535, 'colsample_bytree': 0.8426139553436607, 'gamma': 0.9315738244334572}. Best is trial 22 with value: 0.2678571428571429.\u001b[0m\n",
      "\u001b[32m[I 2023-04-16 22:55:40,159]\u001b[0m Trial 46 finished with value: 0.29642857142857143 and parameters: {'n_estimators': 75, 'max_depth': 7, 'learning_rate': 0.2943606024127442, 'subsample': 0.6584900138145119, 'colsample_bytree': 0.8838969587084126, 'gamma': 0.808478510447969}. Best is trial 46 with value: 0.29642857142857143.\u001b[0m\n",
      "\u001b[32m[I 2023-04-16 22:55:47,699]\u001b[0m Trial 47 finished with value: 0.25 and parameters: {'n_estimators': 102, 'max_depth': 7, 'learning_rate': 0.29963077850086595, 'subsample': 0.6560307513848366, 'colsample_bytree': 0.8299364914316538, 'gamma': 0.803235038399105}. Best is trial 46 with value: 0.29642857142857143.\u001b[0m\n",
      "\u001b[32m[I 2023-04-16 22:55:54,792]\u001b[0m Trial 48 finished with value: 0.07142857142857144 and parameters: {'n_estimators': 91, 'max_depth': 8, 'learning_rate': 0.21862715660660048, 'subsample': 0.7018989506021627, 'colsample_bytree': 0.9383698056079818, 'gamma': 0.9453106073338544}. Best is trial 46 with value: 0.29642857142857143.\u001b[0m\n",
      "\u001b[32m[I 2023-04-16 22:56:05,616]\u001b[0m Trial 49 finished with value: 0.14285714285714288 and parameters: {'n_estimators': 150, 'max_depth': 7, 'learning_rate': 0.29001081867766487, 'subsample': 0.6744189916219442, 'colsample_bytree': 0.8990422800289833, 'gamma': 0.833495539382735}. Best is trial 46 with value: 0.29642857142857143.\u001b[0m\n",
      "\u001b[32m[I 2023-04-16 22:56:09,387]\u001b[0m Trial 50 finished with value: 0.29642857142857143 and parameters: {'n_estimators': 40, 'max_depth': 5, 'learning_rate': 0.27736529595667, 'subsample': 0.7065851278671259, 'colsample_bytree': 0.8168340128311816, 'gamma': 0.6713338774734274}. Best is trial 46 with value: 0.29642857142857143.\u001b[0m\n",
      "\u001b[32m[I 2023-04-16 22:56:12,850]\u001b[0m Trial 51 finished with value: 0.20833333333333334 and parameters: {'n_estimators': 36, 'max_depth': 5, 'learning_rate': 0.27250788391286934, 'subsample': 0.6570059803500881, 'colsample_bytree': 0.8568114039861106, 'gamma': 0.6660514882546622}. Best is trial 46 with value: 0.29642857142857143.\u001b[0m\n",
      "\u001b[32m[I 2023-04-16 22:56:15,322]\u001b[0m Trial 52 finished with value: 0.07142857142857144 and parameters: {'n_estimators': 20, 'max_depth': 7, 'learning_rate': 0.238012210445312, 'subsample': 0.7067480615647231, 'colsample_bytree': 0.8195009209230656, 'gamma': 0.5784274007932622}. Best is trial 46 with value: 0.29642857142857143.\u001b[0m\n",
      "\u001b[32m[I 2023-04-16 22:56:18,976]\u001b[0m Trial 53 finished with value: 0.15476190476190477 and parameters: {'n_estimators': 39, 'max_depth': 8, 'learning_rate': 0.2588839717722373, 'subsample': 0.6829482280866215, 'colsample_bytree': 0.846908377562955, 'gamma': 0.6141030615732855}. Best is trial 46 with value: 0.29642857142857143.\u001b[0m\n",
      "\u001b[32m[I 2023-04-16 22:56:21,918]\u001b[0m Trial 54 finished with value: 0.15476190476190477 and parameters: {'n_estimators': 28, 'max_depth': 5, 'learning_rate': 0.27665008392801305, 'subsample': 0.623858702323251, 'colsample_bytree': 0.8250011522939663, 'gamma': 0.686619887829126}. Best is trial 46 with value: 0.29642857142857143.\u001b[0m\n",
      "\u001b[32m[I 2023-04-16 22:56:26,388]\u001b[0m Trial 55 finished with value: 0.26587301587301587 and parameters: {'n_estimators': 52, 'max_depth': 6, 'learning_rate': 0.2885989092670165, 'subsample': 0.6004177478942055, 'colsample_bytree': 0.886926618968757, 'gamma': 0.8516220543234425}. Best is trial 46 with value: 0.29642857142857143.\u001b[0m\n",
      "\u001b[32m[I 2023-04-16 22:56:31,156]\u001b[0m Trial 56 finished with value: 0.20833333333333334 and parameters: {'n_estimators': 56, 'max_depth': 7, 'learning_rate': 0.2900869258981229, 'subsample': 0.6454300245556195, 'colsample_bytree': 0.808422867551413, 'gamma': 0.8646878606693621}. Best is trial 46 with value: 0.29642857142857143.\u001b[0m\n",
      "\u001b[32m[I 2023-04-16 22:56:35,565]\u001b[0m Trial 57 finished with value: 0.14285714285714288 and parameters: {'n_estimators': 51, 'max_depth': 6, 'learning_rate': 0.2784288057848984, 'subsample': 0.6169750834714932, 'colsample_bytree': 0.8581508536910069, 'gamma': 0.9630925747911144}. Best is trial 46 with value: 0.29642857142857143.\u001b[0m\n",
      "\u001b[32m[I 2023-04-16 22:56:39,291]\u001b[0m Trial 58 finished with value: 0.25 and parameters: {'n_estimators': 40, 'max_depth': 5, 'learning_rate': 0.2934561181234989, 'subsample': 0.6577622729164778, 'colsample_bytree': 0.8324207047725056, 'gamma': 0.907179452372434}. Best is trial 46 with value: 0.29642857142857143.\u001b[0m\n",
      "\u001b[32m[I 2023-04-16 22:56:44,425]\u001b[0m Trial 59 finished with value: 0.125 and parameters: {'n_estimators': 63, 'max_depth': 8, 'learning_rate': 0.27944728016728604, 'subsample': 0.6778380703174106, 'colsample_bytree': 0.8013576583001053, 'gamma': 0.8156936590832833}. Best is trial 46 with value: 0.29642857142857143.\u001b[0m\n",
      "\u001b[32m[I 2023-04-16 22:56:47,691]\u001b[0m Trial 60 finished with value: 0.29642857142857143 and parameters: {'n_estimators': 32, 'max_depth': 4, 'learning_rate': 0.2992042978374636, 'subsample': 0.6339836371159762, 'colsample_bytree': 0.8818710682347274, 'gamma': 0.8386668573463362}. Best is trial 46 with value: 0.29642857142857143.\u001b[0m\n",
      "\u001b[32m[I 2023-04-16 22:56:50,754]\u001b[0m Trial 61 finished with value: 0.07142857142857144 and parameters: {'n_estimators': 29, 'max_depth': 4, 'learning_rate': 0.29751045174408425, 'subsample': 0.632675207984048, 'colsample_bytree': 0.8760165033031656, 'gamma': 0.856582390090035}. Best is trial 46 with value: 0.29642857142857143.\u001b[0m\n",
      "\u001b[32m[I 2023-04-16 22:56:54,752]\u001b[0m Trial 62 finished with value: 0.07142857142857144 and parameters: {'n_estimators': 44, 'max_depth': 4, 'learning_rate': 0.2870060995501046, 'subsample': 0.6113346587703784, 'colsample_bytree': 0.8577923421445119, 'gamma': 0.7479112169406783}. Best is trial 46 with value: 0.29642857142857143.\u001b[0m\n",
      "\u001b[32m[I 2023-04-16 22:56:57,985]\u001b[0m Trial 63 finished with value: 0.14285714285714288 and parameters: {'n_estimators': 32, 'max_depth': 4, 'learning_rate': 0.26201746765488637, 'subsample': 0.6209011423780885, 'colsample_bytree': 0.8228382507615699, 'gamma': 0.7803757821434444}. Best is trial 46 with value: 0.29642857142857143.\u001b[0m\n",
      "\u001b[32m[I 2023-04-16 22:57:02,439]\u001b[0m Trial 64 finished with value: 0.125 and parameters: {'n_estimators': 51, 'max_depth': 5, 'learning_rate': 0.24638207525647465, 'subsample': 0.6436465347166903, 'colsample_bytree': 0.8502053606685072, 'gamma': 0.9975875421308334}. Best is trial 46 with value: 0.29642857142857143.\u001b[0m\n",
      "\u001b[32m[I 2023-04-16 22:57:06,433]\u001b[0m Trial 65 finished with value: 0.13392857142857145 and parameters: {'n_estimators': 44, 'max_depth': 3, 'learning_rate': 0.2995836239766506, 'subsample': 0.665275082888654, 'colsample_bytree': 0.884387341577825, 'gamma': 0.8325955179148744}. Best is trial 46 with value: 0.29642857142857143.\u001b[0m\n",
      "\u001b[32m[I 2023-04-16 22:57:09,779]\u001b[0m Trial 66 finished with value: 0.24285714285714288 and parameters: {'n_estimators': 34, 'max_depth': 4, 'learning_rate': 0.2733870644761459, 'subsample': 0.6169417169256555, 'colsample_bytree': 0.8975019932500982, 'gamma': 0.9014115422383886}. Best is trial 46 with value: 0.29642857142857143.\u001b[0m\n",
      "\u001b[32m[I 2023-04-16 22:57:13,496]\u001b[0m Trial 67 finished with value: 0.1 and parameters: {'n_estimators': 40, 'max_depth': 3, 'learning_rate': 0.26373987902718954, 'subsample': 0.6359142694995524, 'colsample_bytree': 0.8715711493674174, 'gamma': 0.802576585960525}. Best is trial 46 with value: 0.29642857142857143.\u001b[0m\n",
      "\u001b[32m[I 2023-04-16 22:57:19,043]\u001b[0m Trial 68 finished with value: 0.07142857142857144 and parameters: {'n_estimators': 69, 'max_depth': 6, 'learning_rate': 0.24651160810894118, 'subsample': 0.6032925182761161, 'colsample_bytree': 0.8459878495507716, 'gamma': 0.9428447691295987}. Best is trial 46 with value: 0.29642857142857143.\u001b[0m\n",
      "\u001b[32m[I 2023-04-16 22:57:21,645]\u001b[0m Trial 69 finished with value: 0.22619047619047622 and parameters: {'n_estimators': 22, 'max_depth': 4, 'learning_rate': 0.28912283323654947, 'subsample': 0.6442138532331873, 'colsample_bytree': 0.8337048855550625, 'gamma': 0.8605150711442221}. Best is trial 46 with value: 0.29642857142857143.\u001b[0m\n",
      "\u001b[32m[I 2023-04-16 22:57:26,696]\u001b[0m Trial 70 finished with value: 0.13392857142857145 and parameters: {'n_estimators': 61, 'max_depth': 5, 'learning_rate': 0.2781385078476205, 'subsample': 0.6606551797764896, 'colsample_bytree': 0.8134026990659062, 'gamma': 0.9149275531567951}. Best is trial 46 with value: 0.29642857142857143.\u001b[0m\n",
      "\u001b[32m[I 2023-04-16 22:57:33,992]\u001b[0m Trial 71 finished with value: 0.15476190476190477 and parameters: {'n_estimators': 96, 'max_depth': 6, 'learning_rate': 0.25916841467928814, 'subsample': 0.6008022319829376, 'colsample_bytree': 0.9009565341571388, 'gamma': 0.7196813636118957}. Best is trial 46 with value: 0.29642857142857143.\u001b[0m\n",
      "\u001b[32m[I 2023-04-16 22:57:42,497]\u001b[0m Trial 72 finished with value: 0.225 and parameters: {'n_estimators': 115, 'max_depth': 6, 'learning_rate': 0.2521672062542277, 'subsample': 0.6006965918191421, 'colsample_bytree': 0.8860734673390603, 'gamma': 0.768447461672653}. Best is trial 46 with value: 0.29642857142857143.\u001b[0m\n",
      "\u001b[32m[I 2023-04-16 22:57:50,076]\u001b[0m Trial 73 finished with value: 0.19642857142857145 and parameters: {'n_estimators': 101, 'max_depth': 5, 'learning_rate': 0.2756554569832272, 'subsample': 0.6139492076712199, 'colsample_bytree': 0.9134915471424228, 'gamma': 0.8033902515078478}. Best is trial 46 with value: 0.29642857142857143.\u001b[0m\n",
      "\u001b[32m[I 2023-04-16 22:57:56,663]\u001b[0m Trial 74 finished with value: 0.07142857142857144 and parameters: {'n_estimators': 86, 'max_depth': 6, 'learning_rate': 0.2645734858576211, 'subsample': 0.6292160868388593, 'colsample_bytree': 0.8619860149373798, 'gamma': 0.8470139141351956}. Best is trial 46 with value: 0.29642857142857143.\u001b[0m\n",
      "\u001b[32m[I 2023-04-16 22:58:01,159]\u001b[0m Trial 75 finished with value: 0.07142857142857144 and parameters: {'n_estimators': 53, 'max_depth': 7, 'learning_rate': 0.2859879682199089, 'subsample': 0.6152523225030676, 'colsample_bytree': 0.7797923178762298, 'gamma': 0.6999119948138522}. Best is trial 46 with value: 0.29642857142857143.\u001b[0m\n",
      "\u001b[32m[I 2023-04-16 22:58:05,365]\u001b[0m Trial 76 finished with value: 0.2678571428571429 and parameters: {'n_estimators': 48, 'max_depth': 3, 'learning_rate': 0.29357481106020716, 'subsample': 0.6479222147912209, 'colsample_bytree': 0.8002250401958851, 'gamma': 0.881299500143699}. Best is trial 46 with value: 0.29642857142857143.\u001b[0m\n",
      "\u001b[32m[I 2023-04-16 22:58:09,632]\u001b[0m Trial 77 finished with value: 0.19642857142857145 and parameters: {'n_estimators': 48, 'max_depth': 3, 'learning_rate': 0.29058639928989266, 'subsample': 0.6494900738640479, 'colsample_bytree': 0.8033186547705002, 'gamma': 0.8778634313137711}. Best is trial 46 with value: 0.29642857142857143.\u001b[0m\n",
      "\u001b[32m[I 2023-04-16 22:58:12,391]\u001b[0m Trial 78 finished with value: 0.07142857142857144 and parameters: {'n_estimators': 25, 'max_depth': 3, 'learning_rate': 0.27120853609042406, 'subsample': 0.6761486417846221, 'colsample_bytree': 0.7656011961137337, 'gamma': 0.9543201295140291}. Best is trial 46 with value: 0.29642857142857143.\u001b[0m\n",
      "\u001b[32m[I 2023-04-16 22:58:21,638]\u001b[0m Trial 79 finished with value: 0.07142857142857144 and parameters: {'n_estimators': 129, 'max_depth': 3, 'learning_rate': 0.2996457931938869, 'subsample': 0.6920056178957934, 'colsample_bytree': 0.7956590978447788, 'gamma': 0.8203935626019654}. Best is trial 46 with value: 0.29642857142857143.\u001b[0m\n",
      "\u001b[32m[I 2023-04-16 22:58:25,604]\u001b[0m Trial 80 finished with value: 0.07142857142857144 and parameters: {'n_estimators': 44, 'max_depth': 2, 'learning_rate': 0.2813386622195096, 'subsample': 0.6315447647741558, 'colsample_bytree': 0.8184812184464062, 'gamma': 0.9148488970381347}. Best is trial 46 with value: 0.29642857142857143.\u001b[0m\n",
      "\u001b[32m[I 2023-04-16 22:58:29,180]\u001b[0m Trial 81 finished with value: 0.15476190476190477 and parameters: {'n_estimators': 38, 'max_depth': 4, 'learning_rate': 0.25600796402541826, 'subsample': 0.6503347396445849, 'colsample_bytree': 0.7831890331762835, 'gamma': 0.7442628077339632}. Best is trial 46 with value: 0.29642857142857143.\u001b[0m\n",
      "\u001b[32m[I 2023-04-16 22:58:32,340]\u001b[0m Trial 82 finished with value: 0.15476190476190477 and parameters: {'n_estimators': 31, 'max_depth': 3, 'learning_rate': 0.2431169715459204, 'subsample': 0.621488463218505, 'colsample_bytree': 0.867301351803097, 'gamma': 0.8883355786703153}. Best is trial 46 with value: 0.29642857142857143.\u001b[0m\n",
      "\u001b[32m[I 2023-04-16 22:58:38,475]\u001b[0m Trial 83 finished with value: 0.30833333333333335 and parameters: {'n_estimators': 79, 'max_depth': 2, 'learning_rate': 0.2908608316671632, 'subsample': 0.638660287451643, 'colsample_bytree': 0.8366910925702287, 'gamma': 0.9719485471794946}. Best is trial 83 with value: 0.30833333333333335.\u001b[0m\n",
      "\u001b[32m[I 2023-04-16 22:58:45,107]\u001b[0m Trial 84 finished with value: 0.15476190476190477 and parameters: {'n_estimators': 85, 'max_depth': 2, 'learning_rate': 0.2929779952391584, 'subsample': 0.6661346167861772, 'colsample_bytree': 0.8372450828155292, 'gamma': 0.9658613737723273}. Best is trial 83 with value: 0.30833333333333335.\u001b[0m\n",
      "\u001b[32m[I 2023-04-16 22:58:51,127]\u001b[0m Trial 85 finished with value: 0.19642857142857145 and parameters: {'n_estimators': 76, 'max_depth': 2, 'learning_rate': 0.2856518610100941, 'subsample': 0.6409112123451557, 'colsample_bytree': 0.79323478328571, 'gamma': 0.9946572916595667}. Best is trial 83 with value: 0.30833333333333335.\u001b[0m\n",
      "\u001b[32m[I 2023-04-16 22:58:56,791]\u001b[0m Trial 86 finished with value: 0.25 and parameters: {'n_estimators': 70, 'max_depth': 2, 'learning_rate': 0.27056059199978316, 'subsample': 0.6833811584324153, 'colsample_bytree': 0.8289868994592928, 'gamma': 0.927052539256126}. Best is trial 83 with value: 0.30833333333333335.\u001b[0m\n",
      "\u001b[32m[I 2023-04-16 22:59:06,879]\u001b[0m Trial 87 finished with value: 0.3333333333333333 and parameters: {'n_estimators': 143, 'max_depth': 2, 'learning_rate': 0.2809108809178841, 'subsample': 0.6558336259858812, 'colsample_bytree': 0.8089286883455619, 'gamma': 0.9705507355562104}. Best is trial 87 with value: 0.3333333333333333.\u001b[0m\n",
      "\u001b[32m[I 2023-04-16 22:59:16,953]\u001b[0m Trial 88 finished with value: 0.14285714285714288 and parameters: {'n_estimators': 143, 'max_depth': 2, 'learning_rate': 0.27939905700176093, 'subsample': 0.6644068567749302, 'colsample_bytree': 0.8103858122030688, 'gamma': 0.9816533347021421}. Best is trial 87 with value: 0.3333333333333333.\u001b[0m\n",
      "\u001b[32m[I 2023-04-16 22:59:26,602]\u001b[0m Trial 89 finished with value: 0.14285714285714288 and parameters: {'n_estimators': 135, 'max_depth': 2, 'learning_rate': 0.2627132907346895, 'subsample': 0.6576956869325723, 'colsample_bytree': 0.8024738217957639, 'gamma': 0.9303976057554117}. Best is trial 87 with value: 0.3333333333333333.\u001b[0m\n",
      "\u001b[32m[I 2023-04-16 22:59:37,152]\u001b[0m Trial 90 finished with value: 0.20833333333333331 and parameters: {'n_estimators': 146, 'max_depth': 3, 'learning_rate': 0.2950732498605797, 'subsample': 0.7134376655150226, 'colsample_bytree': 0.8220408010189754, 'gamma': 0.9727549735169566}. Best is trial 87 with value: 0.3333333333333333.\u001b[0m\n",
      "\u001b[32m[I 2023-04-16 22:59:43,382]\u001b[0m Trial 91 finished with value: 0.29642857142857143 and parameters: {'n_estimators': 81, 'max_depth': 2, 'learning_rate': 0.28254787903529943, 'subsample': 0.6346096566785232, 'colsample_bytree': 0.8505144331000589, 'gamma': 0.8749502114544827}. Best is trial 87 with value: 0.3333333333333333.\u001b[0m\n",
      "\u001b[32m[I 2023-04-16 22:59:49,520]\u001b[0m Trial 92 finished with value: 0.25 and parameters: {'n_estimators': 78, 'max_depth': 2, 'learning_rate': 0.28248192090805196, 'subsample': 0.6362436498140797, 'colsample_bytree': 0.8388172004920906, 'gamma': 0.8943952736172486}. Best is trial 87 with value: 0.3333333333333333.\u001b[0m\n",
      "\u001b[32m[I 2023-04-16 22:59:55,859]\u001b[0m Trial 93 finished with value: 0.3678571428571429 and parameters: {'n_estimators': 81, 'max_depth': 2, 'learning_rate': 0.2705823730039907, 'subsample': 0.6495730228646264, 'colsample_bytree': 0.8518224643771691, 'gamma': 0.948005486924651}. Best is trial 93 with value: 0.3678571428571429.\u001b[0m\n",
      "\u001b[32m[I 2023-04-16 23:00:02,247]\u001b[0m Trial 94 finished with value: 0.20833333333333334 and parameters: {'n_estimators': 81, 'max_depth': 2, 'learning_rate': 0.2712660945763623, 'subsample': 0.6704849607235144, 'colsample_bytree': 0.8464171412122937, 'gamma': 0.8704430513135795}. Best is trial 93 with value: 0.3678571428571429.\u001b[0m\n",
      "\u001b[32m[I 2023-04-16 23:00:08,982]\u001b[0m Trial 95 finished with value: 0.125 and parameters: {'n_estimators': 88, 'max_depth': 2, 'learning_rate': 0.29425841436914646, 'subsample': 0.6474900256262993, 'colsample_bytree': 0.828281916773322, 'gamma': 0.9487445616387711}. Best is trial 93 with value: 0.3678571428571429.\u001b[0m\n",
      "\u001b[32m[I 2023-04-16 23:00:16,170]\u001b[0m Trial 96 finished with value: 0.125 and parameters: {'n_estimators': 93, 'max_depth': 2, 'learning_rate': 0.275367121179946, 'subsample': 0.6882398545282186, 'colsample_bytree': 0.8480991667933405, 'gamma': 0.829625601773783}. Best is trial 93 with value: 0.3678571428571429.\u001b[0m\n",
      "\u001b[32m[I 2023-04-16 23:00:22,100]\u001b[0m Trial 97 finished with value: 0.07142857142857144 and parameters: {'n_estimators': 73, 'max_depth': 2, 'learning_rate': 0.2667508167886443, 'subsample': 0.6768837714566951, 'colsample_bytree': 0.8533981076873881, 'gamma': 0.7857385041718262}. Best is trial 93 with value: 0.3678571428571429.\u001b[0m\n",
      "\u001b[32m[I 2023-04-16 23:00:28,459]\u001b[0m Trial 98 finished with value: 0.25 and parameters: {'n_estimators': 81, 'max_depth': 2, 'learning_rate': 0.28190825445903794, 'subsample': 0.6539016865419035, 'colsample_bytree': 0.8668918183532618, 'gamma': 0.8853340344150105}. Best is trial 93 with value: 0.3678571428571429.\u001b[0m\n",
      "\u001b[32m[I 2023-04-16 23:00:34,692]\u001b[0m Trial 99 finished with value: 0.07142857142857144 and parameters: {'n_estimators': 79, 'max_depth': 2, 'learning_rate': 0.29273245507020634, 'subsample': 0.6284205027422769, 'colsample_bytree': 0.8400969442957559, 'gamma': 0.905528647508928}. Best is trial 93 with value: 0.3678571428571429.\u001b[0m\n"
     ]
    }
   ],
   "source": [
    "objective_func = partial(\n",
    "    objective,\n",
    "    X_train=X_train,\n",
    "    stratification_groups=stratification_groups,\n",
    "    xgb_config=xgb_config,\n",
    "    scoring=f1_score\n",
    ")\n",
    "\n",
    "study = optuna.create_study(direction='maximize')\n",
    "study.optimize(objective_func, n_trials=100)"
   ]
  },
  {
   "cell_type": "code",
   "execution_count": 52,
   "metadata": {
    "ExecuteTime": {
     "end_time": "2023-04-16T23:00:42.498300Z",
     "start_time": "2023-04-16T23:00:34.708444Z"
    },
    "collapsed": false
   },
   "outputs": [],
   "source": [
    "best_params = {\n",
    "    **study.best_params,\n",
    "    **xgb_config\n",
    "}\n",
    "\n",
    "best_xgb = XGBClassifier(**best_params)\n",
    "y_pred = stratified_cross_val_predict(\n",
    "    estimator=best_xgb,\n",
    "    df=X_train,\n",
    "    stratification_groups=stratification_groups,\n",
    "    label_col='Stage',\n",
    "    n_splits=5\n",
    ")\n",
    "y_true = list(X_train['Stage'].values)"
   ]
  },
  {
   "cell_type": "code",
   "execution_count": 53,
   "metadata": {
    "ExecuteTime": {
     "end_time": "2023-04-16T23:00:42.513931Z",
     "start_time": "2023-04-16T23:00:42.498300Z"
    },
    "collapsed": false
   },
   "outputs": [
    {
     "name": "stdout",
     "output_type": "stream",
     "text": [
      "              precision    recall  f1-score   support\n",
      "\n",
      "       I-III       0.81      0.97      0.88        73\n",
      "          IV       0.33      0.06      0.10        18\n",
      "\n",
      "    accuracy                           0.79        91\n",
      "   macro avg       0.57      0.51      0.49        91\n",
      "weighted avg       0.71      0.79      0.73        91\n",
      "\n"
     ]
    }
   ],
   "source": [
    "labels = list(labels_encoding.keys())\n",
    "\n",
    "report = classification_report(y_true, y_pred.astype(int), target_names=labels)\n",
    "print(report)"
   ]
  },
  {
   "cell_type": "code",
   "execution_count": 54,
   "metadata": {
    "ExecuteTime": {
     "end_time": "2023-04-16T23:00:42.695095Z",
     "start_time": "2023-04-16T23:00:42.513931Z"
    },
    "collapsed": false
   },
   "outputs": [
    {
     "data": {
      "image/png": "[encoded data removed]",
      "text/plain": [
       "<Figure size 1000x600 with 2 Axes>"
      ]
     },
     "metadata": {},
     "output_type": "display_data"
    }
   ],
   "source": [
    "accuracy = accuracy_score(y_true, y_pred.astype(int))\n",
    "f1 = f1_score(y_true, y_pred.astype(int))\n",
    "cm = confusion_matrix(y_true, y_pred.astype(int))\n",
    "\n",
    "title = f'Accuracy = {accuracy*100:.2f}%, F1 = {f1:.2f}'\n",
    "\n",
    "plot_confusion_matrix(cm, labels, title)"
   ]
  }
 ],
 "metadata": {
  "kernelspec": {
   "display_name": "Python 3 (ipykernel)",
   "language": "python",
   "name": "python3"
  },
  "language_info": {
   "codemirror_mode": {
    "name": "ipython",
    "version": 3
   },
   "file_extension": ".py",
   "mimetype": "text/x-python",
   "name": "python",
   "nbconvert_exporter": "python",
   "pygments_lexer": "ipython3",
   "version": "3.10.9"
  }
 },
 "nbformat": 4,
 "nbformat_minor": 1
}
